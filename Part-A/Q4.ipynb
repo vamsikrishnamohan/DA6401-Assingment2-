{
  "cells": [
    {
      "cell_type": "markdown",
      "metadata": {
        "id": "vDrwEl7lak2W"
      },
      "source": [
        "# Part A -Q4  Running best model obtained from training on test dataset"
      ]
    },
    {
      "cell_type": "code",
      "execution_count": null,
      "metadata": {
        "colab": {
          "base_uri": "https://localhost:8080/"
        },
        "id": "gWDH-ZskXykE",
        "outputId": "88a3944e-e176-41be-e5c9-6692fd66ba75"
      },
      "outputs": [
        {
          "name": "stdout",
          "output_type": "stream",
          "text": [
            "Found 10000 files belonging to 10 classes.\n"
          ]
        }
      ],
      "source": [
        "\n",
        "import torch\n",
        "import wandb\n",
        "import pytorch_lightning as pl\n",
        "import matplotlib.pyplot as plt\n",
        "from pytorch_lightning.callbacks import ModelCheckpoint\n",
        "from pytorch_lightning.loggers import WandbLogger\n",
        "from kaggle_secrets import UserSecretsClient\n",
        "from torchvision.utils import make_grid\n",
        "from data_loading import INaturalistDataModule\n",
        "from simpleCNN import SimpleCNN\n",
        "\n",
        "\n"
      ]
    },
    {
      "cell_type": "code",
      "execution_count": null,
      "metadata": {
        "colab": {
          "base_uri": "https://localhost:8080/"
        },
        "id": "Yz69K-zMYGqC",
        "outputId": "9d8ab02d-5954-4972-c0a6-cc54a0218403"
      },
      "outputs": [
        {
          "name": "stdout",
          "output_type": "stream",
          "text": [
            "Found 10000 images belonging to 10 classes.\n"
          ]
        }
      ],
      "source": [
        "################################################################\n",
        "# Preparing Test Dataset\n",
        "################################################################\n",
        "\n",
        "data_module = INaturalistDataModule(\n",
        "    data_dir='/kaggle/input/inaturalist-dataset/inaturalist_12K',\n",
        "    batch_size=64,\n",
        "    use_augmentation=False\n",
        ")\n",
        "data_module.setup()\n",
        "\n",
        "test_loader = data_module.test_dataloader()"
      ]
    },
    {
      "cell_type": "markdown",
      "metadata": {
        "id": "bWCxGz0ya27_"
      },
      "source": [
        "# Specifying the hyperparameters"
      ]
    },
    {
      "cell_type": "code",
      "execution_count": null,
      "metadata": {
        "id": "3mMObacCYr6G"
      },
      "outputs": [],
      "source": [
        "###################################################\n",
        "# Optimal hyperparameters can be specified here\n",
        "###################################################\n",
        "\n",
        "best_model = SimpleCNN(\n",
        "    conv_filters=[32, 64, 128, 256, 512], \n",
        "    conv_kernel_sizes=[3, 3, 3, 3, 3],\n",
        "    conv_activation=\"GeLU\",\n",
        "    dense_neurons=256,\n",
        "    dense_activation=\"SiLU\",\n",
        "    dropout=0.3,\n",
        "    use_batchnorm=True,\n",
        "    lr=0.0001\n",
        ")"
      ]
    },
    {
      "cell_type": "markdown",
      "metadata": {
        "id": "OeciBH1vbtLa"
      },
      "source": [
        "# Training the model and evaluating on test data"
      ]
    },
    {
      "cell_type": "code",
      "execution_count": null,
      "metadata": {
        "colab": {
          "base_uri": "https://localhost:8080/"
        },
        "id": "-edNTk9FY-P9",
        "outputId": "ecd6af96-9603-42d7-8890-349871f1d372"
      },
      "outputs": [],
      "source": [
        "# load WandB API Key from Kaggle Secrets\n",
        "user_secrets = UserSecretsClient()\n",
        "wandb_key = user_secrets.get_secret(\"wandb\")\n",
        "wandb.login(key=wandb_key)\n",
        "\n",
        "#  Initialize WandB Project\n",
        "wandb.init(project=\"Simple_cnn\", name=\"best_model_eval\")\n",
        "\n",
        "# Load WandB Logger\n",
        "wandb_logger = WandbLogger(project=\"Simple_cnn\", log_model=\"all\")\n",
        "\n",
        "\n",
        "trainer = pl.Trainer(\n",
        "    max_epochs=10,\n",
        "    logger=wandb_logger,\n",
        ")\n",
        "\n",
        "trainer.fit(best_model, data_module)\n",
        "\n",
        "test_results = trainer.test(best_model, test_loader)\n",
        "test_accuracy = test_results[0]['test_acc']\n",
        "\n",
        "\n",
        "wandb.log({\"Test Accuracy\": test_accuracy})\n"
      ]
    },
    {
      "cell_type": "markdown",
      "metadata": {},
      "source": [
        "## Plotting 10x3 predicted images and logging plot to wandb"
      ]
    },
    {
      "cell_type": "code",
      "execution_count": null,
      "metadata": {
        "id": "VdkQuDrRLEtd"
      },
      "outputs": [],
      "source": [
        "def log_test_predictions(model, dataloader, num_classes=10, num_per_class=3):\n",
        "    model.eval()\n",
        "    class_images = {i: [] for i in range(num_classes)}  # Store images per class\n",
        "\n",
        "    with torch.no_grad():\n",
        "        for images, labels in dataloader:\n",
        "            outputs = model(images)\n",
        "            preds = torch.argmax(outputs, dim=1)\n",
        "\n",
        "            # Collect 3 images per class\n",
        "            for img, label, pred in zip(images, labels, preds):\n",
        "                if len(class_images[label.item()]) < num_per_class:\n",
        "                    class_images[label.item()].append((img, pred.item()))\n",
        "\n",
        "            # Stop if we have enough samples\n",
        "            if all(len(class_images[i]) == num_per_class for i in range(num_classes)):\n",
        "                break\n",
        "\n",
        "    # Create a grid\n",
        "    fig, axes = plt.subplots(num_classes, num_per_class, figsize=(num_per_class * 3, num_classes * 3))\n",
        "    \n",
        "    for class_idx, ax_row in enumerate(axes):\n",
        "        for img_idx, ax in enumerate(ax_row):\n",
        "            if class_idx in class_images and len(class_images[class_idx]) > img_idx:\n",
        "                img, pred_label = class_images[class_idx][img_idx]\n",
        "                img = img.permute(1, 2, 0).cpu().numpy()\n",
        "\n",
        "                ax.imshow(img)\n",
        "                ax.set_title(f\"Pred: {pred_label}\", fontsize=10)\n",
        "                ax.axis(\"off\")\n",
        "\n",
        "    plt.tight_layout()\n",
        "\n",
        "    # Log Grid to WandB\n",
        "    wandb.log({\"Test Predictions\": wandb.Image(fig, caption=\"Per-Class Predictions (10x3)\")})\n",
        "    plt.close(fig)\n",
        "\n",
        "\n",
        "# Call the function after testing\n",
        "test_dataloader = data_module.test_dataloader()\n",
        "log_test_predictions(best_model, test_dataloader)\n",
        "\n",
        "wandb.finish()"
      ]
    }
  ],
  "metadata": {
    "accelerator": "GPU",
    "colab": {
      "collapsed_sections": [],
      "name": "PartA-Q4.ipynb",
      "provenance": []
    },
    "kernelspec": {
      "display_name": "Python 3",
      "name": "python3"
    },
    "language_info": {
      "codemirror_mode": {
        "name": "ipython",
        "version": 3
      },
      "file_extension": ".py",
      "mimetype": "text/x-python",
      "name": "python",
      "nbconvert_exporter": "python",
      "pygments_lexer": "ipython3",
      "version": "3.11.3"
    },
    "widgets": {
      "application/vnd.jupyter.widget-state+json": {
        "1997041747b14070bbbf8caddb9facb6": {
          "model_module": "@jupyter-widgets/base",
          "model_name": "LayoutModel",
          "state": {
            "_model_module": "@jupyter-widgets/base",
            "_model_module_version": "1.2.0",
            "_model_name": "LayoutModel",
            "_view_count": null,
            "_view_module": "@jupyter-widgets/base",
            "_view_module_version": "1.2.0",
            "_view_name": "LayoutView",
            "align_content": null,
            "align_items": null,
            "align_self": null,
            "border": null,
            "bottom": null,
            "display": null,
            "flex": null,
            "flex_flow": null,
            "grid_area": null,
            "grid_auto_columns": null,
            "grid_auto_flow": null,
            "grid_auto_rows": null,
            "grid_column": null,
            "grid_gap": null,
            "grid_row": null,
            "grid_template_areas": null,
            "grid_template_columns": null,
            "grid_template_rows": null,
            "height": null,
            "justify_content": null,
            "justify_items": null,
            "left": null,
            "margin": null,
            "max_height": null,
            "max_width": null,
            "min_height": null,
            "min_width": null,
            "object_fit": null,
            "object_position": null,
            "order": null,
            "overflow": null,
            "overflow_x": null,
            "overflow_y": null,
            "padding": null,
            "right": null,
            "top": null,
            "visibility": null,
            "width": null
          }
        },
        "2eecc4b759524ca1a01466360e7fa95e": {
          "model_module": "@jupyter-widgets/base",
          "model_name": "LayoutModel",
          "state": {
            "_model_module": "@jupyter-widgets/base",
            "_model_module_version": "1.2.0",
            "_model_name": "LayoutModel",
            "_view_count": null,
            "_view_module": "@jupyter-widgets/base",
            "_view_module_version": "1.2.0",
            "_view_name": "LayoutView",
            "align_content": null,
            "align_items": null,
            "align_self": null,
            "border": null,
            "bottom": null,
            "display": null,
            "flex": null,
            "flex_flow": null,
            "grid_area": null,
            "grid_auto_columns": null,
            "grid_auto_flow": null,
            "grid_auto_rows": null,
            "grid_column": null,
            "grid_gap": null,
            "grid_row": null,
            "grid_template_areas": null,
            "grid_template_columns": null,
            "grid_template_rows": null,
            "height": null,
            "justify_content": null,
            "justify_items": null,
            "left": null,
            "margin": null,
            "max_height": null,
            "max_width": null,
            "min_height": null,
            "min_width": null,
            "object_fit": null,
            "object_position": null,
            "order": null,
            "overflow": null,
            "overflow_x": null,
            "overflow_y": null,
            "padding": null,
            "right": null,
            "top": null,
            "visibility": null,
            "width": null
          }
        },
        "441260a57b8843cfb1054e8bc7143a07": {
          "model_module": "@jupyter-widgets/controls",
          "model_name": "ProgressStyleModel",
          "state": {
            "_model_module": "@jupyter-widgets/controls",
            "_model_module_version": "1.5.0",
            "_model_name": "ProgressStyleModel",
            "_view_count": null,
            "_view_module": "@jupyter-widgets/base",
            "_view_module_version": "1.2.0",
            "_view_name": "StyleView",
            "bar_color": null,
            "description_width": ""
          }
        },
        "4fe1aff88eca4060b04011de42c3ae1c": {
          "model_module": "@jupyter-widgets/base",
          "model_name": "LayoutModel",
          "state": {
            "_model_module": "@jupyter-widgets/base",
            "_model_module_version": "1.2.0",
            "_model_name": "LayoutModel",
            "_view_count": null,
            "_view_module": "@jupyter-widgets/base",
            "_view_module_version": "1.2.0",
            "_view_name": "LayoutView",
            "align_content": null,
            "align_items": null,
            "align_self": null,
            "border": null,
            "bottom": null,
            "display": null,
            "flex": null,
            "flex_flow": null,
            "grid_area": null,
            "grid_auto_columns": null,
            "grid_auto_flow": null,
            "grid_auto_rows": null,
            "grid_column": null,
            "grid_gap": null,
            "grid_row": null,
            "grid_template_areas": null,
            "grid_template_columns": null,
            "grid_template_rows": null,
            "height": null,
            "justify_content": null,
            "justify_items": null,
            "left": null,
            "margin": null,
            "max_height": null,
            "max_width": null,
            "min_height": null,
            "min_width": null,
            "object_fit": null,
            "object_position": null,
            "order": null,
            "overflow": null,
            "overflow_x": null,
            "overflow_y": null,
            "padding": null,
            "right": null,
            "top": null,
            "visibility": null,
            "width": null
          }
        },
        "542c8d82cd294e6e83c463c0ed21561d": {
          "model_module": "@jupyter-widgets/controls",
          "model_name": "VBoxModel",
          "state": {
            "_dom_classes": [],
            "_model_module": "@jupyter-widgets/controls",
            "_model_module_version": "1.5.0",
            "_model_name": "VBoxModel",
            "_view_count": null,
            "_view_module": "@jupyter-widgets/controls",
            "_view_module_version": "1.5.0",
            "_view_name": "VBoxView",
            "box_style": "",
            "children": [
              "IPY_MODEL_d58ab1170c4e4c039f1a95f36a0322ae",
              "IPY_MODEL_9e005ee45e2c4c648dc180feaade133c"
            ],
            "layout": "IPY_MODEL_60b8030b9eba4bcc97d986ff3abc04be"
          }
        },
        "60b8030b9eba4bcc97d986ff3abc04be": {
          "model_module": "@jupyter-widgets/base",
          "model_name": "LayoutModel",
          "state": {
            "_model_module": "@jupyter-widgets/base",
            "_model_module_version": "1.2.0",
            "_model_name": "LayoutModel",
            "_view_count": null,
            "_view_module": "@jupyter-widgets/base",
            "_view_module_version": "1.2.0",
            "_view_name": "LayoutView",
            "align_content": null,
            "align_items": null,
            "align_self": null,
            "border": null,
            "bottom": null,
            "display": null,
            "flex": null,
            "flex_flow": null,
            "grid_area": null,
            "grid_auto_columns": null,
            "grid_auto_flow": null,
            "grid_auto_rows": null,
            "grid_column": null,
            "grid_gap": null,
            "grid_row": null,
            "grid_template_areas": null,
            "grid_template_columns": null,
            "grid_template_rows": null,
            "height": null,
            "justify_content": null,
            "justify_items": null,
            "left": null,
            "margin": null,
            "max_height": null,
            "max_width": null,
            "min_height": null,
            "min_width": null,
            "object_fit": null,
            "object_position": null,
            "order": null,
            "overflow": null,
            "overflow_x": null,
            "overflow_y": null,
            "padding": null,
            "right": null,
            "top": null,
            "visibility": null,
            "width": null
          }
        },
        "6fdae77c0c6540318d1f51734d8bf7ab": {
          "model_module": "@jupyter-widgets/controls",
          "model_name": "VBoxModel",
          "state": {
            "_dom_classes": [],
            "_model_module": "@jupyter-widgets/controls",
            "_model_module_version": "1.5.0",
            "_model_name": "VBoxModel",
            "_view_count": null,
            "_view_module": "@jupyter-widgets/controls",
            "_view_module_version": "1.5.0",
            "_view_name": "VBoxView",
            "box_style": "",
            "children": [
              "IPY_MODEL_cefffd3901584ef49570f3a45c8fe0bb",
              "IPY_MODEL_d17809abade94c469449dce8c65b4ad5"
            ],
            "layout": "IPY_MODEL_1997041747b14070bbbf8caddb9facb6"
          }
        },
        "77559291a26d4f5aa942a14a3ec5d15c": {
          "model_module": "@jupyter-widgets/base",
          "model_name": "LayoutModel",
          "state": {
            "_model_module": "@jupyter-widgets/base",
            "_model_module_version": "1.2.0",
            "_model_name": "LayoutModel",
            "_view_count": null,
            "_view_module": "@jupyter-widgets/base",
            "_view_module_version": "1.2.0",
            "_view_name": "LayoutView",
            "align_content": null,
            "align_items": null,
            "align_self": null,
            "border": null,
            "bottom": null,
            "display": null,
            "flex": null,
            "flex_flow": null,
            "grid_area": null,
            "grid_auto_columns": null,
            "grid_auto_flow": null,
            "grid_auto_rows": null,
            "grid_column": null,
            "grid_gap": null,
            "grid_row": null,
            "grid_template_areas": null,
            "grid_template_columns": null,
            "grid_template_rows": null,
            "height": null,
            "justify_content": null,
            "justify_items": null,
            "left": null,
            "margin": null,
            "max_height": null,
            "max_width": null,
            "min_height": null,
            "min_width": null,
            "object_fit": null,
            "object_position": null,
            "order": null,
            "overflow": null,
            "overflow_x": null,
            "overflow_y": null,
            "padding": null,
            "right": null,
            "top": null,
            "visibility": null,
            "width": null
          }
        },
        "9e005ee45e2c4c648dc180feaade133c": {
          "model_module": "@jupyter-widgets/controls",
          "model_name": "FloatProgressModel",
          "state": {
            "_dom_classes": [],
            "_model_module": "@jupyter-widgets/controls",
            "_model_module_version": "1.5.0",
            "_model_name": "FloatProgressModel",
            "_view_count": null,
            "_view_module": "@jupyter-widgets/controls",
            "_view_module_version": "1.5.0",
            "_view_name": "ProgressView",
            "bar_style": "",
            "description": "",
            "description_tooltip": null,
            "layout": "IPY_MODEL_4fe1aff88eca4060b04011de42c3ae1c",
            "max": 1,
            "min": 0,
            "orientation": "horizontal",
            "style": "IPY_MODEL_441260a57b8843cfb1054e8bc7143a07",
            "value": 1
          }
        },
        "ad5605ba16e3464391b862ccc712bf75": {
          "model_module": "@jupyter-widgets/controls",
          "model_name": "DescriptionStyleModel",
          "state": {
            "_model_module": "@jupyter-widgets/controls",
            "_model_module_version": "1.5.0",
            "_model_name": "DescriptionStyleModel",
            "_view_count": null,
            "_view_module": "@jupyter-widgets/base",
            "_view_module_version": "1.2.0",
            "_view_name": "StyleView",
            "description_width": ""
          }
        },
        "af906a264f8e4d7c8cf33d5e18e72039": {
          "model_module": "@jupyter-widgets/controls",
          "model_name": "ProgressStyleModel",
          "state": {
            "_model_module": "@jupyter-widgets/controls",
            "_model_module_version": "1.5.0",
            "_model_name": "ProgressStyleModel",
            "_view_count": null,
            "_view_module": "@jupyter-widgets/base",
            "_view_module_version": "1.2.0",
            "_view_name": "StyleView",
            "bar_color": null,
            "description_width": ""
          }
        },
        "cefffd3901584ef49570f3a45c8fe0bb": {
          "model_module": "@jupyter-widgets/controls",
          "model_name": "LabelModel",
          "state": {
            "_dom_classes": [],
            "_model_module": "@jupyter-widgets/controls",
            "_model_module_version": "1.5.0",
            "_model_name": "LabelModel",
            "_view_count": null,
            "_view_module": "@jupyter-widgets/controls",
            "_view_module_version": "1.5.0",
            "_view_name": "LabelView",
            "description": "",
            "description_tooltip": null,
            "layout": "IPY_MODEL_e2100422ea334d24826f8cd17e179d5b",
            "placeholder": "​",
            "style": "IPY_MODEL_ad5605ba16e3464391b862ccc712bf75",
            "value": " 0.03MB of 0.03MB uploaded (0.00MB deduped)\r"
          }
        },
        "d17809abade94c469449dce8c65b4ad5": {
          "model_module": "@jupyter-widgets/controls",
          "model_name": "FloatProgressModel",
          "state": {
            "_dom_classes": [],
            "_model_module": "@jupyter-widgets/controls",
            "_model_module_version": "1.5.0",
            "_model_name": "FloatProgressModel",
            "_view_count": null,
            "_view_module": "@jupyter-widgets/controls",
            "_view_module_version": "1.5.0",
            "_view_name": "ProgressView",
            "bar_style": "",
            "description": "",
            "description_tooltip": null,
            "layout": "IPY_MODEL_2eecc4b759524ca1a01466360e7fa95e",
            "max": 1,
            "min": 0,
            "orientation": "horizontal",
            "style": "IPY_MODEL_af906a264f8e4d7c8cf33d5e18e72039",
            "value": 1
          }
        },
        "d58ab1170c4e4c039f1a95f36a0322ae": {
          "model_module": "@jupyter-widgets/controls",
          "model_name": "LabelModel",
          "state": {
            "_dom_classes": [],
            "_model_module": "@jupyter-widgets/controls",
            "_model_module_version": "1.5.0",
            "_model_name": "LabelModel",
            "_view_count": null,
            "_view_module": "@jupyter-widgets/controls",
            "_view_module_version": "1.5.0",
            "_view_name": "LabelView",
            "description": "",
            "description_tooltip": null,
            "layout": "IPY_MODEL_77559291a26d4f5aa942a14a3ec5d15c",
            "placeholder": "​",
            "style": "IPY_MODEL_f67ec7fc134c4b8789ecfe57d62cf1b0",
            "value": " 3.71MB of 3.71MB uploaded (0.00MB deduped)\r"
          }
        },
        "e2100422ea334d24826f8cd17e179d5b": {
          "model_module": "@jupyter-widgets/base",
          "model_name": "LayoutModel",
          "state": {
            "_model_module": "@jupyter-widgets/base",
            "_model_module_version": "1.2.0",
            "_model_name": "LayoutModel",
            "_view_count": null,
            "_view_module": "@jupyter-widgets/base",
            "_view_module_version": "1.2.0",
            "_view_name": "LayoutView",
            "align_content": null,
            "align_items": null,
            "align_self": null,
            "border": null,
            "bottom": null,
            "display": null,
            "flex": null,
            "flex_flow": null,
            "grid_area": null,
            "grid_auto_columns": null,
            "grid_auto_flow": null,
            "grid_auto_rows": null,
            "grid_column": null,
            "grid_gap": null,
            "grid_row": null,
            "grid_template_areas": null,
            "grid_template_columns": null,
            "grid_template_rows": null,
            "height": null,
            "justify_content": null,
            "justify_items": null,
            "left": null,
            "margin": null,
            "max_height": null,
            "max_width": null,
            "min_height": null,
            "min_width": null,
            "object_fit": null,
            "object_position": null,
            "order": null,
            "overflow": null,
            "overflow_x": null,
            "overflow_y": null,
            "padding": null,
            "right": null,
            "top": null,
            "visibility": null,
            "width": null
          }
        },
        "f67ec7fc134c4b8789ecfe57d62cf1b0": {
          "model_module": "@jupyter-widgets/controls",
          "model_name": "DescriptionStyleModel",
          "state": {
            "_model_module": "@jupyter-widgets/controls",
            "_model_module_version": "1.5.0",
            "_model_name": "DescriptionStyleModel",
            "_view_count": null,
            "_view_module": "@jupyter-widgets/base",
            "_view_module_version": "1.2.0",
            "_view_name": "StyleView",
            "description_width": ""
          }
        }
      }
    }
  },
  "nbformat": 4,
  "nbformat_minor": 0
}
