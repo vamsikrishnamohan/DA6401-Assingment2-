{
  "cells": [
    {
      "cell_type": "markdown",
      "metadata": {},
      "source": [
        "## Part A : Q1 -Q3"
      ]
    },
    {
      "cell_type": "code",
      "execution_count": null,
      "metadata": {
        "colab": {
          "base_uri": "https://localhost:8080/"
        },
        "id": "QiDt6t63mSq4",
        "outputId": "cca8e2d5-2017-43eb-9f70-8f1fd6921184"
      },
      "outputs": [],
      "source": [
        "import torch\n",
        "import torch.nn as nn\n",
        "import torch.nn.functional as F\n",
        "import pytorch_lightning as pl\n",
        "import torchvision\n",
        "import torchvision.transforms as transforms\n",
        "from torch.utils.data import DataLoader, random_split\n",
        "import wandb\n",
        "from pytorch_lightning.loggers import WandbLogger\n",
        "from pytorch_lightning.callbacks import ModelCheckpoint\n",
        "from kaggle_secrets import UserSecretsClient # used in kaggle to support wandb \n",
        "from data_loading import INaturalistDataModule\n",
        "from simpleCNN import SimpleCNN"
      ]
    },
    {
      "cell_type": "code",
      "execution_count": null,
      "metadata": {
        "colab": {
          "base_uri": "https://localhost:8080/"
        },
        "id": "vbdra0Y50WR4",
        "outputId": "9fd6f0c3-47bd-4940-cc05-5516691ac1ed"
      },
      "outputs": [
        {
          "name": "stdout",
          "output_type": "stream",
          "text": [
            "Found 8001 images belonging to 10 classes.\n",
            "Found 1999 images belonging to 10 classes.\n"
          ]
        }
      ],
      "source": [
        "################################################################\n",
        "# Preparing Dataset with and without augmentation \n",
        "################################################################\n",
        "class INaturalistDataModule(pl.LightningDataModule):\n",
        "    def __init__(self, data_dir, batch_size=32, num_workers=4, valid_split=0.2, use_augmentation=True):\n",
        "        super().__init__()\n",
        "        self.data_dir = data_dir\n",
        "        self.batch_size = batch_size\n",
        "        self.num_workers = num_workers\n",
        "        self.valid_split = valid_split\n",
        "        self.use_augmentation = use_augmentation  # Enable/Disable augmentation\n",
        "\n",
        "        # Mean and std from ImageNet (often used for natural image datasets)\n",
        "        self.mean = [0.485, 0.456, 0.406]\n",
        "        self.std = [0.229, 0.224, 0.225]\n",
        "\n",
        "        # **Train Transform with Data Augmentation**\n",
        "        if self.use_augmentation:\n",
        "            self.train_transform = transforms.Compose([\n",
        "                transforms.Resize((224, 224)),  \n",
        "                transforms.RandomHorizontalFlip(),  # Flip images randomly\n",
        "                transforms.RandomRotation(10),  # Rotate within + or - 10 degrees\n",
        "                transforms.ColorJitter(brightness=0.2, contrast=0.2, saturation=0.2, hue=0.1),  # Adjust colors\n",
        "                transforms.ToTensor(),\n",
        "                transforms.Normalize(self.mean, self.std)  # Normalize\n",
        "            ])\n",
        "        else:\n",
        "            self.train_transform = transforms.Compose([\n",
        "                transforms.Resize((224, 224)),\n",
        "                transforms.ToTensor(),\n",
        "                transforms.Normalize(self.mean, self.std)\n",
        "            ])\n",
        "\n",
        "        # **Validation & Test Transform (No Augmentation)**\n",
        "        self.test_transform = transforms.Compose([\n",
        "            transforms.Resize((224, 224)),\n",
        "            transforms.ToTensor(),\n",
        "            transforms.Normalize(self.mean, self.std)\n",
        "        ])\n",
        "    \n",
        "    def setup(self, stage=None):\n",
        "        # Load dataset\n",
        "        full_train_dataset = torchvision.datasets.ImageFolder(root=f'{self.data_dir}/train', transform=self.train_transform)\n",
        "        self.test_dataset = torchvision.datasets.ImageFolder(root=f'{self.data_dir}/val', transform=self.test_transform)\n",
        "\n",
        "        # **Split train dataset into train (80%) & validation (20%)**\n",
        "        total = len(full_train_dataset)\n",
        "        val_size = int(total * self.valid_split)\n",
        "        train_size = total - val_size\n",
        "        self.train_dataset, self.val_dataset = random_split(full_train_dataset, [train_size, val_size])\n",
        "\n",
        "        # **Set validation transform separately**\n",
        "        self.val_dataset.dataset.transform = self.test_transform\n",
        "        return self.train_dataset,self.val_dataset,self.test_dataset\n",
        "\n",
        "    def train_dataloader(self):\n",
        "        return DataLoader(self.train_dataset, batch_size=self.batch_size, shuffle=True, num_workers=self.num_workers)\n",
        "\n",
        "    def val_dataloader(self):\n",
        "        return DataLoader(self.val_dataset, batch_size=self.batch_size, shuffle=False, num_workers=self.num_workers)\n",
        "\n",
        "    def test_dataloader(self):\n",
        "        return DataLoader(self.test_dataset, batch_size=self.batch_size, shuffle=False, num_workers=self.num_workers)"
      ]
    },
    {
      "cell_type": "code",
      "execution_count": null,
      "metadata": {
        "id": "UgP-LJ1mjgUs"
      },
      "outputs": [],
      "source": [
        "###############################################\n",
        "# Listing the hyperparameters in wandb config \n",
        "###############################################\n",
        "sweep_config = {\n",
        "    'method': 'bayes',\n",
        "    'metric': {\n",
        "      'name': 'val_acc',\n",
        "      'goal': 'maximize'   \n",
        "    },\n",
        "    'parameters': {\n",
        "        'conv_filters': {\n",
        "            'values': [[32, 32, 32, 32, 32], [32, 64, 128, 256, 512]]\n",
        "        },\n",
        "        'conv_kernel_sizes': {\n",
        "            'values': [[3, 3, 3, 3, 3], [5, 3, 3, 3, 3]]\n",
        "        },\n",
        "        'conv_activation': {\n",
        "            'values': ['ReLU', 'SiLU', 'GeLU']\n",
        "        },\n",
        "        'dense_neurons': {\n",
        "            'values': [128, 256]\n",
        "        },\n",
        "        'dense_activation': {\n",
        "            'values': ['ReLU', 'SiLU']\n",
        "        },\n",
        "        'dropout': {\n",
        "            'values': [0.2, 0.3]\n",
        "        },\n",
        "        'use_batchnorm': {\n",
        "            'values': [True, False]\n",
        "        },\n",
        "        'lr': {\n",
        "            'values': [1e-3, 1e-4]\n",
        "        },\n",
        "        'batch_size': {\n",
        "            'values': [32, 64]\n",
        "        },\n",
        "        'use_augmentation': {  \n",
        "            'values': [True, False]\n",
        "        }\n",
        "    }\n",
        "}"
      ]
    },
    {
      "cell_type": "code",
      "execution_count": null,
      "metadata": {
        "id": "LxqYVwhDjrhp"
      },
      "outputs": [],
      "source": [
        "#####################################\n",
        "# Initializing the model architecture \n",
        "# Simple CNN Model with flexibile  conv blocks, each: Conv -> (optional BatchNorm) -> Activation -> MaxPool\n",
        "#####################################\n",
        "class SimpleCNN(pl.LightningModule):\n",
        "    def __init__(self, conv_filters=[32, 32, 32, 32, 32],\n",
        "                 conv_kernel_sizes=[3, 3, 3, 3, 3],\n",
        "                 conv_activation='ReLU',\n",
        "                 dense_neurons=128,\n",
        "                 dense_activation='ReLU',\n",
        "                 dropout=0.0,\n",
        "                 use_batchnorm=False,\n",
        "                 lr=1e-3):\n",
        "        super(SimpleCNN, self).__init__()\n",
        "        self.save_hyperparameters()\n",
        "        # Dictionary mapping activation names to modules\n",
        "        activations = {\n",
        "            'ReLU': nn.ReLU,\n",
        "            'GELU': nn.GELU,\n",
        "            'SiLU': nn.SiLU\n",
        "            \n",
        "        }\n",
        "        conv_act = activations.get(conv_activation, nn.ReLU)\n",
        "        dense_act = activations.get(dense_activation, nn.ReLU)\n",
        "        \n",
        "        self.conv_layers = nn.ModuleList()\n",
        "        in_channels = 3  # iNaturalist images have 3 channels (RGB)\n",
        "        for i in range(5):\n",
        "            out_channels = conv_filters[i]\n",
        "            kernel_size = conv_kernel_sizes[i]\n",
        "            conv = nn.Conv2d(in_channels, out_channels, kernel_size=kernel_size, padding=kernel_size//2)\n",
        "            block = [conv]\n",
        "            if use_batchnorm:\n",
        "                block.append(nn.BatchNorm2d(out_channels))\n",
        "            block.append(conv_act())\n",
        "            block.append(nn.MaxPool2d(2))\n",
        "            self.conv_layers.append(nn.Sequential(*block))\n",
        "            in_channels = out_channels\n",
        "        \n",
        "        # Compute the flattened feature size after conv layers\n",
        "        # Assume a default input image size of 224x224\n",
        "        dummy_input = torch.zeros(1, 3, 224, 224)\n",
        "        with torch.no_grad():\n",
        "            features = dummy_input\n",
        "            for layer in self.conv_layers:\n",
        "                features = layer(features)\n",
        "            self.flattened_size = features.view(1, -1).shape[1]\n",
        "        \n",
        "        # Dense layer followed by the output layer (10 neurons for 10 classes)\n",
        "        self.dense = nn.Linear(self.flattened_size, dense_neurons)\n",
        "        self.dense_activation = dense_act()\n",
        "        self.dropout = nn.Dropout(dropout) if dropout > 0 else None\n",
        "        self.out = nn.Linear(dense_neurons, 10)\n",
        "        self.lr = lr\n",
        "\n",
        "    def forward(self, x):\n",
        "        for layer in self.conv_layers:\n",
        "            x = layer(x)\n",
        "        x = torch.flatten(x, 1)\n",
        "        x = self.dense(x)\n",
        "        x = self.dense_activation(x)\n",
        "        if self.dropout:\n",
        "            x = self.dropout(x)\n",
        "        x = self.out(x)\n",
        "        return x\n",
        "    \n",
        "    def training_step(self, batch, batch_idx):\n",
        "        x, y = batch\n",
        "        logits = self(x)\n",
        "        loss = F.cross_entropy(logits, y)\n",
        "        acc = (logits.argmax(dim=1) == y).float().mean()\n",
        "        self.log('train_loss', loss)\n",
        "        self.log('train_acc', acc)\n",
        "        return loss\n",
        "    \n",
        "    def validation_step(self, batch, batch_idx):\n",
        "        x, y = batch\n",
        "        logits = self(x)\n",
        "        loss = F.cross_entropy(logits, y)\n",
        "        acc = (logits.argmax(dim=1) == y).float().mean()\n",
        "        self.log('val_loss', loss, prog_bar=True)\n",
        "        self.log('val_acc', acc, prog_bar=True)\n",
        "    \n",
        "    def test_step(self, batch, batch_idx):\n",
        "        x, y = batch\n",
        "        logits = self(x)\n",
        "        loss = F.cross_entropy(logits, y)\n",
        "        acc = (logits.argmax(dim=1) == y).float().mean()\n",
        "        self.log('test_loss', loss)\n",
        "        self.log('test_acc', acc)\n",
        "    \n",
        "    def configure_optimizers(self):\n",
        "        optimizer = torch.optim.Adam(self.parameters(), lr=self.lr)\n",
        "        return optimizer"
      ]
    },
    {
      "cell_type": "code",
      "execution_count": null,
      "metadata": {
        "colab": {
          "base_uri": "https://localhost:8080/",
          "height": 1000,
          "referenced_widgets": [
            "e8622d034a144735b898d161aabf1080",
            "d4cff88a2d4b4b0bb2a5fc108162b55e",
            "af2843e73a0048f4be9fde220a51de42",
            "84f9b40c0e604ab59147d6b4ab1f5224",
            "5387e25ed57344ddb04a2b0e27533473",
            "8d75b42a6e6f43b1a8be9d7bc2909f6b",
            "792d2e8b831b489e8d1d960b5a81fad3",
            "299587a0f5f8464cac67a2c059381f71",
            "8f1ebd142d274ba8926dfa162910cb57",
            "93f019ea99b148b880195e7398da4802",
            "82f42363ddd94cb182195f6d611a17b7",
            "42151ff118c14538801a2b8218029758",
            "4978eb22bb7d411d97f9f8fb85fc91d8",
            "cba6b94279794e75a98579ef48c324fc",
            "3e8eb505a44f4f6ca6dd31bd1bee069c",
            "a083483a69674133b9583dfc9bacc468",
            "89766206d4e74109b7d068dd6a4ad21d",
            "a1cef1dc297742ba8e31399c8b6799be",
            "fc2e819074cb43ce92b9d4e650a64ece",
            "f817b1cc2aab4c8b917042f49b26b0ae",
            "c6ff3fe06190463989b788dfa0e8e765",
            "ed9436f614a5484db8a4fd844ecea05b",
            "c7113eb4e7f9453aa659f775c337642d",
            "bbfd6ed49b5640bda9dd4b23150b2b81",
            "76c93d743e03476ebc3f0e58db6802ed",
            "ba5ba54956364bd0b99a54102ad4682a",
            "9f7ba9243a4941159a721195f17d66bd",
            "2c2e90e5cf124c4b9b906a40165ffc10",
            "48d11e36b4494ee48d41f49778785986",
            "5ef64d0468ac419f939753debd20af5e",
            "bf0b527e40904e5085fccb7c79de78f1",
            "7b0656b170e94a0799706a144c432125",
            "673c74e638044e9ebac97e95912cb83a",
            "ecfd199c95a44de2a1c6a23a59ca9e37",
            "87b308c86d7b484db13ef542e6169d4d",
            "3a4c4013fc3e4b578bb282d8e39c10dd",
            "01b06c7d4f17439a841d67068142ae3d",
            "b01cb1e293434a409258213f4dbc0ff2",
            "68985871c2ea430eb76077b8bffde80c",
            "cbed981b7d4440748a91b9ac30e7e8ba",
            "503151b7f76f42f5956d0eeb1c1d38d0",
            "4be19e62462741b09cfee277cb7d2fc8",
            "73315ebe09394ccab9318fe113ba8f6b",
            "4ca528cadb5741b78539d555f2c45c2d",
            "d144d636268945e0b6d6d6a819e07c74",
            "20e387fa99724171b7082fa335578d06",
            "920ff95910e046c88f0a73672587266a",
            "6f75fcab58984ae9a46ce366c9b3efa8",
            "40402f949f6347fe9186eeab046d1d17",
            "d33c4a5c171c4daa98786bb4aac1283f",
            "c1b62a32c02e45b59e804e876c49bea8",
            "d8dffe667d554b8c8e4827f15fc88a02",
            "ffee3dd2a7ad4ce9940104b87372384a",
            "da0f41f4bbeb4e1da7be2ee887e76efd",
            "27a94e033c874cfea3e279233f10d425",
            "330e7dffadee431faa7cfa49ce8bcd9a",
            "db98bcbf76c24458bcc1b337ad0465aa",
            "dc0e1f929ac1403cb09d7a3fdeacfc2d",
            "c07d4e8c40c94e958adff1d72094a2a1",
            "153474b14c5d448aa49932ac2322542b",
            "5ea18a7891ce4c60955ea10a0328e2ca",
            "57a4cfe5f951465896e8e7ea0452d189",
            "1d1697bd72a24135866e37bf5f00e729",
            "0276a88482134831a5a674591c44de5c"
          ]
        },
        "id": "Desy3R6gj0LE",
        "outputId": "a66c8646-172b-4c88-aacf-b0d74281eb3e"
      },
      "outputs": [
        {
          "name": "stdout",
          "output_type": "stream",
          "text": [
            "Create sweep with ID: firnynx9\n",
            "Sweep URL: https://wandb.ai/cs6910-team/DL-Assignment2-PartA-5April-2/sweeps/firnynx9\n"
          ]
        },
        {
          "name": "stderr",
          "output_type": "stream",
          "text": [
            "\u001b[34m\u001b[1mwandb\u001b[0m: Agent Starting Run: 75xanm09 with config:\n",
            "\u001b[34m\u001b[1mwandb\u001b[0m: \tactivation: relu\n",
            "\u001b[34m\u001b[1mwandb\u001b[0m: \tbatch_norm: True\n",
            "\u001b[34m\u001b[1mwandb\u001b[0m: \tconv_layers: 5\n",
            "\u001b[34m\u001b[1mwandb\u001b[0m: \tdata_aug: True\n",
            "\u001b[34m\u001b[1mwandb\u001b[0m: \tdense_size: 64\n",
            "\u001b[34m\u001b[1mwandb\u001b[0m: \tdropout: 0.3\n",
            "\u001b[34m\u001b[1mwandb\u001b[0m: \tfilter_org: 1\n",
            "\u001b[34m\u001b[1mwandb\u001b[0m: \tfirst_layer_filters: 32\n",
            "\u001b[34m\u001b[1mwandb\u001b[0m: \tkernel_size: 3\n",
            "\u001b[34m\u001b[1mwandb\u001b[0m: \tnum_epochs: 50\n",
            "\u001b[34m\u001b[1mwandb\u001b[0m: \toptimizer: adam\n",
            "\u001b[34m\u001b[1mwandb\u001b[0m: Currently logged in as: \u001b[33mcs6910-team\u001b[0m (use `wandb login --relogin` to force relogin)\n"
          ]
        },
        {
          "data": {
            "text/html": [
              "\n",
              "                Tracking run with wandb version 0.10.25<br/>\n",
              "                Syncing run <strong style=\"color:#cdcd00\">dutiful-sweep-1</strong> to <a href=\"https://wandb.ai\" target=\"_blank\">Weights & Biases</a> <a href=\"https://docs.wandb.com/integrations/jupyter.html\" target=\"_blank\">(Documentation)</a>.<br/>\n",
              "                Project page: <a href=\"https://wandb.ai/cs6910-team/DL-Assignment2-PartA-5April-2\" target=\"_blank\">https://wandb.ai/cs6910-team/DL-Assignment2-PartA-5April-2</a><br/>\n",
              "                Sweep page: <a href=\"https://wandb.ai/cs6910-team/DL-Assignment2-PartA-5April-2/sweeps/firnynx9\" target=\"_blank\">https://wandb.ai/cs6910-team/DL-Assignment2-PartA-5April-2/sweeps/firnynx9</a><br/>\n",
              "Run page: <a href=\"https://wandb.ai/cs6910-team/DL-Assignment2-PartA-5April-2/runs/75xanm09\" target=\"_blank\">https://wandb.ai/cs6910-team/DL-Assignment2-PartA-5April-2/runs/75xanm09</a><br/>\n",
              "                Run data is saved locally in <code>/content/wandb/run-20210413_080721-75xanm09</code><br/><br/>\n",
              "            "
            ],
            "text/plain": [
              "<IPython.core.display.HTML object>"
            ]
          },
          "metadata": {
            "tags": []
          },
          "output_type": "display_data"
        },
        {
          "data": {
            "text/html": [
              "Finishing last run (ID:75xanm09) before initializing another..."
            ],
            "text/plain": [
              "<IPython.core.display.HTML object>"
            ]
          },
          "metadata": {
            "tags": []
          },
          "output_type": "display_data"
        },
        {
          "data": {
            "text/html": [
              "<br/>Waiting for W&B process to finish, PID 1109<br/>Program ended successfully."
            ],
            "text/plain": [
              "<IPython.core.display.HTML object>"
            ]
          },
          "metadata": {
            "tags": []
          },
          "output_type": "display_data"
        },
        {
          "data": {
            "application/vnd.jupyter.widget-view+json": {
              "model_id": "e8622d034a144735b898d161aabf1080",
              "version_major": 2,
              "version_minor": 0
            },
            "text/plain": [
              "VBox(children=(Label(value=' 0.04MB of 0.04MB uploaded (0.00MB deduped)\\r'), FloatProgress(value=1.0, max=1.0)…"
            ]
          },
          "metadata": {
            "tags": []
          },
          "output_type": "display_data"
        },
        {
          "data": {
            "text/html": [
              "Find user logs for this run at: <code>/content/wandb/run-20210413_080721-75xanm09/logs/debug.log</code>"
            ],
            "text/plain": [
              "<IPython.core.display.HTML object>"
            ]
          },
          "metadata": {
            "tags": []
          },
          "output_type": "display_data"
        },
        {
          "data": {
            "text/html": [
              "Find internal logs for this run at: <code>/content/wandb/run-20210413_080721-75xanm09/logs/debug-internal.log</code>"
            ],
            "text/plain": [
              "<IPython.core.display.HTML object>"
            ]
          },
          "metadata": {
            "tags": []
          },
          "output_type": "display_data"
        },
        {
          "data": {
            "text/html": [
              "Synced 4 W&B file(s), 0 media file(s), 2 artifact file(s) and 1 other file(s)"
            ],
            "text/plain": [
              "<IPython.core.display.HTML object>"
            ]
          },
          "metadata": {
            "tags": []
          },
          "output_type": "display_data"
        },
        {
          "data": {
            "text/html": [
              "\n",
              "                    <br/>Synced <strong style=\"color:#cdcd00\">dutiful-sweep-1</strong>: <a href=\"https://wandb.ai/cs6910-team/DL-Assignment2-PartA-5April-2/runs/75xanm09\" target=\"_blank\">https://wandb.ai/cs6910-team/DL-Assignment2-PartA-5April-2/runs/75xanm09</a><br/>\n",
              "                "
            ],
            "text/plain": [
              "<IPython.core.display.HTML object>"
            ]
          },
          "metadata": {
            "tags": []
          },
          "output_type": "display_data"
        },
        {
          "data": {
            "text/html": [
              "...Successfully finished last run (ID:75xanm09). Initializing new run:<br/><br/>"
            ],
            "text/plain": [
              "<IPython.core.display.HTML object>"
            ]
          },
          "metadata": {
            "tags": []
          },
          "output_type": "display_data"
        },
        {
          "data": {
            "text/html": [
              "\n",
              "                Tracking run with wandb version 0.10.25<br/>\n",
              "                Syncing run <strong style=\"color:#cdcd00\">dutiful-sweep-1</strong> to <a href=\"https://wandb.ai\" target=\"_blank\">Weights & Biases</a> <a href=\"https://docs.wandb.com/integrations/jupyter.html\" target=\"_blank\">(Documentation)</a>.<br/>\n",
              "                Project page: <a href=\"https://wandb.ai/cs6910-team/DL-Assignment2-PartA-5April-2\" target=\"_blank\">https://wandb.ai/cs6910-team/DL-Assignment2-PartA-5April-2</a><br/>\n",
              "                Sweep page: <a href=\"https://wandb.ai/cs6910-team/DL-Assignment2-PartA-5April-2/sweeps/firnynx9\" target=\"_blank\">https://wandb.ai/cs6910-team/DL-Assignment2-PartA-5April-2/sweeps/firnynx9</a><br/>\n",
              "Run page: <a href=\"https://wandb.ai/cs6910-team/DL-Assignment2-PartA-5April-2/runs/75xanm09\" target=\"_blank\">https://wandb.ai/cs6910-team/DL-Assignment2-PartA-5April-2/runs/75xanm09</a><br/>\n",
              "                Run data is saved locally in <code>/content/wandb/run-20210413_080723-75xanm09</code><br/><br/>\n",
              "            "
            ],
            "text/plain": [
              "<IPython.core.display.HTML object>"
            ]
          },
          "metadata": {
            "tags": []
          },
          "output_type": "display_data"
        },
        {
          "name": "stdout",
          "output_type": "stream",
          "text": [
            "Epoch 1/50\n",
            "62/62 [==============================] - 104s 1s/step - loss: 2.6069 - acc: 0.1224 - val_loss: 2.3555 - val_acc: 0.0958\n",
            "Epoch 2/50\n",
            "62/62 [==============================] - 71s 1s/step - loss: 2.3364 - acc: 0.1605 - val_loss: 2.4004 - val_acc: 0.1104\n",
            "Epoch 3/50\n",
            "62/62 [==============================] - 71s 1s/step - loss: 2.2678 - acc: 0.1966 - val_loss: 2.4575 - val_acc: 0.1250\n",
            "Epoch 4/50\n",
            "62/62 [==============================] - 72s 1s/step - loss: 2.2523 - acc: 0.1784 - val_loss: 2.3998 - val_acc: 0.0979\n",
            "Epoch 5/50\n",
            "62/62 [==============================] - 70s 1s/step - loss: 2.1841 - acc: 0.2064 - val_loss: 2.2999 - val_acc: 0.1210\n",
            "Epoch 6/50\n",
            "62/62 [==============================] - 71s 1s/step - loss: 2.2008 - acc: 0.2021 - val_loss: 2.3175 - val_acc: 0.1354\n",
            "Epoch 7/50\n",
            "62/62 [==============================] - 71s 1s/step - loss: 2.1811 - acc: 0.2222 - val_loss: 2.1949 - val_acc: 0.1896\n",
            "Epoch 8/50\n",
            "62/62 [==============================] - 70s 1s/step - loss: 2.1688 - acc: 0.2153 - val_loss: 2.0799 - val_acc: 0.2438\n",
            "Epoch 9/50\n",
            "62/62 [==============================] - 70s 1s/step - loss: 2.1487 - acc: 0.2317 - val_loss: 2.0344 - val_acc: 0.2527\n",
            "Epoch 10/50\n",
            "62/62 [==============================] - 72s 1s/step - loss: 2.1167 - acc: 0.2427 - val_loss: 2.0465 - val_acc: 0.2729\n",
            "Epoch 11/50\n",
            "62/62 [==============================] - 71s 1s/step - loss: 2.1082 - acc: 0.2302 - val_loss: 2.0531 - val_acc: 0.2542\n",
            "Epoch 12/50\n",
            "62/62 [==============================] - 71s 1s/step - loss: 2.0677 - acc: 0.2504 - val_loss: 2.0982 - val_acc: 0.2479\n",
            "Epoch 13/50\n",
            "62/62 [==============================] - 70s 1s/step - loss: 2.1103 - acc: 0.2358 - val_loss: 2.2030 - val_acc: 0.2765\n",
            "Epoch 14/50\n",
            "62/62 [==============================] - 72s 1s/step - loss: 2.1181 - acc: 0.2423 - val_loss: 2.0375 - val_acc: 0.2896\n",
            "Epoch 15/50\n",
            "62/62 [==============================] - 70s 1s/step - loss: 2.0421 - acc: 0.2524 - val_loss: 2.0203 - val_acc: 0.2792\n",
            "Epoch 16/50\n",
            "62/62 [==============================] - 73s 1s/step - loss: 2.1187 - acc: 0.2331 - val_loss: 2.0578 - val_acc: 0.2937\n",
            "Epoch 17/50\n",
            "62/62 [==============================] - 71s 1s/step - loss: 2.0421 - acc: 0.2834 - val_loss: 2.0214 - val_acc: 0.3002\n",
            "Epoch 18/50\n",
            "62/62 [==============================] - 71s 1s/step - loss: 2.0712 - acc: 0.2618 - val_loss: 1.9468 - val_acc: 0.3292\n",
            "Epoch 19/50\n",
            "62/62 [==============================] - 71s 1s/step - loss: 2.0911 - acc: 0.2628 - val_loss: 2.0423 - val_acc: 0.2667\n",
            "Epoch 20/50\n",
            "62/62 [==============================] - 71s 1s/step - loss: 2.0224 - acc: 0.2923 - val_loss: 2.0146 - val_acc: 0.2937\n",
            "Epoch 21/50\n",
            "62/62 [==============================] - 70s 1s/step - loss: 2.0151 - acc: 0.2920 - val_loss: 2.0408 - val_acc: 0.2873\n",
            "Epoch 22/50\n",
            "62/62 [==============================] - 71s 1s/step - loss: 2.0168 - acc: 0.2824 - val_loss: 2.1140 - val_acc: 0.2458\n",
            "Epoch 23/50\n",
            "62/62 [==============================] - 70s 1s/step - loss: 2.0339 - acc: 0.2818 - val_loss: 2.0068 - val_acc: 0.2792\n"
          ]
        },
        {
          "name": "stderr",
          "output_type": "stream",
          "text": [
            "\u001b[34m\u001b[1mwandb\u001b[0m: Sweep Agent: Waiting for job.\n",
            "\u001b[34m\u001b[1mwandb\u001b[0m: Job received.\n",
            "\u001b[34m\u001b[1mwandb\u001b[0m: Agent Starting Run: 5dd724e3 with config:\n",
            "\u001b[34m\u001b[1mwandb\u001b[0m: \tactivation: relu\n",
            "\u001b[34m\u001b[1mwandb\u001b[0m: \tbatch_norm: True\n",
            "\u001b[34m\u001b[1mwandb\u001b[0m: \tconv_layers: 5\n",
            "\u001b[34m\u001b[1mwandb\u001b[0m: \tdata_aug: True\n",
            "\u001b[34m\u001b[1mwandb\u001b[0m: \tdense_size: 64\n",
            "\u001b[34m\u001b[1mwandb\u001b[0m: \tdropout: 0\n",
            "\u001b[34m\u001b[1mwandb\u001b[0m: \tfilter_org: 0.5\n",
            "\u001b[34m\u001b[1mwandb\u001b[0m: \tfirst_layer_filters: 64\n",
            "\u001b[34m\u001b[1mwandb\u001b[0m: \tkernel_size: 3\n",
            "\u001b[34m\u001b[1mwandb\u001b[0m: \tnum_epochs: 50\n",
            "\u001b[34m\u001b[1mwandb\u001b[0m: \toptimizer: adam\n"
          ]
        },
        {
          "data": {
            "text/html": [
              "\n",
              "                Tracking run with wandb version 0.10.25<br/>\n",
              "                Syncing run <strong style=\"color:#cdcd00\">whole-sweep-2</strong> to <a href=\"https://wandb.ai\" target=\"_blank\">Weights & Biases</a> <a href=\"https://docs.wandb.com/integrations/jupyter.html\" target=\"_blank\">(Documentation)</a>.<br/>\n",
              "                Project page: <a href=\"https://wandb.ai/cs6910-team/DL-Assignment2-PartA-5April-2\" target=\"_blank\">https://wandb.ai/cs6910-team/DL-Assignment2-PartA-5April-2</a><br/>\n",
              "                Sweep page: <a href=\"https://wandb.ai/cs6910-team/DL-Assignment2-PartA-5April-2/sweeps/firnynx9\" target=\"_blank\">https://wandb.ai/cs6910-team/DL-Assignment2-PartA-5April-2/sweeps/firnynx9</a><br/>\n",
              "Run page: <a href=\"https://wandb.ai/cs6910-team/DL-Assignment2-PartA-5April-2/runs/5dd724e3\" target=\"_blank\">https://wandb.ai/cs6910-team/DL-Assignment2-PartA-5April-2/runs/5dd724e3</a><br/>\n",
              "                Run data is saved locally in <code>/content/wandb/run-20210413_083528-5dd724e3</code><br/><br/>\n",
              "            "
            ],
            "text/plain": [
              "<IPython.core.display.HTML object>"
            ]
          },
          "metadata": {
            "tags": []
          },
          "output_type": "display_data"
        },
        {
          "data": {
            "text/html": [
              "Finishing last run (ID:5dd724e3) before initializing another..."
            ],
            "text/plain": [
              "<IPython.core.display.HTML object>"
            ]
          },
          "metadata": {
            "tags": []
          },
          "output_type": "display_data"
        },
        {
          "data": {
            "text/html": [
              "<br/>Waiting for W&B process to finish, PID 1558<br/>Program ended successfully."
            ],
            "text/plain": [
              "<IPython.core.display.HTML object>"
            ]
          },
          "metadata": {
            "tags": []
          },
          "output_type": "display_data"
        },
        {
          "data": {
            "application/vnd.jupyter.widget-view+json": {
              "model_id": "8f1ebd142d274ba8926dfa162910cb57",
              "version_major": 2,
              "version_minor": 0
            },
            "text/plain": [
              "VBox(children=(Label(value=' 0.05MB of 0.05MB uploaded (0.00MB deduped)\\r'), FloatProgress(value=1.0, max=1.0)…"
            ]
          },
          "metadata": {
            "tags": []
          },
          "output_type": "display_data"
        },
        {
          "data": {
            "text/html": [
              "Find user logs for this run at: <code>/content/wandb/run-20210413_083528-5dd724e3/logs/debug.log</code>"
            ],
            "text/plain": [
              "<IPython.core.display.HTML object>"
            ]
          },
          "metadata": {
            "tags": []
          },
          "output_type": "display_data"
        },
        {
          "data": {
            "text/html": [
              "Find internal logs for this run at: <code>/content/wandb/run-20210413_083528-5dd724e3/logs/debug-internal.log</code>"
            ],
            "text/plain": [
              "<IPython.core.display.HTML object>"
            ]
          },
          "metadata": {
            "tags": []
          },
          "output_type": "display_data"
        },
        {
          "data": {
            "text/html": [
              "Synced 4 W&B file(s), 0 media file(s), 2 artifact file(s) and 1 other file(s)"
            ],
            "text/plain": [
              "<IPython.core.display.HTML object>"
            ]
          },
          "metadata": {
            "tags": []
          },
          "output_type": "display_data"
        },
        {
          "data": {
            "text/html": [
              "\n",
              "                    <br/>Synced <strong style=\"color:#cdcd00\">whole-sweep-2</strong>: <a href=\"https://wandb.ai/cs6910-team/DL-Assignment2-PartA-5April-2/runs/5dd724e3\" target=\"_blank\">https://wandb.ai/cs6910-team/DL-Assignment2-PartA-5April-2/runs/5dd724e3</a><br/>\n",
              "                "
            ],
            "text/plain": [
              "<IPython.core.display.HTML object>"
            ]
          },
          "metadata": {
            "tags": []
          },
          "output_type": "display_data"
        },
        {
          "data": {
            "text/html": [
              "...Successfully finished last run (ID:5dd724e3). Initializing new run:<br/><br/>"
            ],
            "text/plain": [
              "<IPython.core.display.HTML object>"
            ]
          },
          "metadata": {
            "tags": []
          },
          "output_type": "display_data"
        },
        {
          "data": {
            "text/html": [
              "\n",
              "                Tracking run with wandb version 0.10.25<br/>\n",
              "                Syncing run <strong style=\"color:#cdcd00\">whole-sweep-2</strong> to <a href=\"https://wandb.ai\" target=\"_blank\">Weights & Biases</a> <a href=\"https://docs.wandb.com/integrations/jupyter.html\" target=\"_blank\">(Documentation)</a>.<br/>\n",
              "                Project page: <a href=\"https://wandb.ai/cs6910-team/DL-Assignment2-PartA-5April-2\" target=\"_blank\">https://wandb.ai/cs6910-team/DL-Assignment2-PartA-5April-2</a><br/>\n",
              "                Sweep page: <a href=\"https://wandb.ai/cs6910-team/DL-Assignment2-PartA-5April-2/sweeps/firnynx9\" target=\"_blank\">https://wandb.ai/cs6910-team/DL-Assignment2-PartA-5April-2/sweeps/firnynx9</a><br/>\n",
              "Run page: <a href=\"https://wandb.ai/cs6910-team/DL-Assignment2-PartA-5April-2/runs/5dd724e3\" target=\"_blank\">https://wandb.ai/cs6910-team/DL-Assignment2-PartA-5April-2/runs/5dd724e3</a><br/>\n",
              "                Run data is saved locally in <code>/content/wandb/run-20210413_083531-5dd724e3</code><br/><br/>\n",
              "            "
            ],
            "text/plain": [
              "<IPython.core.display.HTML object>"
            ]
          },
          "metadata": {
            "tags": []
          },
          "output_type": "display_data"
        },
        {
          "name": "stdout",
          "output_type": "stream",
          "text": [
            "Epoch 1/50\n",
            "62/62 [==============================] - 73s 1s/step - loss: 2.4666 - acc: 0.1136 - val_loss: 2.3192 - val_acc: 0.1063\n",
            "Epoch 2/50\n",
            "62/62 [==============================] - 70s 1s/step - loss: 2.2919 - acc: 0.1391 - val_loss: 2.4047 - val_acc: 0.0667\n",
            "Epoch 3/50\n",
            "62/62 [==============================] - 71s 1s/step - loss: 2.2272 - acc: 0.1767 - val_loss: 2.3916 - val_acc: 0.1058\n",
            "Epoch 4/50\n",
            "62/62 [==============================] - 74s 1s/step - loss: 2.1970 - acc: 0.1920 - val_loss: 2.4862 - val_acc: 0.0750\n",
            "Epoch 5/50\n",
            "62/62 [==============================] - 74s 1s/step - loss: 2.2016 - acc: 0.1876 - val_loss: 2.5452 - val_acc: 0.0771\n",
            "Epoch 6/50\n",
            "62/62 [==============================] - 73s 1s/step - loss: 2.1760 - acc: 0.1954 - val_loss: 2.4215 - val_acc: 0.1250\n",
            "Epoch 7/50\n",
            "62/62 [==============================] - 71s 1s/step - loss: 2.1532 - acc: 0.2036 - val_loss: 2.3196 - val_acc: 0.1404\n",
            "Epoch 8/50\n",
            "62/62 [==============================] - 73s 1s/step - loss: 2.1276 - acc: 0.2170 - val_loss: 2.2131 - val_acc: 0.1604\n",
            "Epoch 9/50\n",
            "62/62 [==============================] - 73s 1s/step - loss: 2.1262 - acc: 0.2351 - val_loss: 2.1940 - val_acc: 0.1854\n",
            "Epoch 10/50\n",
            "62/62 [==============================] - 72s 1s/step - loss: 2.1489 - acc: 0.2084 - val_loss: 2.2105 - val_acc: 0.1917\n",
            "Epoch 11/50\n",
            "62/62 [==============================] - 73s 1s/step - loss: 2.1334 - acc: 0.2457 - val_loss: 2.0947 - val_acc: 0.2376\n",
            "Epoch 12/50\n",
            "62/62 [==============================] - 72s 1s/step - loss: 2.1522 - acc: 0.2059 - val_loss: 2.1200 - val_acc: 0.2313\n",
            "Epoch 13/50\n",
            "62/62 [==============================] - 72s 1s/step - loss: 2.1371 - acc: 0.2090 - val_loss: 2.0628 - val_acc: 0.2667\n",
            "Epoch 14/50\n",
            "62/62 [==============================] - 71s 1s/step - loss: 2.1463 - acc: 0.2100 - val_loss: 2.1199 - val_acc: 0.1958\n",
            "Epoch 15/50\n",
            "62/62 [==============================] - 74s 1s/step - loss: 2.0939 - acc: 0.2439 - val_loss: 2.1819 - val_acc: 0.2095\n",
            "Epoch 16/50\n",
            "62/62 [==============================] - 74s 1s/step - loss: 2.1605 - acc: 0.2033 - val_loss: 2.1233 - val_acc: 0.2604\n",
            "Epoch 17/50\n",
            "62/62 [==============================] - 73s 1s/step - loss: 2.0912 - acc: 0.2364 - val_loss: 2.2965 - val_acc: 0.1771\n",
            "Epoch 18/50\n",
            "62/62 [==============================] - 73s 1s/step - loss: 2.1313 - acc: 0.2108 - val_loss: 2.1049 - val_acc: 0.2271\n"
          ]
        },
        {
          "name": "stderr",
          "output_type": "stream",
          "text": [
            "\u001b[34m\u001b[1mwandb\u001b[0m: Agent Starting Run: 4oi37lhq with config:\n",
            "\u001b[34m\u001b[1mwandb\u001b[0m: \tactivation: relu\n",
            "\u001b[34m\u001b[1mwandb\u001b[0m: \tbatch_norm: True\n",
            "\u001b[34m\u001b[1mwandb\u001b[0m: \tconv_layers: 5\n",
            "\u001b[34m\u001b[1mwandb\u001b[0m: \tdata_aug: True\n",
            "\u001b[34m\u001b[1mwandb\u001b[0m: \tdense_size: 64\n",
            "\u001b[34m\u001b[1mwandb\u001b[0m: \tdropout: 0.2\n",
            "\u001b[34m\u001b[1mwandb\u001b[0m: \tfilter_org: 0.5\n",
            "\u001b[34m\u001b[1mwandb\u001b[0m: \tfirst_layer_filters: 32\n",
            "\u001b[34m\u001b[1mwandb\u001b[0m: \tkernel_size: 3\n",
            "\u001b[34m\u001b[1mwandb\u001b[0m: \tnum_epochs: 50\n",
            "\u001b[34m\u001b[1mwandb\u001b[0m: \toptimizer: adam\n"
          ]
        },
        {
          "data": {
            "text/html": [
              "\n",
              "                Tracking run with wandb version 0.10.25<br/>\n",
              "                Syncing run <strong style=\"color:#cdcd00\">earthy-sweep-3</strong> to <a href=\"https://wandb.ai\" target=\"_blank\">Weights & Biases</a> <a href=\"https://docs.wandb.com/integrations/jupyter.html\" target=\"_blank\">(Documentation)</a>.<br/>\n",
              "                Project page: <a href=\"https://wandb.ai/cs6910-team/DL-Assignment2-PartA-5April-2\" target=\"_blank\">https://wandb.ai/cs6910-team/DL-Assignment2-PartA-5April-2</a><br/>\n",
              "                Sweep page: <a href=\"https://wandb.ai/cs6910-team/DL-Assignment2-PartA-5April-2/sweeps/firnynx9\" target=\"_blank\">https://wandb.ai/cs6910-team/DL-Assignment2-PartA-5April-2/sweeps/firnynx9</a><br/>\n",
              "Run page: <a href=\"https://wandb.ai/cs6910-team/DL-Assignment2-PartA-5April-2/runs/4oi37lhq\" target=\"_blank\">https://wandb.ai/cs6910-team/DL-Assignment2-PartA-5April-2/runs/4oi37lhq</a><br/>\n",
              "                Run data is saved locally in <code>/content/wandb/run-20210413_085731-4oi37lhq</code><br/><br/>\n",
              "            "
            ],
            "text/plain": [
              "<IPython.core.display.HTML object>"
            ]
          },
          "metadata": {
            "tags": []
          },
          "output_type": "display_data"
        },
        {
          "data": {
            "text/html": [
              "Finishing last run (ID:4oi37lhq) before initializing another..."
            ],
            "text/plain": [
              "<IPython.core.display.HTML object>"
            ]
          },
          "metadata": {
            "tags": []
          },
          "output_type": "display_data"
        },
        {
          "data": {
            "text/html": [
              "<br/>Waiting for W&B process to finish, PID 1955<br/>Program ended successfully."
            ],
            "text/plain": [
              "<IPython.core.display.HTML object>"
            ]
          },
          "metadata": {
            "tags": []
          },
          "output_type": "display_data"
        },
        {
          "data": {
            "application/vnd.jupyter.widget-view+json": {
              "model_id": "89766206d4e74109b7d068dd6a4ad21d",
              "version_major": 2,
              "version_minor": 0
            },
            "text/plain": [
              "VBox(children=(Label(value=' 0.06MB of 0.06MB uploaded (0.00MB deduped)\\r'), FloatProgress(value=1.0, max=1.0)…"
            ]
          },
          "metadata": {
            "tags": []
          },
          "output_type": "display_data"
        },
        {
          "data": {
            "text/html": [
              "Find user logs for this run at: <code>/content/wandb/run-20210413_085731-4oi37lhq/logs/debug.log</code>"
            ],
            "text/plain": [
              "<IPython.core.display.HTML object>"
            ]
          },
          "metadata": {
            "tags": []
          },
          "output_type": "display_data"
        },
        {
          "data": {
            "text/html": [
              "Find internal logs for this run at: <code>/content/wandb/run-20210413_085731-4oi37lhq/logs/debug-internal.log</code>"
            ],
            "text/plain": [
              "<IPython.core.display.HTML object>"
            ]
          },
          "metadata": {
            "tags": []
          },
          "output_type": "display_data"
        },
        {
          "data": {
            "text/html": [
              "Synced 4 W&B file(s), 0 media file(s), 2 artifact file(s) and 1 other file(s)"
            ],
            "text/plain": [
              "<IPython.core.display.HTML object>"
            ]
          },
          "metadata": {
            "tags": []
          },
          "output_type": "display_data"
        },
        {
          "data": {
            "text/html": [
              "\n",
              "                    <br/>Synced <strong style=\"color:#cdcd00\">earthy-sweep-3</strong>: <a href=\"https://wandb.ai/cs6910-team/DL-Assignment2-PartA-5April-2/runs/4oi37lhq\" target=\"_blank\">https://wandb.ai/cs6910-team/DL-Assignment2-PartA-5April-2/runs/4oi37lhq</a><br/>\n",
              "                "
            ],
            "text/plain": [
              "<IPython.core.display.HTML object>"
            ]
          },
          "metadata": {
            "tags": []
          },
          "output_type": "display_data"
        },
        {
          "data": {
            "text/html": [
              "...Successfully finished last run (ID:4oi37lhq). Initializing new run:<br/><br/>"
            ],
            "text/plain": [
              "<IPython.core.display.HTML object>"
            ]
          },
          "metadata": {
            "tags": []
          },
          "output_type": "display_data"
        },
        {
          "data": {
            "text/html": [
              "\n",
              "                Tracking run with wandb version 0.10.25<br/>\n",
              "                Syncing run <strong style=\"color:#cdcd00\">earthy-sweep-3</strong> to <a href=\"https://wandb.ai\" target=\"_blank\">Weights & Biases</a> <a href=\"https://docs.wandb.com/integrations/jupyter.html\" target=\"_blank\">(Documentation)</a>.<br/>\n",
              "                Project page: <a href=\"https://wandb.ai/cs6910-team/DL-Assignment2-PartA-5April-2\" target=\"_blank\">https://wandb.ai/cs6910-team/DL-Assignment2-PartA-5April-2</a><br/>\n",
              "                Sweep page: <a href=\"https://wandb.ai/cs6910-team/DL-Assignment2-PartA-5April-2/sweeps/firnynx9\" target=\"_blank\">https://wandb.ai/cs6910-team/DL-Assignment2-PartA-5April-2/sweeps/firnynx9</a><br/>\n",
              "Run page: <a href=\"https://wandb.ai/cs6910-team/DL-Assignment2-PartA-5April-2/runs/4oi37lhq\" target=\"_blank\">https://wandb.ai/cs6910-team/DL-Assignment2-PartA-5April-2/runs/4oi37lhq</a><br/>\n",
              "                Run data is saved locally in <code>/content/wandb/run-20210413_085733-4oi37lhq</code><br/><br/>\n",
              "            "
            ],
            "text/plain": [
              "<IPython.core.display.HTML object>"
            ]
          },
          "metadata": {
            "tags": []
          },
          "output_type": "display_data"
        },
        {
          "name": "stdout",
          "output_type": "stream",
          "text": [
            "Epoch 1/50\n",
            "62/62 [==============================] - 74s 1s/step - loss: 2.5549 - acc: 0.1128 - val_loss: 2.2985 - val_acc: 0.1058\n",
            "Epoch 2/50\n",
            "62/62 [==============================] - 71s 1s/step - loss: 2.4339 - acc: 0.1320 - val_loss: 2.3099 - val_acc: 0.0979\n",
            "Epoch 3/50\n",
            "62/62 [==============================] - 71s 1s/step - loss: 2.4051 - acc: 0.1328 - val_loss: 2.3112 - val_acc: 0.1125\n",
            "Epoch 4/50\n",
            "62/62 [==============================] - 71s 1s/step - loss: 2.3863 - acc: 0.1164 - val_loss: 2.3424 - val_acc: 0.0917\n",
            "Epoch 5/50\n",
            "62/62 [==============================] - 70s 1s/step - loss: 2.3255 - acc: 0.1180 - val_loss: 2.2879 - val_acc: 0.1292\n",
            "Epoch 6/50\n",
            "62/62 [==============================] - 70s 1s/step - loss: 2.2741 - acc: 0.1725 - val_loss: 2.2730 - val_acc: 0.1404\n",
            "Epoch 7/50\n",
            "62/62 [==============================] - 72s 1s/step - loss: 2.3018 - acc: 0.1573 - val_loss: 2.2692 - val_acc: 0.1354\n",
            "Epoch 8/50\n",
            "62/62 [==============================] - 70s 1s/step - loss: 2.2559 - acc: 0.1759 - val_loss: 2.2545 - val_acc: 0.1521\n",
            "Epoch 9/50\n",
            "62/62 [==============================] - 71s 1s/step - loss: 2.2027 - acc: 0.1793 - val_loss: 2.2090 - val_acc: 0.1771\n",
            "Epoch 10/50\n",
            "62/62 [==============================] - 72s 1s/step - loss: 2.2248 - acc: 0.1671 - val_loss: 2.1660 - val_acc: 0.2030\n",
            "Epoch 11/50\n",
            "62/62 [==============================] - 70s 1s/step - loss: 2.2146 - acc: 0.1881 - val_loss: 2.1547 - val_acc: 0.2271\n",
            "Epoch 12/50\n",
            "62/62 [==============================] - 70s 1s/step - loss: 2.2025 - acc: 0.1824 - val_loss: 2.2616 - val_acc: 0.1896\n",
            "Epoch 13/50\n",
            "62/62 [==============================] - 72s 1s/step - loss: 2.2207 - acc: 0.1673 - val_loss: 2.1325 - val_acc: 0.2146\n",
            "Epoch 14/50\n",
            "62/62 [==============================] - 73s 1s/step - loss: 2.2030 - acc: 0.1730 - val_loss: 2.1177 - val_acc: 0.2052\n",
            "Epoch 15/50\n",
            "62/62 [==============================] - 71s 1s/step - loss: 2.1873 - acc: 0.1724 - val_loss: 2.1586 - val_acc: 0.2271\n",
            "Epoch 16/50\n",
            "62/62 [==============================] - 71s 1s/step - loss: 2.1915 - acc: 0.1904 - val_loss: 2.1653 - val_acc: 0.2354\n",
            "Epoch 17/50\n",
            "62/62 [==============================] - 72s 1s/step - loss: 2.1364 - acc: 0.2018 - val_loss: 2.1589 - val_acc: 0.2375\n",
            "Epoch 18/50\n",
            "62/62 [==============================] - 71s 1s/step - loss: 2.1730 - acc: 0.2230 - val_loss: 2.1545 - val_acc: 0.2160\n",
            "Epoch 19/50\n",
            "62/62 [==============================] - 71s 1s/step - loss: 2.1780 - acc: 0.1937 - val_loss: 2.0824 - val_acc: 0.2583\n",
            "Epoch 20/50\n",
            "62/62 [==============================] - 70s 1s/step - loss: 2.1555 - acc: 0.2167 - val_loss: 2.1530 - val_acc: 0.2125\n",
            "Epoch 21/50\n",
            "62/62 [==============================] - 71s 1s/step - loss: 2.1536 - acc: 0.2055 - val_loss: 2.0606 - val_acc: 0.2562\n",
            "Epoch 22/50\n",
            "62/62 [==============================] - 68s 1s/step - loss: 2.1663 - acc: 0.2042 - val_loss: 2.1111 - val_acc: 0.2095\n",
            "Epoch 23/50\n",
            "62/62 [==============================] - 68s 1s/step - loss: 2.1414 - acc: 0.2019 - val_loss: 2.3053 - val_acc: 0.1708\n",
            "Epoch 24/50\n",
            "62/62 [==============================] - 66s 1s/step - loss: 2.1795 - acc: 0.1811 - val_loss: 2.1221 - val_acc: 0.2500\n"
          ]
        },
        {
          "name": "stderr",
          "output_type": "stream",
          "text": [
            "\u001b[34m\u001b[1mwandb\u001b[0m: Agent Starting Run: hivq3vl1 with config:\n",
            "\u001b[34m\u001b[1mwandb\u001b[0m: \tactivation: relu\n",
            "\u001b[34m\u001b[1mwandb\u001b[0m: \tbatch_norm: True\n",
            "\u001b[34m\u001b[1mwandb\u001b[0m: \tconv_layers: 5\n",
            "\u001b[34m\u001b[1mwandb\u001b[0m: \tdata_aug: True\n",
            "\u001b[34m\u001b[1mwandb\u001b[0m: \tdense_size: 128\n",
            "\u001b[34m\u001b[1mwandb\u001b[0m: \tdropout: 0\n",
            "\u001b[34m\u001b[1mwandb\u001b[0m: \tfilter_org: 1\n",
            "\u001b[34m\u001b[1mwandb\u001b[0m: \tfirst_layer_filters: 64\n",
            "\u001b[34m\u001b[1mwandb\u001b[0m: \tkernel_size: 3\n",
            "\u001b[34m\u001b[1mwandb\u001b[0m: \tnum_epochs: 50\n",
            "\u001b[34m\u001b[1mwandb\u001b[0m: \toptimizer: adam\n"
          ]
        },
        {
          "data": {
            "text/html": [
              "\n",
              "                Tracking run with wandb version 0.10.25<br/>\n",
              "                Syncing run <strong style=\"color:#cdcd00\">splendid-sweep-4</strong> to <a href=\"https://wandb.ai\" target=\"_blank\">Weights & Biases</a> <a href=\"https://docs.wandb.com/integrations/jupyter.html\" target=\"_blank\">(Documentation)</a>.<br/>\n",
              "                Project page: <a href=\"https://wandb.ai/cs6910-team/DL-Assignment2-PartA-5April-2\" target=\"_blank\">https://wandb.ai/cs6910-team/DL-Assignment2-PartA-5April-2</a><br/>\n",
              "                Sweep page: <a href=\"https://wandb.ai/cs6910-team/DL-Assignment2-PartA-5April-2/sweeps/firnynx9\" target=\"_blank\">https://wandb.ai/cs6910-team/DL-Assignment2-PartA-5April-2/sweeps/firnynx9</a><br/>\n",
              "Run page: <a href=\"https://wandb.ai/cs6910-team/DL-Assignment2-PartA-5April-2/runs/hivq3vl1\" target=\"_blank\">https://wandb.ai/cs6910-team/DL-Assignment2-PartA-5April-2/runs/hivq3vl1</a><br/>\n",
              "                Run data is saved locally in <code>/content/wandb/run-20210413_092602-hivq3vl1</code><br/><br/>\n",
              "            "
            ],
            "text/plain": [
              "<IPython.core.display.HTML object>"
            ]
          },
          "metadata": {
            "tags": []
          },
          "output_type": "display_data"
        },
        {
          "data": {
            "text/html": [
              "Finishing last run (ID:hivq3vl1) before initializing another..."
            ],
            "text/plain": [
              "<IPython.core.display.HTML object>"
            ]
          },
          "metadata": {
            "tags": []
          },
          "output_type": "display_data"
        },
        {
          "data": {
            "text/html": [
              "<br/>Waiting for W&B process to finish, PID 2450<br/>Program ended successfully."
            ],
            "text/plain": [
              "<IPython.core.display.HTML object>"
            ]
          },
          "metadata": {
            "tags": []
          },
          "output_type": "display_data"
        },
        {
          "data": {
            "application/vnd.jupyter.widget-view+json": {
              "model_id": "76c93d743e03476ebc3f0e58db6802ed",
              "version_major": 2,
              "version_minor": 0
            },
            "text/plain": [
              "VBox(children=(Label(value=' 0.08MB of 0.08MB uploaded (0.00MB deduped)\\r'), FloatProgress(value=1.0, max=1.0)…"
            ]
          },
          "metadata": {
            "tags": []
          },
          "output_type": "display_data"
        },
        {
          "data": {
            "text/html": [
              "Find user logs for this run at: <code>/content/wandb/run-20210413_092602-hivq3vl1/logs/debug.log</code>"
            ],
            "text/plain": [
              "<IPython.core.display.HTML object>"
            ]
          },
          "metadata": {
            "tags": []
          },
          "output_type": "display_data"
        },
        {
          "data": {
            "text/html": [
              "Find internal logs for this run at: <code>/content/wandb/run-20210413_092602-hivq3vl1/logs/debug-internal.log</code>"
            ],
            "text/plain": [
              "<IPython.core.display.HTML object>"
            ]
          },
          "metadata": {
            "tags": []
          },
          "output_type": "display_data"
        },
        {
          "data": {
            "text/html": [
              "Synced 4 W&B file(s), 0 media file(s), 2 artifact file(s) and 1 other file(s)"
            ],
            "text/plain": [
              "<IPython.core.display.HTML object>"
            ]
          },
          "metadata": {
            "tags": []
          },
          "output_type": "display_data"
        },
        {
          "data": {
            "text/html": [
              "\n",
              "                    <br/>Synced <strong style=\"color:#cdcd00\">splendid-sweep-4</strong>: <a href=\"https://wandb.ai/cs6910-team/DL-Assignment2-PartA-5April-2/runs/hivq3vl1\" target=\"_blank\">https://wandb.ai/cs6910-team/DL-Assignment2-PartA-5April-2/runs/hivq3vl1</a><br/>\n",
              "                "
            ],
            "text/plain": [
              "<IPython.core.display.HTML object>"
            ]
          },
          "metadata": {
            "tags": []
          },
          "output_type": "display_data"
        },
        {
          "data": {
            "text/html": [
              "...Successfully finished last run (ID:hivq3vl1). Initializing new run:<br/><br/>"
            ],
            "text/plain": [
              "<IPython.core.display.HTML object>"
            ]
          },
          "metadata": {
            "tags": []
          },
          "output_type": "display_data"
        },
        {
          "data": {
            "text/html": [
              "\n",
              "                Tracking run with wandb version 0.10.25<br/>\n",
              "                Syncing run <strong style=\"color:#cdcd00\">splendid-sweep-4</strong> to <a href=\"https://wandb.ai\" target=\"_blank\">Weights & Biases</a> <a href=\"https://docs.wandb.com/integrations/jupyter.html\" target=\"_blank\">(Documentation)</a>.<br/>\n",
              "                Project page: <a href=\"https://wandb.ai/cs6910-team/DL-Assignment2-PartA-5April-2\" target=\"_blank\">https://wandb.ai/cs6910-team/DL-Assignment2-PartA-5April-2</a><br/>\n",
              "                Sweep page: <a href=\"https://wandb.ai/cs6910-team/DL-Assignment2-PartA-5April-2/sweeps/firnynx9\" target=\"_blank\">https://wandb.ai/cs6910-team/DL-Assignment2-PartA-5April-2/sweeps/firnynx9</a><br/>\n",
              "Run page: <a href=\"https://wandb.ai/cs6910-team/DL-Assignment2-PartA-5April-2/runs/hivq3vl1\" target=\"_blank\">https://wandb.ai/cs6910-team/DL-Assignment2-PartA-5April-2/runs/hivq3vl1</a><br/>\n",
              "                Run data is saved locally in <code>/content/wandb/run-20210413_092604-hivq3vl1</code><br/><br/>\n",
              "            "
            ],
            "text/plain": [
              "<IPython.core.display.HTML object>"
            ]
          },
          "metadata": {
            "tags": []
          },
          "output_type": "display_data"
        },
        {
          "name": "stdout",
          "output_type": "stream",
          "text": [
            "Epoch 1/50\n",
            "62/62 [==============================] - 74s 1s/step - loss: 2.4407 - acc: 0.1449 - val_loss: 2.4580 - val_acc: 0.1250\n",
            "Epoch 2/50\n",
            "62/62 [==============================] - 72s 1s/step - loss: 2.2216 - acc: 0.1696 - val_loss: 2.4151 - val_acc: 0.1000\n",
            "Epoch 3/50\n",
            "62/62 [==============================] - 73s 1s/step - loss: 2.1493 - acc: 0.2326 - val_loss: 2.6799 - val_acc: 0.1037\n",
            "Epoch 4/50\n",
            "62/62 [==============================] - 72s 1s/step - loss: 2.1509 - acc: 0.2160 - val_loss: 2.4704 - val_acc: 0.1250\n",
            "Epoch 5/50\n",
            "62/62 [==============================] - 74s 1s/step - loss: 2.1465 - acc: 0.1847 - val_loss: 2.3853 - val_acc: 0.1250\n",
            "Epoch 6/50\n",
            "62/62 [==============================] - 74s 1s/step - loss: 2.1088 - acc: 0.2349 - val_loss: 2.3965 - val_acc: 0.1479\n",
            "Epoch 7/50\n",
            "62/62 [==============================] - 73s 1s/step - loss: 2.0941 - acc: 0.2405 - val_loss: 2.1158 - val_acc: 0.2181\n",
            "Epoch 8/50\n",
            "62/62 [==============================] - 73s 1s/step - loss: 2.0763 - acc: 0.2653 - val_loss: 2.1736 - val_acc: 0.2208\n",
            "Epoch 9/50\n",
            "62/62 [==============================] - 73s 1s/step - loss: 2.0974 - acc: 0.2440 - val_loss: 2.0771 - val_acc: 0.2521\n",
            "Epoch 10/50\n",
            "62/62 [==============================] - 73s 1s/step - loss: 2.0634 - acc: 0.2498 - val_loss: 2.1485 - val_acc: 0.2417\n",
            "Epoch 11/50\n",
            "62/62 [==============================] - 73s 1s/step - loss: 2.0920 - acc: 0.2548 - val_loss: 2.0115 - val_acc: 0.3002\n",
            "Epoch 12/50\n",
            "62/62 [==============================] - 73s 1s/step - loss: 2.0585 - acc: 0.2469 - val_loss: 2.0027 - val_acc: 0.2729\n",
            "Epoch 13/50\n",
            "62/62 [==============================] - 74s 1s/step - loss: 2.0488 - acc: 0.2707 - val_loss: 2.1370 - val_acc: 0.2875\n",
            "Epoch 14/50\n",
            "62/62 [==============================] - 72s 1s/step - loss: 2.0869 - acc: 0.2273 - val_loss: 2.8411 - val_acc: 0.1833\n",
            "Epoch 15/50\n",
            "62/62 [==============================] - 74s 1s/step - loss: 2.0330 - acc: 0.2604 - val_loss: 2.1659 - val_acc: 0.2657\n",
            "Epoch 16/50\n",
            "62/62 [==============================] - 73s 1s/step - loss: 2.0174 - acc: 0.2605 - val_loss: 2.1239 - val_acc: 0.2958\n"
          ]
        },
        {
          "name": "stderr",
          "output_type": "stream",
          "text": [
            "\u001b[34m\u001b[1mwandb\u001b[0m: Agent Starting Run: 64ic89rx with config:\n",
            "\u001b[34m\u001b[1mwandb\u001b[0m: \tactivation: relu\n",
            "\u001b[34m\u001b[1mwandb\u001b[0m: \tbatch_norm: True\n",
            "\u001b[34m\u001b[1mwandb\u001b[0m: \tconv_layers: 5\n",
            "\u001b[34m\u001b[1mwandb\u001b[0m: \tdata_aug: True\n",
            "\u001b[34m\u001b[1mwandb\u001b[0m: \tdense_size: 128\n",
            "\u001b[34m\u001b[1mwandb\u001b[0m: \tdropout: 0.2\n",
            "\u001b[34m\u001b[1mwandb\u001b[0m: \tfilter_org: 1\n",
            "\u001b[34m\u001b[1mwandb\u001b[0m: \tfirst_layer_filters: 64\n",
            "\u001b[34m\u001b[1mwandb\u001b[0m: \tkernel_size: 3\n",
            "\u001b[34m\u001b[1mwandb\u001b[0m: \tnum_epochs: 50\n",
            "\u001b[34m\u001b[1mwandb\u001b[0m: \toptimizer: adam\n"
          ]
        },
        {
          "data": {
            "text/html": [
              "\n",
              "                Tracking run with wandb version 0.10.25<br/>\n",
              "                Syncing run <strong style=\"color:#cdcd00\">fine-sweep-5</strong> to <a href=\"https://wandb.ai\" target=\"_blank\">Weights & Biases</a> <a href=\"https://docs.wandb.com/integrations/jupyter.html\" target=\"_blank\">(Documentation)</a>.<br/>\n",
              "                Project page: <a href=\"https://wandb.ai/cs6910-team/DL-Assignment2-PartA-5April-2\" target=\"_blank\">https://wandb.ai/cs6910-team/DL-Assignment2-PartA-5April-2</a><br/>\n",
              "                Sweep page: <a href=\"https://wandb.ai/cs6910-team/DL-Assignment2-PartA-5April-2/sweeps/firnynx9\" target=\"_blank\">https://wandb.ai/cs6910-team/DL-Assignment2-PartA-5April-2/sweeps/firnynx9</a><br/>\n",
              "Run page: <a href=\"https://wandb.ai/cs6910-team/DL-Assignment2-PartA-5April-2/runs/64ic89rx\" target=\"_blank\">https://wandb.ai/cs6910-team/DL-Assignment2-PartA-5April-2/runs/64ic89rx</a><br/>\n",
              "                Run data is saved locally in <code>/content/wandb/run-20210413_094548-64ic89rx</code><br/><br/>\n",
              "            "
            ],
            "text/plain": [
              "<IPython.core.display.HTML object>"
            ]
          },
          "metadata": {
            "tags": []
          },
          "output_type": "display_data"
        },
        {
          "data": {
            "text/html": [
              "Finishing last run (ID:64ic89rx) before initializing another..."
            ],
            "text/plain": [
              "<IPython.core.display.HTML object>"
            ]
          },
          "metadata": {
            "tags": []
          },
          "output_type": "display_data"
        },
        {
          "data": {
            "text/html": [
              "<br/>Waiting for W&B process to finish, PID 2810<br/>Program ended successfully."
            ],
            "text/plain": [
              "<IPython.core.display.HTML object>"
            ]
          },
          "metadata": {
            "tags": []
          },
          "output_type": "display_data"
        },
        {
          "data": {
            "application/vnd.jupyter.widget-view+json": {
              "model_id": "673c74e638044e9ebac97e95912cb83a",
              "version_major": 2,
              "version_minor": 0
            },
            "text/plain": [
              "VBox(children=(Label(value=' 0.09MB of 0.09MB uploaded (0.00MB deduped)\\r'), FloatProgress(value=1.0, max=1.0)…"
            ]
          },
          "metadata": {
            "tags": []
          },
          "output_type": "display_data"
        },
        {
          "data": {
            "text/html": [
              "Find user logs for this run at: <code>/content/wandb/run-20210413_094548-64ic89rx/logs/debug.log</code>"
            ],
            "text/plain": [
              "<IPython.core.display.HTML object>"
            ]
          },
          "metadata": {
            "tags": []
          },
          "output_type": "display_data"
        },
        {
          "data": {
            "text/html": [
              "Find internal logs for this run at: <code>/content/wandb/run-20210413_094548-64ic89rx/logs/debug-internal.log</code>"
            ],
            "text/plain": [
              "<IPython.core.display.HTML object>"
            ]
          },
          "metadata": {
            "tags": []
          },
          "output_type": "display_data"
        },
        {
          "data": {
            "text/html": [
              "Synced 4 W&B file(s), 0 media file(s), 2 artifact file(s) and 1 other file(s)"
            ],
            "text/plain": [
              "<IPython.core.display.HTML object>"
            ]
          },
          "metadata": {
            "tags": []
          },
          "output_type": "display_data"
        },
        {
          "data": {
            "text/html": [
              "\n",
              "                    <br/>Synced <strong style=\"color:#cdcd00\">fine-sweep-5</strong>: <a href=\"https://wandb.ai/cs6910-team/DL-Assignment2-PartA-5April-2/runs/64ic89rx\" target=\"_blank\">https://wandb.ai/cs6910-team/DL-Assignment2-PartA-5April-2/runs/64ic89rx</a><br/>\n",
              "                "
            ],
            "text/plain": [
              "<IPython.core.display.HTML object>"
            ]
          },
          "metadata": {
            "tags": []
          },
          "output_type": "display_data"
        },
        {
          "data": {
            "text/html": [
              "...Successfully finished last run (ID:64ic89rx). Initializing new run:<br/><br/>"
            ],
            "text/plain": [
              "<IPython.core.display.HTML object>"
            ]
          },
          "metadata": {
            "tags": []
          },
          "output_type": "display_data"
        },
        {
          "data": {
            "text/html": [
              "\n",
              "                Tracking run with wandb version 0.10.25<br/>\n",
              "                Syncing run <strong style=\"color:#cdcd00\">fine-sweep-5</strong> to <a href=\"https://wandb.ai\" target=\"_blank\">Weights & Biases</a> <a href=\"https://docs.wandb.com/integrations/jupyter.html\" target=\"_blank\">(Documentation)</a>.<br/>\n",
              "                Project page: <a href=\"https://wandb.ai/cs6910-team/DL-Assignment2-PartA-5April-2\" target=\"_blank\">https://wandb.ai/cs6910-team/DL-Assignment2-PartA-5April-2</a><br/>\n",
              "                Sweep page: <a href=\"https://wandb.ai/cs6910-team/DL-Assignment2-PartA-5April-2/sweeps/firnynx9\" target=\"_blank\">https://wandb.ai/cs6910-team/DL-Assignment2-PartA-5April-2/sweeps/firnynx9</a><br/>\n",
              "Run page: <a href=\"https://wandb.ai/cs6910-team/DL-Assignment2-PartA-5April-2/runs/64ic89rx\" target=\"_blank\">https://wandb.ai/cs6910-team/DL-Assignment2-PartA-5April-2/runs/64ic89rx</a><br/>\n",
              "                Run data is saved locally in <code>/content/wandb/run-20210413_094550-64ic89rx</code><br/><br/>\n",
              "            "
            ],
            "text/plain": [
              "<IPython.core.display.HTML object>"
            ]
          },
          "metadata": {
            "tags": []
          },
          "output_type": "display_data"
        },
        {
          "name": "stdout",
          "output_type": "stream",
          "text": [
            "Epoch 1/50\n",
            "62/62 [==============================] - 75s 1s/step - loss: 2.5211 - acc: 0.1301 - val_loss: 2.5612 - val_acc: 0.1125\n",
            "Epoch 2/50\n",
            "62/62 [==============================] - 74s 1s/step - loss: 2.2831 - acc: 0.1891 - val_loss: 2.3827 - val_acc: 0.1208\n",
            "Epoch 3/50\n",
            "62/62 [==============================] - 72s 1s/step - loss: 2.1956 - acc: 0.1939 - val_loss: 2.6188 - val_acc: 0.1015\n",
            "Epoch 4/50\n",
            "62/62 [==============================] - 74s 1s/step - loss: 2.2165 - acc: 0.1965 - val_loss: 2.4729 - val_acc: 0.1500\n",
            "Epoch 5/50\n",
            "62/62 [==============================] - 73s 1s/step - loss: 2.1759 - acc: 0.2260 - val_loss: 2.3758 - val_acc: 0.1729\n",
            "Epoch 6/50\n",
            "62/62 [==============================] - 74s 1s/step - loss: 2.1303 - acc: 0.2280 - val_loss: 2.2258 - val_acc: 0.1729\n",
            "Epoch 7/50\n",
            "62/62 [==============================] - 74s 1s/step - loss: 2.1644 - acc: 0.2254 - val_loss: 2.2827 - val_acc: 0.1917\n",
            "Epoch 8/50\n",
            "62/62 [==============================] - 74s 1s/step - loss: 2.1559 - acc: 0.2328 - val_loss: 2.1906 - val_acc: 0.2376\n",
            "Epoch 9/50\n",
            "62/62 [==============================] - 72s 1s/step - loss: 2.0956 - acc: 0.2516 - val_loss: 2.1268 - val_acc: 0.2396\n",
            "Epoch 10/50\n",
            "62/62 [==============================] - 74s 1s/step - loss: 2.1017 - acc: 0.2385 - val_loss: 2.0681 - val_acc: 0.2750\n",
            "Epoch 11/50\n",
            "62/62 [==============================] - 74s 1s/step - loss: 2.0902 - acc: 0.2871 - val_loss: 2.0430 - val_acc: 0.2729\n",
            "Epoch 12/50\n",
            "62/62 [==============================] - 75s 1s/step - loss: 2.1352 - acc: 0.2474 - val_loss: 2.0238 - val_acc: 0.2808\n",
            "Epoch 13/50\n",
            "62/62 [==============================] - 73s 1s/step - loss: 2.0413 - acc: 0.2708 - val_loss: 2.1775 - val_acc: 0.2792\n",
            "Epoch 14/50\n",
            "62/62 [==============================] - 74s 1s/step - loss: 2.0625 - acc: 0.2517 - val_loss: 2.2088 - val_acc: 0.2750\n",
            "Epoch 15/50\n",
            "62/62 [==============================] - 74s 1s/step - loss: 2.0543 - acc: 0.2645 - val_loss: 2.1604 - val_acc: 0.2458\n",
            "Epoch 16/50\n",
            "62/62 [==============================] - 74s 1s/step - loss: 2.0981 - acc: 0.2458 - val_loss: 2.0472 - val_acc: 0.2937\n",
            "Epoch 17/50\n",
            "62/62 [==============================] - 73s 1s/step - loss: 1.9990 - acc: 0.2966 - val_loss: 2.1535 - val_acc: 0.2771\n",
            "Epoch 18/50\n",
            "62/62 [==============================] - 73s 1s/step - loss: 2.0276 - acc: 0.2801 - val_loss: 2.0278 - val_acc: 0.3000\n",
            "Epoch 19/50\n",
            "62/62 [==============================] - 73s 1s/step - loss: 2.0178 - acc: 0.2702 - val_loss: 2.0481 - val_acc: 0.2792\n",
            "Epoch 20/50\n",
            "62/62 [==============================] - 73s 1s/step - loss: 2.0573 - acc: 0.2711 - val_loss: 2.0280 - val_acc: 0.2829\n",
            "Epoch 21/50\n",
            "62/62 [==============================] - 73s 1s/step - loss: 2.0187 - acc: 0.2768 - val_loss: 2.0730 - val_acc: 0.3042\n",
            "Epoch 22/50\n",
            "62/62 [==============================] - 77s 1s/step - loss: 2.0125 - acc: 0.3071 - val_loss: 2.0446 - val_acc: 0.3063\n",
            "Epoch 23/50\n",
            "62/62 [==============================] - 75s 1s/step - loss: 2.0182 - acc: 0.2738 - val_loss: 1.9659 - val_acc: 0.2917\n",
            "Epoch 24/50\n",
            "62/62 [==============================] - 74s 1s/step - loss: 1.9444 - acc: 0.3004 - val_loss: 2.3696 - val_acc: 0.2505\n",
            "Epoch 25/50\n",
            "62/62 [==============================] - 74s 1s/step - loss: 1.9954 - acc: 0.2784 - val_loss: 2.1366 - val_acc: 0.3083\n",
            "Epoch 26/50\n",
            "62/62 [==============================] - 74s 1s/step - loss: 1.9258 - acc: 0.3342 - val_loss: 1.9528 - val_acc: 0.2875\n",
            "Epoch 27/50\n",
            "62/62 [==============================] - 74s 1s/step - loss: 2.0082 - acc: 0.2720 - val_loss: 1.9446 - val_acc: 0.3167\n",
            "Epoch 28/50\n",
            "62/62 [==============================] - 72s 1s/step - loss: 1.9693 - acc: 0.2893 - val_loss: 2.2140 - val_acc: 0.2146\n",
            "Epoch 29/50\n",
            "62/62 [==============================] - 72s 1s/step - loss: 1.9637 - acc: 0.2958 - val_loss: 2.1189 - val_acc: 0.2570\n",
            "Epoch 30/50\n",
            "62/62 [==============================] - 74s 1s/step - loss: 1.9445 - acc: 0.3247 - val_loss: 1.9772 - val_acc: 0.3396\n",
            "Epoch 31/50\n",
            "62/62 [==============================] - 74s 1s/step - loss: 1.9450 - acc: 0.3097 - val_loss: 2.0191 - val_acc: 0.3042\n",
            "Epoch 32/50\n",
            "62/62 [==============================] - 75s 1s/step - loss: 1.9622 - acc: 0.2834 - val_loss: 1.9116 - val_acc: 0.3187\n",
            "Epoch 33/50\n",
            "62/62 [==============================] - 74s 1s/step - loss: 1.9406 - acc: 0.3084 - val_loss: 2.0440 - val_acc: 0.2743\n",
            "Epoch 34/50\n",
            "62/62 [==============================] - 74s 1s/step - loss: 1.9454 - acc: 0.3123 - val_loss: 1.9045 - val_acc: 0.3042\n",
            "Epoch 35/50\n",
            "62/62 [==============================] - 75s 1s/step - loss: 1.8793 - acc: 0.3364 - val_loss: 1.9397 - val_acc: 0.3167\n"
          ]
        },
        {
          "name": "stderr",
          "output_type": "stream",
          "text": [
            "\u001b[34m\u001b[1mwandb\u001b[0m: Agent Starting Run: gvcgxw3l with config:\n",
            "\u001b[34m\u001b[1mwandb\u001b[0m: \tactivation: relu\n",
            "\u001b[34m\u001b[1mwandb\u001b[0m: \tbatch_norm: True\n",
            "\u001b[34m\u001b[1mwandb\u001b[0m: \tconv_layers: 5\n",
            "\u001b[34m\u001b[1mwandb\u001b[0m: \tdata_aug: True\n",
            "\u001b[34m\u001b[1mwandb\u001b[0m: \tdense_size: 128\n",
            "\u001b[34m\u001b[1mwandb\u001b[0m: \tdropout: 0.2\n",
            "\u001b[34m\u001b[1mwandb\u001b[0m: \tfilter_org: 0.5\n",
            "\u001b[34m\u001b[1mwandb\u001b[0m: \tfirst_layer_filters: 32\n",
            "\u001b[34m\u001b[1mwandb\u001b[0m: \tkernel_size: 3\n",
            "\u001b[34m\u001b[1mwandb\u001b[0m: \tnum_epochs: 50\n",
            "\u001b[34m\u001b[1mwandb\u001b[0m: \toptimizer: adam\n"
          ]
        },
        {
          "data": {
            "text/html": [
              "\n",
              "                Tracking run with wandb version 0.10.25<br/>\n",
              "                Syncing run <strong style=\"color:#cdcd00\">good-sweep-6</strong> to <a href=\"https://wandb.ai\" target=\"_blank\">Weights & Biases</a> <a href=\"https://docs.wandb.com/integrations/jupyter.html\" target=\"_blank\">(Documentation)</a>.<br/>\n",
              "                Project page: <a href=\"https://wandb.ai/cs6910-team/DL-Assignment2-PartA-5April-2\" target=\"_blank\">https://wandb.ai/cs6910-team/DL-Assignment2-PartA-5April-2</a><br/>\n",
              "                Sweep page: <a href=\"https://wandb.ai/cs6910-team/DL-Assignment2-PartA-5April-2/sweeps/firnynx9\" target=\"_blank\">https://wandb.ai/cs6910-team/DL-Assignment2-PartA-5April-2/sweeps/firnynx9</a><br/>\n",
              "Run page: <a href=\"https://wandb.ai/cs6910-team/DL-Assignment2-PartA-5April-2/runs/gvcgxw3l\" target=\"_blank\">https://wandb.ai/cs6910-team/DL-Assignment2-PartA-5April-2/runs/gvcgxw3l</a><br/>\n",
              "                Run data is saved locally in <code>/content/wandb/run-20210413_102906-gvcgxw3l</code><br/><br/>\n",
              "            "
            ],
            "text/plain": [
              "<IPython.core.display.HTML object>"
            ]
          },
          "metadata": {
            "tags": []
          },
          "output_type": "display_data"
        },
        {
          "data": {
            "text/html": [
              "Finishing last run (ID:gvcgxw3l) before initializing another..."
            ],
            "text/plain": [
              "<IPython.core.display.HTML object>"
            ]
          },
          "metadata": {
            "tags": []
          },
          "output_type": "display_data"
        },
        {
          "data": {
            "text/html": [
              "<br/>Waiting for W&B process to finish, PID 3075<br/>Program ended successfully."
            ],
            "text/plain": [
              "<IPython.core.display.HTML object>"
            ]
          },
          "metadata": {
            "tags": []
          },
          "output_type": "display_data"
        },
        {
          "data": {
            "application/vnd.jupyter.widget-view+json": {
              "model_id": "503151b7f76f42f5956d0eeb1c1d38d0",
              "version_major": 2,
              "version_minor": 0
            },
            "text/plain": [
              "VBox(children=(Label(value=' 0.11MB of 0.11MB uploaded (0.00MB deduped)\\r'), FloatProgress(value=1.0, max=1.0)…"
            ]
          },
          "metadata": {
            "tags": []
          },
          "output_type": "display_data"
        },
        {
          "data": {
            "text/html": [
              "Find user logs for this run at: <code>/content/wandb/run-20210413_102906-gvcgxw3l/logs/debug.log</code>"
            ],
            "text/plain": [
              "<IPython.core.display.HTML object>"
            ]
          },
          "metadata": {
            "tags": []
          },
          "output_type": "display_data"
        },
        {
          "data": {
            "text/html": [
              "Find internal logs for this run at: <code>/content/wandb/run-20210413_102906-gvcgxw3l/logs/debug-internal.log</code>"
            ],
            "text/plain": [
              "<IPython.core.display.HTML object>"
            ]
          },
          "metadata": {
            "tags": []
          },
          "output_type": "display_data"
        },
        {
          "data": {
            "text/html": [
              "Synced 4 W&B file(s), 0 media file(s), 2 artifact file(s) and 1 other file(s)"
            ],
            "text/plain": [
              "<IPython.core.display.HTML object>"
            ]
          },
          "metadata": {
            "tags": []
          },
          "output_type": "display_data"
        },
        {
          "data": {
            "text/html": [
              "\n",
              "                    <br/>Synced <strong style=\"color:#cdcd00\">good-sweep-6</strong>: <a href=\"https://wandb.ai/cs6910-team/DL-Assignment2-PartA-5April-2/runs/gvcgxw3l\" target=\"_blank\">https://wandb.ai/cs6910-team/DL-Assignment2-PartA-5April-2/runs/gvcgxw3l</a><br/>\n",
              "                "
            ],
            "text/plain": [
              "<IPython.core.display.HTML object>"
            ]
          },
          "metadata": {
            "tags": []
          },
          "output_type": "display_data"
        },
        {
          "data": {
            "text/html": [
              "...Successfully finished last run (ID:gvcgxw3l). Initializing new run:<br/><br/>"
            ],
            "text/plain": [
              "<IPython.core.display.HTML object>"
            ]
          },
          "metadata": {
            "tags": []
          },
          "output_type": "display_data"
        },
        {
          "data": {
            "text/html": [
              "\n",
              "                Tracking run with wandb version 0.10.25<br/>\n",
              "                Syncing run <strong style=\"color:#cdcd00\">good-sweep-6</strong> to <a href=\"https://wandb.ai\" target=\"_blank\">Weights & Biases</a> <a href=\"https://docs.wandb.com/integrations/jupyter.html\" target=\"_blank\">(Documentation)</a>.<br/>\n",
              "                Project page: <a href=\"https://wandb.ai/cs6910-team/DL-Assignment2-PartA-5April-2\" target=\"_blank\">https://wandb.ai/cs6910-team/DL-Assignment2-PartA-5April-2</a><br/>\n",
              "                Sweep page: <a href=\"https://wandb.ai/cs6910-team/DL-Assignment2-PartA-5April-2/sweeps/firnynx9\" target=\"_blank\">https://wandb.ai/cs6910-team/DL-Assignment2-PartA-5April-2/sweeps/firnynx9</a><br/>\n",
              "Run page: <a href=\"https://wandb.ai/cs6910-team/DL-Assignment2-PartA-5April-2/runs/gvcgxw3l\" target=\"_blank\">https://wandb.ai/cs6910-team/DL-Assignment2-PartA-5April-2/runs/gvcgxw3l</a><br/>\n",
              "                Run data is saved locally in <code>/content/wandb/run-20210413_102909-gvcgxw3l</code><br/><br/>\n",
              "            "
            ],
            "text/plain": [
              "<IPython.core.display.HTML object>"
            ]
          },
          "metadata": {
            "tags": []
          },
          "output_type": "display_data"
        },
        {
          "name": "stdout",
          "output_type": "stream",
          "text": [
            "Epoch 1/50\n",
            "62/62 [==============================] - 71s 1s/step - loss: 2.5602 - acc: 0.1083 - val_loss: 2.3041 - val_acc: 0.1083\n",
            "Epoch 2/50\n",
            "62/62 [==============================] - 68s 1s/step - loss: 2.3465 - acc: 0.1454 - val_loss: 2.3272 - val_acc: 0.0994\n",
            "Epoch 3/50\n",
            "62/62 [==============================] - 71s 1s/step - loss: 2.3338 - acc: 0.1523 - val_loss: 2.2985 - val_acc: 0.0979\n",
            "Epoch 4/50\n",
            "62/62 [==============================] - 70s 1s/step - loss: 2.2821 - acc: 0.1647 - val_loss: 2.3119 - val_acc: 0.1292\n",
            "Epoch 5/50\n",
            "62/62 [==============================] - 70s 1s/step - loss: 2.2959 - acc: 0.1531 - val_loss: 2.2513 - val_acc: 0.1750\n",
            "Epoch 6/50\n",
            "62/62 [==============================] - 69s 1s/step - loss: 2.2018 - acc: 0.1878 - val_loss: 2.2727 - val_acc: 0.1317\n",
            "Epoch 7/50\n",
            "62/62 [==============================] - 71s 1s/step - loss: 2.2343 - acc: 0.1821 - val_loss: 2.2477 - val_acc: 0.1583\n",
            "Epoch 8/50\n",
            "62/62 [==============================] - 70s 1s/step - loss: 2.2360 - acc: 0.1879 - val_loss: 2.1889 - val_acc: 0.1792\n",
            "Epoch 9/50\n",
            "62/62 [==============================] - 70s 1s/step - loss: 2.2326 - acc: 0.1769 - val_loss: 2.1376 - val_acc: 0.1875\n",
            "Epoch 10/50\n",
            "62/62 [==============================] - 68s 1s/step - loss: 2.2245 - acc: 0.1843 - val_loss: 2.1746 - val_acc: 0.1987\n",
            "Epoch 11/50\n",
            "62/62 [==============================] - 70s 1s/step - loss: 2.1923 - acc: 0.1957 - val_loss: 2.2421 - val_acc: 0.1667\n",
            "Epoch 12/50\n",
            "62/62 [==============================] - 72s 1s/step - loss: 2.2219 - acc: 0.1831 - val_loss: 2.1528 - val_acc: 0.2167\n",
            "Epoch 13/50\n",
            "62/62 [==============================] - 71s 1s/step - loss: 2.1986 - acc: 0.1832 - val_loss: 2.1343 - val_acc: 0.2313\n",
            "Epoch 14/50\n",
            "62/62 [==============================] - 70s 1s/step - loss: 2.2053 - acc: 0.1729 - val_loss: 2.1531 - val_acc: 0.1979\n",
            "Epoch 15/50\n",
            "62/62 [==============================] - 70s 1s/step - loss: 2.2066 - acc: 0.1845 - val_loss: 2.1186 - val_acc: 0.2397\n",
            "Epoch 16/50\n",
            "62/62 [==============================] - 70s 1s/step - loss: 2.1747 - acc: 0.2109 - val_loss: 2.1422 - val_acc: 0.2125\n",
            "Epoch 17/50\n",
            "62/62 [==============================] - 70s 1s/step - loss: 2.1817 - acc: 0.1953 - val_loss: 2.1904 - val_acc: 0.1813\n",
            "Epoch 18/50\n",
            "62/62 [==============================] - 70s 1s/step - loss: 2.1743 - acc: 0.1935 - val_loss: 2.2586 - val_acc: 0.1833\n",
            "Epoch 19/50\n",
            "62/62 [==============================] - 69s 1s/step - loss: 2.1494 - acc: 0.2077 - val_loss: 2.1707 - val_acc: 0.2030\n",
            "Epoch 20/50\n",
            "62/62 [==============================] - 70s 1s/step - loss: 2.1188 - acc: 0.2142 - val_loss: 2.1329 - val_acc: 0.2292\n"
          ]
        },
        {
          "name": "stderr",
          "output_type": "stream",
          "text": [
            "\u001b[34m\u001b[1mwandb\u001b[0m: Agent Starting Run: 3vvzrj50 with config:\n",
            "\u001b[34m\u001b[1mwandb\u001b[0m: \tactivation: relu\n",
            "\u001b[34m\u001b[1mwandb\u001b[0m: \tbatch_norm: True\n",
            "\u001b[34m\u001b[1mwandb\u001b[0m: \tconv_layers: 5\n",
            "\u001b[34m\u001b[1mwandb\u001b[0m: \tdata_aug: True\n",
            "\u001b[34m\u001b[1mwandb\u001b[0m: \tdense_size: 128\n",
            "\u001b[34m\u001b[1mwandb\u001b[0m: \tdropout: 0.3\n",
            "\u001b[34m\u001b[1mwandb\u001b[0m: \tfilter_org: 0.5\n",
            "\u001b[34m\u001b[1mwandb\u001b[0m: \tfirst_layer_filters: 64\n",
            "\u001b[34m\u001b[1mwandb\u001b[0m: \tkernel_size: 3\n",
            "\u001b[34m\u001b[1mwandb\u001b[0m: \tnum_epochs: 50\n",
            "\u001b[34m\u001b[1mwandb\u001b[0m: \toptimizer: adam\n"
          ]
        },
        {
          "data": {
            "text/html": [
              "\n",
              "                Tracking run with wandb version 0.10.25<br/>\n",
              "                Syncing run <strong style=\"color:#cdcd00\">charmed-sweep-7</strong> to <a href=\"https://wandb.ai\" target=\"_blank\">Weights & Biases</a> <a href=\"https://docs.wandb.com/integrations/jupyter.html\" target=\"_blank\">(Documentation)</a>.<br/>\n",
              "                Project page: <a href=\"https://wandb.ai/cs6910-team/DL-Assignment2-PartA-5April-2\" target=\"_blank\">https://wandb.ai/cs6910-team/DL-Assignment2-PartA-5April-2</a><br/>\n",
              "                Sweep page: <a href=\"https://wandb.ai/cs6910-team/DL-Assignment2-PartA-5April-2/sweeps/firnynx9\" target=\"_blank\">https://wandb.ai/cs6910-team/DL-Assignment2-PartA-5April-2/sweeps/firnynx9</a><br/>\n",
              "Run page: <a href=\"https://wandb.ai/cs6910-team/DL-Assignment2-PartA-5April-2/runs/3vvzrj50\" target=\"_blank\">https://wandb.ai/cs6910-team/DL-Assignment2-PartA-5April-2/runs/3vvzrj50</a><br/>\n",
              "                Run data is saved locally in <code>/content/wandb/run-20210413_105245-3vvzrj50</code><br/><br/>\n",
              "            "
            ],
            "text/plain": [
              "<IPython.core.display.HTML object>"
            ]
          },
          "metadata": {
            "tags": []
          },
          "output_type": "display_data"
        },
        {
          "data": {
            "text/html": [
              "Finishing last run (ID:3vvzrj50) before initializing another..."
            ],
            "text/plain": [
              "<IPython.core.display.HTML object>"
            ]
          },
          "metadata": {
            "tags": []
          },
          "output_type": "display_data"
        },
        {
          "data": {
            "text/html": [
              "<br/>Waiting for W&B process to finish, PID 3226<br/>Program ended successfully."
            ],
            "text/plain": [
              "<IPython.core.display.HTML object>"
            ]
          },
          "metadata": {
            "tags": []
          },
          "output_type": "display_data"
        },
        {
          "data": {
            "application/vnd.jupyter.widget-view+json": {
              "model_id": "40402f949f6347fe9186eeab046d1d17",
              "version_major": 2,
              "version_minor": 0
            },
            "text/plain": [
              "VBox(children=(Label(value=' 0.12MB of 0.12MB uploaded (0.00MB deduped)\\r'), FloatProgress(value=1.0, max=1.0)…"
            ]
          },
          "metadata": {
            "tags": []
          },
          "output_type": "display_data"
        },
        {
          "data": {
            "text/html": [
              "Find user logs for this run at: <code>/content/wandb/run-20210413_105245-3vvzrj50/logs/debug.log</code>"
            ],
            "text/plain": [
              "<IPython.core.display.HTML object>"
            ]
          },
          "metadata": {
            "tags": []
          },
          "output_type": "display_data"
        },
        {
          "data": {
            "text/html": [
              "Find internal logs for this run at: <code>/content/wandb/run-20210413_105245-3vvzrj50/logs/debug-internal.log</code>"
            ],
            "text/plain": [
              "<IPython.core.display.HTML object>"
            ]
          },
          "metadata": {
            "tags": []
          },
          "output_type": "display_data"
        },
        {
          "data": {
            "text/html": [
              "Synced 4 W&B file(s), 0 media file(s), 2 artifact file(s) and 1 other file(s)"
            ],
            "text/plain": [
              "<IPython.core.display.HTML object>"
            ]
          },
          "metadata": {
            "tags": []
          },
          "output_type": "display_data"
        },
        {
          "data": {
            "text/html": [
              "\n",
              "                    <br/>Synced <strong style=\"color:#cdcd00\">charmed-sweep-7</strong>: <a href=\"https://wandb.ai/cs6910-team/DL-Assignment2-PartA-5April-2/runs/3vvzrj50\" target=\"_blank\">https://wandb.ai/cs6910-team/DL-Assignment2-PartA-5April-2/runs/3vvzrj50</a><br/>\n",
              "                "
            ],
            "text/plain": [
              "<IPython.core.display.HTML object>"
            ]
          },
          "metadata": {
            "tags": []
          },
          "output_type": "display_data"
        },
        {
          "data": {
            "text/html": [
              "...Successfully finished last run (ID:3vvzrj50). Initializing new run:<br/><br/>"
            ],
            "text/plain": [
              "<IPython.core.display.HTML object>"
            ]
          },
          "metadata": {
            "tags": []
          },
          "output_type": "display_data"
        },
        {
          "data": {
            "text/html": [
              "\n",
              "                Tracking run with wandb version 0.10.25<br/>\n",
              "                Syncing run <strong style=\"color:#cdcd00\">charmed-sweep-7</strong> to <a href=\"https://wandb.ai\" target=\"_blank\">Weights & Biases</a> <a href=\"https://docs.wandb.com/integrations/jupyter.html\" target=\"_blank\">(Documentation)</a>.<br/>\n",
              "                Project page: <a href=\"https://wandb.ai/cs6910-team/DL-Assignment2-PartA-5April-2\" target=\"_blank\">https://wandb.ai/cs6910-team/DL-Assignment2-PartA-5April-2</a><br/>\n",
              "                Sweep page: <a href=\"https://wandb.ai/cs6910-team/DL-Assignment2-PartA-5April-2/sweeps/firnynx9\" target=\"_blank\">https://wandb.ai/cs6910-team/DL-Assignment2-PartA-5April-2/sweeps/firnynx9</a><br/>\n",
              "Run page: <a href=\"https://wandb.ai/cs6910-team/DL-Assignment2-PartA-5April-2/runs/3vvzrj50\" target=\"_blank\">https://wandb.ai/cs6910-team/DL-Assignment2-PartA-5April-2/runs/3vvzrj50</a><br/>\n",
              "                Run data is saved locally in <code>/content/wandb/run-20210413_105249-3vvzrj50</code><br/><br/>\n",
              "            "
            ],
            "text/plain": [
              "<IPython.core.display.HTML object>"
            ]
          },
          "metadata": {
            "tags": []
          },
          "output_type": "display_data"
        },
        {
          "name": "stdout",
          "output_type": "stream",
          "text": [
            "Epoch 1/50\n",
            "62/62 [==============================] - 74s 1s/step - loss: 2.7035 - acc: 0.1110 - val_loss: 2.3119 - val_acc: 0.1000\n",
            "Epoch 2/50\n",
            "62/62 [==============================] - 72s 1s/step - loss: 2.4500 - acc: 0.1290 - val_loss: 2.3546 - val_acc: 0.0771\n",
            "Epoch 3/50\n",
            "62/62 [==============================] - 72s 1s/step - loss: 2.3408 - acc: 0.1500 - val_loss: 2.3975 - val_acc: 0.1274\n",
            "Epoch 4/50\n",
            "62/62 [==============================] - 74s 1s/step - loss: 2.3413 - acc: 0.1634 - val_loss: 2.3960 - val_acc: 0.1042\n",
            "Epoch 5/50\n",
            "62/62 [==============================] - 73s 1s/step - loss: 2.2675 - acc: 0.1921 - val_loss: 2.3840 - val_acc: 0.0958\n",
            "Epoch 6/50\n",
            "62/62 [==============================] - 72s 1s/step - loss: 2.2526 - acc: 0.1805 - val_loss: 2.4192 - val_acc: 0.1167\n",
            "Epoch 7/50\n",
            "62/62 [==============================] - 72s 1s/step - loss: 2.2256 - acc: 0.1954 - val_loss: 2.3030 - val_acc: 0.1490\n",
            "Epoch 8/50\n",
            "62/62 [==============================] - 73s 1s/step - loss: 2.2145 - acc: 0.1757 - val_loss: 2.2809 - val_acc: 0.1500\n",
            "Epoch 9/50\n",
            "62/62 [==============================] - 73s 1s/step - loss: 2.2700 - acc: 0.1865 - val_loss: 2.1768 - val_acc: 0.2021\n",
            "Epoch 10/50\n",
            "62/62 [==============================] - 71s 1s/step - loss: 2.2025 - acc: 0.2047 - val_loss: 2.1517 - val_acc: 0.1813\n",
            "Epoch 11/50\n",
            "62/62 [==============================] - 72s 1s/step - loss: 2.1970 - acc: 0.1944 - val_loss: 2.1385 - val_acc: 0.2246\n",
            "Epoch 12/50\n",
            "62/62 [==============================] - 73s 1s/step - loss: 2.1692 - acc: 0.1989 - val_loss: 2.1220 - val_acc: 0.2271\n",
            "Epoch 13/50\n",
            "62/62 [==============================] - 73s 1s/step - loss: 2.1651 - acc: 0.2093 - val_loss: 2.1570 - val_acc: 0.1875\n",
            "Epoch 14/50\n",
            "62/62 [==============================] - 71s 1s/step - loss: 2.1832 - acc: 0.2304 - val_loss: 2.0896 - val_acc: 0.2375\n",
            "Epoch 15/50\n",
            "62/62 [==============================] - 73s 1s/step - loss: 2.1664 - acc: 0.2249 - val_loss: 2.0396 - val_acc: 0.2604\n",
            "Epoch 16/50\n",
            "62/62 [==============================] - 73s 1s/step - loss: 2.1608 - acc: 0.2254 - val_loss: 2.0681 - val_acc: 0.2873\n",
            "Epoch 17/50\n",
            "62/62 [==============================] - 73s 1s/step - loss: 2.1326 - acc: 0.2297 - val_loss: 2.0677 - val_acc: 0.2708\n",
            "Epoch 18/50\n",
            "62/62 [==============================] - 72s 1s/step - loss: 2.1483 - acc: 0.2292 - val_loss: 2.1654 - val_acc: 0.1813\n",
            "Epoch 19/50\n",
            "62/62 [==============================] - 74s 1s/step - loss: 2.1058 - acc: 0.2195 - val_loss: 2.0553 - val_acc: 0.2354\n",
            "Epoch 20/50\n",
            "62/62 [==============================] - 71s 1s/step - loss: 2.0951 - acc: 0.2291 - val_loss: 2.0525 - val_acc: 0.2613\n",
            "Epoch 21/50\n",
            "62/62 [==============================] - 71s 1s/step - loss: 2.1388 - acc: 0.2313 - val_loss: 2.0855 - val_acc: 0.2271\n"
          ]
        },
        {
          "name": "stderr",
          "output_type": "stream",
          "text": [
            "\u001b[34m\u001b[1mwandb\u001b[0m: Agent Starting Run: 3sd2cunk with config:\n",
            "\u001b[34m\u001b[1mwandb\u001b[0m: \tactivation: relu\n",
            "\u001b[34m\u001b[1mwandb\u001b[0m: \tbatch_norm: True\n",
            "\u001b[34m\u001b[1mwandb\u001b[0m: \tconv_layers: 5\n",
            "\u001b[34m\u001b[1mwandb\u001b[0m: \tdata_aug: True\n",
            "\u001b[34m\u001b[1mwandb\u001b[0m: \tdense_size: 32\n",
            "\u001b[34m\u001b[1mwandb\u001b[0m: \tdropout: 0.2\n",
            "\u001b[34m\u001b[1mwandb\u001b[0m: \tfilter_org: 1\n",
            "\u001b[34m\u001b[1mwandb\u001b[0m: \tfirst_layer_filters: 32\n",
            "\u001b[34m\u001b[1mwandb\u001b[0m: \tkernel_size: 3\n",
            "\u001b[34m\u001b[1mwandb\u001b[0m: \tnum_epochs: 50\n",
            "\u001b[34m\u001b[1mwandb\u001b[0m: \toptimizer: adam\n"
          ]
        },
        {
          "data": {
            "text/html": [
              "\n",
              "                Tracking run with wandb version 0.10.25<br/>\n",
              "                Syncing run <strong style=\"color:#cdcd00\">dry-sweep-8</strong> to <a href=\"https://wandb.ai\" target=\"_blank\">Weights & Biases</a> <a href=\"https://docs.wandb.com/integrations/jupyter.html\" target=\"_blank\">(Documentation)</a>.<br/>\n",
              "                Project page: <a href=\"https://wandb.ai/cs6910-team/DL-Assignment2-PartA-5April-2\" target=\"_blank\">https://wandb.ai/cs6910-team/DL-Assignment2-PartA-5April-2</a><br/>\n",
              "                Sweep page: <a href=\"https://wandb.ai/cs6910-team/DL-Assignment2-PartA-5April-2/sweeps/firnynx9\" target=\"_blank\">https://wandb.ai/cs6910-team/DL-Assignment2-PartA-5April-2/sweeps/firnynx9</a><br/>\n",
              "Run page: <a href=\"https://wandb.ai/cs6910-team/DL-Assignment2-PartA-5April-2/runs/3sd2cunk\" target=\"_blank\">https://wandb.ai/cs6910-team/DL-Assignment2-PartA-5April-2/runs/3sd2cunk</a><br/>\n",
              "                Run data is saved locally in <code>/content/wandb/run-20210413_111825-3sd2cunk</code><br/><br/>\n",
              "            "
            ],
            "text/plain": [
              "<IPython.core.display.HTML object>"
            ]
          },
          "metadata": {
            "tags": []
          },
          "output_type": "display_data"
        },
        {
          "data": {
            "text/html": [
              "Finishing last run (ID:3sd2cunk) before initializing another..."
            ],
            "text/plain": [
              "<IPython.core.display.HTML object>"
            ]
          },
          "metadata": {
            "tags": []
          },
          "output_type": "display_data"
        },
        {
          "data": {
            "text/html": [
              "<br/>Waiting for W&B process to finish, PID 3417<br/>Program ended successfully."
            ],
            "text/plain": [
              "<IPython.core.display.HTML object>"
            ]
          },
          "metadata": {
            "tags": []
          },
          "output_type": "display_data"
        },
        {
          "data": {
            "application/vnd.jupyter.widget-view+json": {
              "model_id": "db98bcbf76c24458bcc1b337ad0465aa",
              "version_major": 2,
              "version_minor": 0
            },
            "text/plain": [
              "VBox(children=(Label(value=' 0.13MB of 0.13MB uploaded (0.00MB deduped)\\r'), FloatProgress(value=1.0, max=1.0)…"
            ]
          },
          "metadata": {
            "tags": []
          },
          "output_type": "display_data"
        },
        {
          "data": {
            "text/html": [
              "Find user logs for this run at: <code>/content/wandb/run-20210413_111825-3sd2cunk/logs/debug.log</code>"
            ],
            "text/plain": [
              "<IPython.core.display.HTML object>"
            ]
          },
          "metadata": {
            "tags": []
          },
          "output_type": "display_data"
        },
        {
          "data": {
            "text/html": [
              "Find internal logs for this run at: <code>/content/wandb/run-20210413_111825-3sd2cunk/logs/debug-internal.log</code>"
            ],
            "text/plain": [
              "<IPython.core.display.HTML object>"
            ]
          },
          "metadata": {
            "tags": []
          },
          "output_type": "display_data"
        },
        {
          "data": {
            "text/html": [
              "Synced 4 W&B file(s), 0 media file(s), 2 artifact file(s) and 1 other file(s)"
            ],
            "text/plain": [
              "<IPython.core.display.HTML object>"
            ]
          },
          "metadata": {
            "tags": []
          },
          "output_type": "display_data"
        },
        {
          "data": {
            "text/html": [
              "\n",
              "                    <br/>Synced <strong style=\"color:#cdcd00\">dry-sweep-8</strong>: <a href=\"https://wandb.ai/cs6910-team/DL-Assignment2-PartA-5April-2/runs/3sd2cunk\" target=\"_blank\">https://wandb.ai/cs6910-team/DL-Assignment2-PartA-5April-2/runs/3sd2cunk</a><br/>\n",
              "                "
            ],
            "text/plain": [
              "<IPython.core.display.HTML object>"
            ]
          },
          "metadata": {
            "tags": []
          },
          "output_type": "display_data"
        },
        {
          "data": {
            "text/html": [
              "...Successfully finished last run (ID:3sd2cunk). Initializing new run:<br/><br/>"
            ],
            "text/plain": [
              "<IPython.core.display.HTML object>"
            ]
          },
          "metadata": {
            "tags": []
          },
          "output_type": "display_data"
        },
        {
          "data": {
            "text/html": [
              "\n",
              "                Tracking run with wandb version 0.10.25<br/>\n",
              "                Syncing run <strong style=\"color:#cdcd00\">dry-sweep-8</strong> to <a href=\"https://wandb.ai\" target=\"_blank\">Weights & Biases</a> <a href=\"https://docs.wandb.com/integrations/jupyter.html\" target=\"_blank\">(Documentation)</a>.<br/>\n",
              "                Project page: <a href=\"https://wandb.ai/cs6910-team/DL-Assignment2-PartA-5April-2\" target=\"_blank\">https://wandb.ai/cs6910-team/DL-Assignment2-PartA-5April-2</a><br/>\n",
              "                Sweep page: <a href=\"https://wandb.ai/cs6910-team/DL-Assignment2-PartA-5April-2/sweeps/firnynx9\" target=\"_blank\">https://wandb.ai/cs6910-team/DL-Assignment2-PartA-5April-2/sweeps/firnynx9</a><br/>\n",
              "Run page: <a href=\"https://wandb.ai/cs6910-team/DL-Assignment2-PartA-5April-2/runs/3sd2cunk\" target=\"_blank\">https://wandb.ai/cs6910-team/DL-Assignment2-PartA-5April-2/runs/3sd2cunk</a><br/>\n",
              "                Run data is saved locally in <code>/content/wandb/run-20210413_111828-3sd2cunk</code><br/><br/>\n",
              "            "
            ],
            "text/plain": [
              "<IPython.core.display.HTML object>"
            ]
          },
          "metadata": {
            "tags": []
          },
          "output_type": "display_data"
        },
        {
          "name": "stdout",
          "output_type": "stream",
          "text": [
            "Epoch 1/50\n",
            "     22/Unknown - 24s 1s/step - loss: 2.6613 - acc: 0.1099"
          ]
        },
        {
          "name": "stderr",
          "output_type": "stream",
          "text": [
            "\u001b[34m\u001b[1mwandb\u001b[0m: Ctrl + C detected. Stopping sweep.\n"
          ]
        }
      ],
      "source": [
        "#################################\n",
        "# Setting up wandb sweeps\n",
        "#################################\n",
        "def train():\n",
        "    # Initialize wandb run\n",
        "    wandb.init(project=\"Simple_cnn\")  \n",
        "    config = wandb.config\n",
        "\n",
        "    # print config to verify keys exist\n",
        "    print(\"Loaded Config:\", config)\n",
        "\n",
        "    \n",
        "    model = SimpleCNN(\n",
        "         # Default filters\n",
        "        conv_filters=config.get(\"conv_filters\", [32, 32, 32, 32, 32]), \n",
        "        conv_kernel_sizes=config.get(\"conv_kernel_sizes\", [3, 3, 3, 3, 3]),\n",
        "        conv_activation=config.get(\"conv_activation\", \"ReLU\"),\n",
        "        dense_neurons=config.get(\"dense_neurons\", 128),\n",
        "        dense_activation=config.get(\"dense_activation\", \"ReLU\"),\n",
        "        dropout=config.get(\"dropout\", 0.2),\n",
        "        use_batchnorm=config.get(\"use_batchnorm\", False),\n",
        "        lr=config.get(\"lr\", 1e-3)\n",
        "    )\n",
        "\n",
        "    data_module = INaturalistDataModule(\n",
        "        data_dir='/kaggle/input/inaturalist-dataset/inaturalist_12K',\n",
        "        batch_size=config.get(\"batch_size\", 32),\n",
        "        use_augmentation=config.get(\"use_augmentation\", False) \n",
        "    )\n",
        "    data_module.setup()\n",
        "    train_loader = data_module.train_dataloader()\n",
        "    val_loader = data_module.val_dataloader()\n",
        "    test_loader = data_module.test_dataloader()\n",
        "\n",
        "    # Log training process with wandb\n",
        "    wandb_logger = WandbLogger(project=\"Simple_cnn\", log_model=\"all\")\n",
        "\n",
        "    # Define Trainer pytorch_lighting method which automatically trains model and logs metrics \n",
        "    trainer = pl.Trainer(\n",
        "        max_epochs=10,   \n",
        "        logger=wandb_logger,\n",
        "    )\n",
        "\n",
        "    # Train the model\n",
        "    trainer.fit(model, train_loader,val_loader)\n",
        " \n",
        "if __name__ == \"__main__\":\n",
        "    \n",
        "    user_secrets = UserSecretsClient() #if using in  kaggle set up the wandb key and use that key to access wandb \n",
        "    secret_value_0 = user_secrets.get_secret(\"wandb\")\n",
        "    wandb.login(key=secret_value_0)\n",
        "    sweep_id = wandb.sweep(sweep_config,project='Simple_cnn')\n",
        "    \n",
        "    wandb.agent(sweep_id, train, count=30)  # Runs 30 experiments"
      ]
    },
    {
      "cell_type": "code",
      "execution_count": null,
      "metadata": {
        "id": "ymMrW8e7cik6"
      },
      "outputs": [],
      "source": []
    }
  ],
  "metadata": {
    "accelerator": "GPU",
    "colab": {
      "collapsed_sections": [],
      "name": "DL-Assignment2-PartA.ipynb",
      "provenance": []
    },
    "kernelspec": {
      "display_name": "Python 3",
      "name": "python3"
    },
    "language_info": {
      "codemirror_mode": {
        "name": "ipython",
        "version": 3
      },
      "file_extension": ".py",
      "mimetype": "text/x-python",
      "name": "python",
      "nbconvert_exporter": "python",
      "pygments_lexer": "ipython3",
      "version": "3.11.3"
    },
    "widgets": {
      "application/vnd.jupyter.widget-state+json": {
        "01b06c7d4f17439a841d67068142ae3d": {
          "model_module": "@jupyter-widgets/controls",
          "model_name": "DescriptionStyleModel",
          "state": {
            "_model_module": "@jupyter-widgets/controls",
            "_model_module_version": "1.5.0",
            "_model_name": "DescriptionStyleModel",
            "_view_count": null,
            "_view_module": "@jupyter-widgets/base",
            "_view_module_version": "1.2.0",
            "_view_name": "StyleView",
            "description_width": ""
          }
        },
        "0276a88482134831a5a674591c44de5c": {
          "model_module": "@jupyter-widgets/base",
          "model_name": "LayoutModel",
          "state": {
            "_model_module": "@jupyter-widgets/base",
            "_model_module_version": "1.2.0",
            "_model_name": "LayoutModel",
            "_view_count": null,
            "_view_module": "@jupyter-widgets/base",
            "_view_module_version": "1.2.0",
            "_view_name": "LayoutView",
            "align_content": null,
            "align_items": null,
            "align_self": null,
            "border": null,
            "bottom": null,
            "display": null,
            "flex": null,
            "flex_flow": null,
            "grid_area": null,
            "grid_auto_columns": null,
            "grid_auto_flow": null,
            "grid_auto_rows": null,
            "grid_column": null,
            "grid_gap": null,
            "grid_row": null,
            "grid_template_areas": null,
            "grid_template_columns": null,
            "grid_template_rows": null,
            "height": null,
            "justify_content": null,
            "justify_items": null,
            "left": null,
            "margin": null,
            "max_height": null,
            "max_width": null,
            "min_height": null,
            "min_width": null,
            "object_fit": null,
            "object_position": null,
            "order": null,
            "overflow": null,
            "overflow_x": null,
            "overflow_y": null,
            "padding": null,
            "right": null,
            "top": null,
            "visibility": null,
            "width": null
          }
        },
        "153474b14c5d448aa49932ac2322542b": {
          "model_module": "@jupyter-widgets/controls",
          "model_name": "FloatProgressModel",
          "state": {
            "_dom_classes": [],
            "_model_module": "@jupyter-widgets/controls",
            "_model_module_version": "1.5.0",
            "_model_name": "FloatProgressModel",
            "_view_count": null,
            "_view_module": "@jupyter-widgets/controls",
            "_view_module_version": "1.5.0",
            "_view_name": "ProgressView",
            "bar_style": "",
            "description": "",
            "description_tooltip": null,
            "layout": "IPY_MODEL_0276a88482134831a5a674591c44de5c",
            "max": 1,
            "min": 0,
            "orientation": "horizontal",
            "style": "IPY_MODEL_1d1697bd72a24135866e37bf5f00e729",
            "value": 1
          }
        },
        "1d1697bd72a24135866e37bf5f00e729": {
          "model_module": "@jupyter-widgets/controls",
          "model_name": "ProgressStyleModel",
          "state": {
            "_model_module": "@jupyter-widgets/controls",
            "_model_module_version": "1.5.0",
            "_model_name": "ProgressStyleModel",
            "_view_count": null,
            "_view_module": "@jupyter-widgets/base",
            "_view_module_version": "1.2.0",
            "_view_name": "StyleView",
            "bar_color": null,
            "description_width": ""
          }
        },
        "20e387fa99724171b7082fa335578d06": {
          "model_module": "@jupyter-widgets/base",
          "model_name": "LayoutModel",
          "state": {
            "_model_module": "@jupyter-widgets/base",
            "_model_module_version": "1.2.0",
            "_model_name": "LayoutModel",
            "_view_count": null,
            "_view_module": "@jupyter-widgets/base",
            "_view_module_version": "1.2.0",
            "_view_name": "LayoutView",
            "align_content": null,
            "align_items": null,
            "align_self": null,
            "border": null,
            "bottom": null,
            "display": null,
            "flex": null,
            "flex_flow": null,
            "grid_area": null,
            "grid_auto_columns": null,
            "grid_auto_flow": null,
            "grid_auto_rows": null,
            "grid_column": null,
            "grid_gap": null,
            "grid_row": null,
            "grid_template_areas": null,
            "grid_template_columns": null,
            "grid_template_rows": null,
            "height": null,
            "justify_content": null,
            "justify_items": null,
            "left": null,
            "margin": null,
            "max_height": null,
            "max_width": null,
            "min_height": null,
            "min_width": null,
            "object_fit": null,
            "object_position": null,
            "order": null,
            "overflow": null,
            "overflow_x": null,
            "overflow_y": null,
            "padding": null,
            "right": null,
            "top": null,
            "visibility": null,
            "width": null
          }
        },
        "27a94e033c874cfea3e279233f10d425": {
          "model_module": "@jupyter-widgets/controls",
          "model_name": "ProgressStyleModel",
          "state": {
            "_model_module": "@jupyter-widgets/controls",
            "_model_module_version": "1.5.0",
            "_model_name": "ProgressStyleModel",
            "_view_count": null,
            "_view_module": "@jupyter-widgets/base",
            "_view_module_version": "1.2.0",
            "_view_name": "StyleView",
            "bar_color": null,
            "description_width": ""
          }
        },
        "299587a0f5f8464cac67a2c059381f71": {
          "model_module": "@jupyter-widgets/base",
          "model_name": "LayoutModel",
          "state": {
            "_model_module": "@jupyter-widgets/base",
            "_model_module_version": "1.2.0",
            "_model_name": "LayoutModel",
            "_view_count": null,
            "_view_module": "@jupyter-widgets/base",
            "_view_module_version": "1.2.0",
            "_view_name": "LayoutView",
            "align_content": null,
            "align_items": null,
            "align_self": null,
            "border": null,
            "bottom": null,
            "display": null,
            "flex": null,
            "flex_flow": null,
            "grid_area": null,
            "grid_auto_columns": null,
            "grid_auto_flow": null,
            "grid_auto_rows": null,
            "grid_column": null,
            "grid_gap": null,
            "grid_row": null,
            "grid_template_areas": null,
            "grid_template_columns": null,
            "grid_template_rows": null,
            "height": null,
            "justify_content": null,
            "justify_items": null,
            "left": null,
            "margin": null,
            "max_height": null,
            "max_width": null,
            "min_height": null,
            "min_width": null,
            "object_fit": null,
            "object_position": null,
            "order": null,
            "overflow": null,
            "overflow_x": null,
            "overflow_y": null,
            "padding": null,
            "right": null,
            "top": null,
            "visibility": null,
            "width": null
          }
        },
        "2c2e90e5cf124c4b9b906a40165ffc10": {
          "model_module": "@jupyter-widgets/controls",
          "model_name": "FloatProgressModel",
          "state": {
            "_dom_classes": [],
            "_model_module": "@jupyter-widgets/controls",
            "_model_module_version": "1.5.0",
            "_model_name": "FloatProgressModel",
            "_view_count": null,
            "_view_module": "@jupyter-widgets/controls",
            "_view_module_version": "1.5.0",
            "_view_name": "ProgressView",
            "bar_style": "",
            "description": "",
            "description_tooltip": null,
            "layout": "IPY_MODEL_7b0656b170e94a0799706a144c432125",
            "max": 1,
            "min": 0,
            "orientation": "horizontal",
            "style": "IPY_MODEL_bf0b527e40904e5085fccb7c79de78f1",
            "value": 1
          }
        },
        "330e7dffadee431faa7cfa49ce8bcd9a": {
          "model_module": "@jupyter-widgets/base",
          "model_name": "LayoutModel",
          "state": {
            "_model_module": "@jupyter-widgets/base",
            "_model_module_version": "1.2.0",
            "_model_name": "LayoutModel",
            "_view_count": null,
            "_view_module": "@jupyter-widgets/base",
            "_view_module_version": "1.2.0",
            "_view_name": "LayoutView",
            "align_content": null,
            "align_items": null,
            "align_self": null,
            "border": null,
            "bottom": null,
            "display": null,
            "flex": null,
            "flex_flow": null,
            "grid_area": null,
            "grid_auto_columns": null,
            "grid_auto_flow": null,
            "grid_auto_rows": null,
            "grid_column": null,
            "grid_gap": null,
            "grid_row": null,
            "grid_template_areas": null,
            "grid_template_columns": null,
            "grid_template_rows": null,
            "height": null,
            "justify_content": null,
            "justify_items": null,
            "left": null,
            "margin": null,
            "max_height": null,
            "max_width": null,
            "min_height": null,
            "min_width": null,
            "object_fit": null,
            "object_position": null,
            "order": null,
            "overflow": null,
            "overflow_x": null,
            "overflow_y": null,
            "padding": null,
            "right": null,
            "top": null,
            "visibility": null,
            "width": null
          }
        },
        "3a4c4013fc3e4b578bb282d8e39c10dd": {
          "model_module": "@jupyter-widgets/controls",
          "model_name": "FloatProgressModel",
          "state": {
            "_dom_classes": [],
            "_model_module": "@jupyter-widgets/controls",
            "_model_module_version": "1.5.0",
            "_model_name": "FloatProgressModel",
            "_view_count": null,
            "_view_module": "@jupyter-widgets/controls",
            "_view_module_version": "1.5.0",
            "_view_name": "ProgressView",
            "bar_style": "",
            "description": "",
            "description_tooltip": null,
            "layout": "IPY_MODEL_cbed981b7d4440748a91b9ac30e7e8ba",
            "max": 1,
            "min": 0,
            "orientation": "horizontal",
            "style": "IPY_MODEL_68985871c2ea430eb76077b8bffde80c",
            "value": 1
          }
        },
        "3e8eb505a44f4f6ca6dd31bd1bee069c": {
          "model_module": "@jupyter-widgets/controls",
          "model_name": "ProgressStyleModel",
          "state": {
            "_model_module": "@jupyter-widgets/controls",
            "_model_module_version": "1.5.0",
            "_model_name": "ProgressStyleModel",
            "_view_count": null,
            "_view_module": "@jupyter-widgets/base",
            "_view_module_version": "1.2.0",
            "_view_name": "StyleView",
            "bar_color": null,
            "description_width": ""
          }
        },
        "40402f949f6347fe9186eeab046d1d17": {
          "model_module": "@jupyter-widgets/controls",
          "model_name": "VBoxModel",
          "state": {
            "_dom_classes": [],
            "_model_module": "@jupyter-widgets/controls",
            "_model_module_version": "1.5.0",
            "_model_name": "VBoxModel",
            "_view_count": null,
            "_view_module": "@jupyter-widgets/controls",
            "_view_module_version": "1.5.0",
            "_view_name": "VBoxView",
            "box_style": "",
            "children": [
              "IPY_MODEL_c1b62a32c02e45b59e804e876c49bea8",
              "IPY_MODEL_d8dffe667d554b8c8e4827f15fc88a02"
            ],
            "layout": "IPY_MODEL_d33c4a5c171c4daa98786bb4aac1283f"
          }
        },
        "42151ff118c14538801a2b8218029758": {
          "model_module": "@jupyter-widgets/controls",
          "model_name": "FloatProgressModel",
          "state": {
            "_dom_classes": [],
            "_model_module": "@jupyter-widgets/controls",
            "_model_module_version": "1.5.0",
            "_model_name": "FloatProgressModel",
            "_view_count": null,
            "_view_module": "@jupyter-widgets/controls",
            "_view_module_version": "1.5.0",
            "_view_name": "ProgressView",
            "bar_style": "",
            "description": "",
            "description_tooltip": null,
            "layout": "IPY_MODEL_a083483a69674133b9583dfc9bacc468",
            "max": 1,
            "min": 0,
            "orientation": "horizontal",
            "style": "IPY_MODEL_3e8eb505a44f4f6ca6dd31bd1bee069c",
            "value": 1
          }
        },
        "48d11e36b4494ee48d41f49778785986": {
          "model_module": "@jupyter-widgets/controls",
          "model_name": "DescriptionStyleModel",
          "state": {
            "_model_module": "@jupyter-widgets/controls",
            "_model_module_version": "1.5.0",
            "_model_name": "DescriptionStyleModel",
            "_view_count": null,
            "_view_module": "@jupyter-widgets/base",
            "_view_module_version": "1.2.0",
            "_view_name": "StyleView",
            "description_width": ""
          }
        },
        "4978eb22bb7d411d97f9f8fb85fc91d8": {
          "model_module": "@jupyter-widgets/controls",
          "model_name": "DescriptionStyleModel",
          "state": {
            "_model_module": "@jupyter-widgets/controls",
            "_model_module_version": "1.5.0",
            "_model_name": "DescriptionStyleModel",
            "_view_count": null,
            "_view_module": "@jupyter-widgets/base",
            "_view_module_version": "1.2.0",
            "_view_name": "StyleView",
            "description_width": ""
          }
        },
        "4be19e62462741b09cfee277cb7d2fc8": {
          "model_module": "@jupyter-widgets/base",
          "model_name": "LayoutModel",
          "state": {
            "_model_module": "@jupyter-widgets/base",
            "_model_module_version": "1.2.0",
            "_model_name": "LayoutModel",
            "_view_count": null,
            "_view_module": "@jupyter-widgets/base",
            "_view_module_version": "1.2.0",
            "_view_name": "LayoutView",
            "align_content": null,
            "align_items": null,
            "align_self": null,
            "border": null,
            "bottom": null,
            "display": null,
            "flex": null,
            "flex_flow": null,
            "grid_area": null,
            "grid_auto_columns": null,
            "grid_auto_flow": null,
            "grid_auto_rows": null,
            "grid_column": null,
            "grid_gap": null,
            "grid_row": null,
            "grid_template_areas": null,
            "grid_template_columns": null,
            "grid_template_rows": null,
            "height": null,
            "justify_content": null,
            "justify_items": null,
            "left": null,
            "margin": null,
            "max_height": null,
            "max_width": null,
            "min_height": null,
            "min_width": null,
            "object_fit": null,
            "object_position": null,
            "order": null,
            "overflow": null,
            "overflow_x": null,
            "overflow_y": null,
            "padding": null,
            "right": null,
            "top": null,
            "visibility": null,
            "width": null
          }
        },
        "4ca528cadb5741b78539d555f2c45c2d": {
          "model_module": "@jupyter-widgets/controls",
          "model_name": "FloatProgressModel",
          "state": {
            "_dom_classes": [],
            "_model_module": "@jupyter-widgets/controls",
            "_model_module_version": "1.5.0",
            "_model_name": "FloatProgressModel",
            "_view_count": null,
            "_view_module": "@jupyter-widgets/controls",
            "_view_module_version": "1.5.0",
            "_view_name": "ProgressView",
            "bar_style": "",
            "description": "",
            "description_tooltip": null,
            "layout": "IPY_MODEL_6f75fcab58984ae9a46ce366c9b3efa8",
            "max": 1,
            "min": 0,
            "orientation": "horizontal",
            "style": "IPY_MODEL_920ff95910e046c88f0a73672587266a",
            "value": 1
          }
        },
        "503151b7f76f42f5956d0eeb1c1d38d0": {
          "model_module": "@jupyter-widgets/controls",
          "model_name": "VBoxModel",
          "state": {
            "_dom_classes": [],
            "_model_module": "@jupyter-widgets/controls",
            "_model_module_version": "1.5.0",
            "_model_name": "VBoxModel",
            "_view_count": null,
            "_view_module": "@jupyter-widgets/controls",
            "_view_module_version": "1.5.0",
            "_view_name": "VBoxView",
            "box_style": "",
            "children": [
              "IPY_MODEL_73315ebe09394ccab9318fe113ba8f6b",
              "IPY_MODEL_4ca528cadb5741b78539d555f2c45c2d"
            ],
            "layout": "IPY_MODEL_4be19e62462741b09cfee277cb7d2fc8"
          }
        },
        "5387e25ed57344ddb04a2b0e27533473": {
          "model_module": "@jupyter-widgets/controls",
          "model_name": "DescriptionStyleModel",
          "state": {
            "_model_module": "@jupyter-widgets/controls",
            "_model_module_version": "1.5.0",
            "_model_name": "DescriptionStyleModel",
            "_view_count": null,
            "_view_module": "@jupyter-widgets/base",
            "_view_module_version": "1.2.0",
            "_view_name": "StyleView",
            "description_width": ""
          }
        },
        "57a4cfe5f951465896e8e7ea0452d189": {
          "model_module": "@jupyter-widgets/base",
          "model_name": "LayoutModel",
          "state": {
            "_model_module": "@jupyter-widgets/base",
            "_model_module_version": "1.2.0",
            "_model_name": "LayoutModel",
            "_view_count": null,
            "_view_module": "@jupyter-widgets/base",
            "_view_module_version": "1.2.0",
            "_view_name": "LayoutView",
            "align_content": null,
            "align_items": null,
            "align_self": null,
            "border": null,
            "bottom": null,
            "display": null,
            "flex": null,
            "flex_flow": null,
            "grid_area": null,
            "grid_auto_columns": null,
            "grid_auto_flow": null,
            "grid_auto_rows": null,
            "grid_column": null,
            "grid_gap": null,
            "grid_row": null,
            "grid_template_areas": null,
            "grid_template_columns": null,
            "grid_template_rows": null,
            "height": null,
            "justify_content": null,
            "justify_items": null,
            "left": null,
            "margin": null,
            "max_height": null,
            "max_width": null,
            "min_height": null,
            "min_width": null,
            "object_fit": null,
            "object_position": null,
            "order": null,
            "overflow": null,
            "overflow_x": null,
            "overflow_y": null,
            "padding": null,
            "right": null,
            "top": null,
            "visibility": null,
            "width": null
          }
        },
        "5ea18a7891ce4c60955ea10a0328e2ca": {
          "model_module": "@jupyter-widgets/controls",
          "model_name": "DescriptionStyleModel",
          "state": {
            "_model_module": "@jupyter-widgets/controls",
            "_model_module_version": "1.5.0",
            "_model_name": "DescriptionStyleModel",
            "_view_count": null,
            "_view_module": "@jupyter-widgets/base",
            "_view_module_version": "1.2.0",
            "_view_name": "StyleView",
            "description_width": ""
          }
        },
        "5ef64d0468ac419f939753debd20af5e": {
          "model_module": "@jupyter-widgets/base",
          "model_name": "LayoutModel",
          "state": {
            "_model_module": "@jupyter-widgets/base",
            "_model_module_version": "1.2.0",
            "_model_name": "LayoutModel",
            "_view_count": null,
            "_view_module": "@jupyter-widgets/base",
            "_view_module_version": "1.2.0",
            "_view_name": "LayoutView",
            "align_content": null,
            "align_items": null,
            "align_self": null,
            "border": null,
            "bottom": null,
            "display": null,
            "flex": null,
            "flex_flow": null,
            "grid_area": null,
            "grid_auto_columns": null,
            "grid_auto_flow": null,
            "grid_auto_rows": null,
            "grid_column": null,
            "grid_gap": null,
            "grid_row": null,
            "grid_template_areas": null,
            "grid_template_columns": null,
            "grid_template_rows": null,
            "height": null,
            "justify_content": null,
            "justify_items": null,
            "left": null,
            "margin": null,
            "max_height": null,
            "max_width": null,
            "min_height": null,
            "min_width": null,
            "object_fit": null,
            "object_position": null,
            "order": null,
            "overflow": null,
            "overflow_x": null,
            "overflow_y": null,
            "padding": null,
            "right": null,
            "top": null,
            "visibility": null,
            "width": null
          }
        },
        "673c74e638044e9ebac97e95912cb83a": {
          "model_module": "@jupyter-widgets/controls",
          "model_name": "VBoxModel",
          "state": {
            "_dom_classes": [],
            "_model_module": "@jupyter-widgets/controls",
            "_model_module_version": "1.5.0",
            "_model_name": "VBoxModel",
            "_view_count": null,
            "_view_module": "@jupyter-widgets/controls",
            "_view_module_version": "1.5.0",
            "_view_name": "VBoxView",
            "box_style": "",
            "children": [
              "IPY_MODEL_87b308c86d7b484db13ef542e6169d4d",
              "IPY_MODEL_3a4c4013fc3e4b578bb282d8e39c10dd"
            ],
            "layout": "IPY_MODEL_ecfd199c95a44de2a1c6a23a59ca9e37"
          }
        },
        "68985871c2ea430eb76077b8bffde80c": {
          "model_module": "@jupyter-widgets/controls",
          "model_name": "ProgressStyleModel",
          "state": {
            "_model_module": "@jupyter-widgets/controls",
            "_model_module_version": "1.5.0",
            "_model_name": "ProgressStyleModel",
            "_view_count": null,
            "_view_module": "@jupyter-widgets/base",
            "_view_module_version": "1.2.0",
            "_view_name": "StyleView",
            "bar_color": null,
            "description_width": ""
          }
        },
        "6f75fcab58984ae9a46ce366c9b3efa8": {
          "model_module": "@jupyter-widgets/base",
          "model_name": "LayoutModel",
          "state": {
            "_model_module": "@jupyter-widgets/base",
            "_model_module_version": "1.2.0",
            "_model_name": "LayoutModel",
            "_view_count": null,
            "_view_module": "@jupyter-widgets/base",
            "_view_module_version": "1.2.0",
            "_view_name": "LayoutView",
            "align_content": null,
            "align_items": null,
            "align_self": null,
            "border": null,
            "bottom": null,
            "display": null,
            "flex": null,
            "flex_flow": null,
            "grid_area": null,
            "grid_auto_columns": null,
            "grid_auto_flow": null,
            "grid_auto_rows": null,
            "grid_column": null,
            "grid_gap": null,
            "grid_row": null,
            "grid_template_areas": null,
            "grid_template_columns": null,
            "grid_template_rows": null,
            "height": null,
            "justify_content": null,
            "justify_items": null,
            "left": null,
            "margin": null,
            "max_height": null,
            "max_width": null,
            "min_height": null,
            "min_width": null,
            "object_fit": null,
            "object_position": null,
            "order": null,
            "overflow": null,
            "overflow_x": null,
            "overflow_y": null,
            "padding": null,
            "right": null,
            "top": null,
            "visibility": null,
            "width": null
          }
        },
        "73315ebe09394ccab9318fe113ba8f6b": {
          "model_module": "@jupyter-widgets/controls",
          "model_name": "LabelModel",
          "state": {
            "_dom_classes": [],
            "_model_module": "@jupyter-widgets/controls",
            "_model_module_version": "1.5.0",
            "_model_name": "LabelModel",
            "_view_count": null,
            "_view_module": "@jupyter-widgets/controls",
            "_view_module_version": "1.5.0",
            "_view_name": "LabelView",
            "description": "",
            "description_tooltip": null,
            "layout": "IPY_MODEL_20e387fa99724171b7082fa335578d06",
            "placeholder": "​",
            "style": "IPY_MODEL_d144d636268945e0b6d6d6a819e07c74",
            "value": " 0.13MB of 0.13MB uploaded (0.00MB deduped)\r"
          }
        },
        "76c93d743e03476ebc3f0e58db6802ed": {
          "model_module": "@jupyter-widgets/controls",
          "model_name": "VBoxModel",
          "state": {
            "_dom_classes": [],
            "_model_module": "@jupyter-widgets/controls",
            "_model_module_version": "1.5.0",
            "_model_name": "VBoxModel",
            "_view_count": null,
            "_view_module": "@jupyter-widgets/controls",
            "_view_module_version": "1.5.0",
            "_view_name": "VBoxView",
            "box_style": "",
            "children": [
              "IPY_MODEL_9f7ba9243a4941159a721195f17d66bd",
              "IPY_MODEL_2c2e90e5cf124c4b9b906a40165ffc10"
            ],
            "layout": "IPY_MODEL_ba5ba54956364bd0b99a54102ad4682a"
          }
        },
        "792d2e8b831b489e8d1d960b5a81fad3": {
          "model_module": "@jupyter-widgets/controls",
          "model_name": "ProgressStyleModel",
          "state": {
            "_model_module": "@jupyter-widgets/controls",
            "_model_module_version": "1.5.0",
            "_model_name": "ProgressStyleModel",
            "_view_count": null,
            "_view_module": "@jupyter-widgets/base",
            "_view_module_version": "1.2.0",
            "_view_name": "StyleView",
            "bar_color": null,
            "description_width": ""
          }
        },
        "7b0656b170e94a0799706a144c432125": {
          "model_module": "@jupyter-widgets/base",
          "model_name": "LayoutModel",
          "state": {
            "_model_module": "@jupyter-widgets/base",
            "_model_module_version": "1.2.0",
            "_model_name": "LayoutModel",
            "_view_count": null,
            "_view_module": "@jupyter-widgets/base",
            "_view_module_version": "1.2.0",
            "_view_name": "LayoutView",
            "align_content": null,
            "align_items": null,
            "align_self": null,
            "border": null,
            "bottom": null,
            "display": null,
            "flex": null,
            "flex_flow": null,
            "grid_area": null,
            "grid_auto_columns": null,
            "grid_auto_flow": null,
            "grid_auto_rows": null,
            "grid_column": null,
            "grid_gap": null,
            "grid_row": null,
            "grid_template_areas": null,
            "grid_template_columns": null,
            "grid_template_rows": null,
            "height": null,
            "justify_content": null,
            "justify_items": null,
            "left": null,
            "margin": null,
            "max_height": null,
            "max_width": null,
            "min_height": null,
            "min_width": null,
            "object_fit": null,
            "object_position": null,
            "order": null,
            "overflow": null,
            "overflow_x": null,
            "overflow_y": null,
            "padding": null,
            "right": null,
            "top": null,
            "visibility": null,
            "width": null
          }
        },
        "82f42363ddd94cb182195f6d611a17b7": {
          "model_module": "@jupyter-widgets/controls",
          "model_name": "LabelModel",
          "state": {
            "_dom_classes": [],
            "_model_module": "@jupyter-widgets/controls",
            "_model_module_version": "1.5.0",
            "_model_name": "LabelModel",
            "_view_count": null,
            "_view_module": "@jupyter-widgets/controls",
            "_view_module_version": "1.5.0",
            "_view_name": "LabelView",
            "description": "",
            "description_tooltip": null,
            "layout": "IPY_MODEL_cba6b94279794e75a98579ef48c324fc",
            "placeholder": "​",
            "style": "IPY_MODEL_4978eb22bb7d411d97f9f8fb85fc91d8",
            "value": " 0.07MB of 0.07MB uploaded (0.00MB deduped)\r"
          }
        },
        "84f9b40c0e604ab59147d6b4ab1f5224": {
          "model_module": "@jupyter-widgets/controls",
          "model_name": "FloatProgressModel",
          "state": {
            "_dom_classes": [],
            "_model_module": "@jupyter-widgets/controls",
            "_model_module_version": "1.5.0",
            "_model_name": "FloatProgressModel",
            "_view_count": null,
            "_view_module": "@jupyter-widgets/controls",
            "_view_module_version": "1.5.0",
            "_view_name": "ProgressView",
            "bar_style": "",
            "description": "",
            "description_tooltip": null,
            "layout": "IPY_MODEL_299587a0f5f8464cac67a2c059381f71",
            "max": 1,
            "min": 0,
            "orientation": "horizontal",
            "style": "IPY_MODEL_792d2e8b831b489e8d1d960b5a81fad3",
            "value": 1
          }
        },
        "87b308c86d7b484db13ef542e6169d4d": {
          "model_module": "@jupyter-widgets/controls",
          "model_name": "LabelModel",
          "state": {
            "_dom_classes": [],
            "_model_module": "@jupyter-widgets/controls",
            "_model_module_version": "1.5.0",
            "_model_name": "LabelModel",
            "_view_count": null,
            "_view_module": "@jupyter-widgets/controls",
            "_view_module_version": "1.5.0",
            "_view_name": "LabelView",
            "description": "",
            "description_tooltip": null,
            "layout": "IPY_MODEL_b01cb1e293434a409258213f4dbc0ff2",
            "placeholder": "​",
            "style": "IPY_MODEL_01b06c7d4f17439a841d67068142ae3d",
            "value": " 0.11MB of 0.11MB uploaded (0.00MB deduped)\r"
          }
        },
        "89766206d4e74109b7d068dd6a4ad21d": {
          "model_module": "@jupyter-widgets/controls",
          "model_name": "VBoxModel",
          "state": {
            "_dom_classes": [],
            "_model_module": "@jupyter-widgets/controls",
            "_model_module_version": "1.5.0",
            "_model_name": "VBoxModel",
            "_view_count": null,
            "_view_module": "@jupyter-widgets/controls",
            "_view_module_version": "1.5.0",
            "_view_name": "VBoxView",
            "box_style": "",
            "children": [
              "IPY_MODEL_fc2e819074cb43ce92b9d4e650a64ece",
              "IPY_MODEL_f817b1cc2aab4c8b917042f49b26b0ae"
            ],
            "layout": "IPY_MODEL_a1cef1dc297742ba8e31399c8b6799be"
          }
        },
        "8d75b42a6e6f43b1a8be9d7bc2909f6b": {
          "model_module": "@jupyter-widgets/base",
          "model_name": "LayoutModel",
          "state": {
            "_model_module": "@jupyter-widgets/base",
            "_model_module_version": "1.2.0",
            "_model_name": "LayoutModel",
            "_view_count": null,
            "_view_module": "@jupyter-widgets/base",
            "_view_module_version": "1.2.0",
            "_view_name": "LayoutView",
            "align_content": null,
            "align_items": null,
            "align_self": null,
            "border": null,
            "bottom": null,
            "display": null,
            "flex": null,
            "flex_flow": null,
            "grid_area": null,
            "grid_auto_columns": null,
            "grid_auto_flow": null,
            "grid_auto_rows": null,
            "grid_column": null,
            "grid_gap": null,
            "grid_row": null,
            "grid_template_areas": null,
            "grid_template_columns": null,
            "grid_template_rows": null,
            "height": null,
            "justify_content": null,
            "justify_items": null,
            "left": null,
            "margin": null,
            "max_height": null,
            "max_width": null,
            "min_height": null,
            "min_width": null,
            "object_fit": null,
            "object_position": null,
            "order": null,
            "overflow": null,
            "overflow_x": null,
            "overflow_y": null,
            "padding": null,
            "right": null,
            "top": null,
            "visibility": null,
            "width": null
          }
        },
        "8f1ebd142d274ba8926dfa162910cb57": {
          "model_module": "@jupyter-widgets/controls",
          "model_name": "VBoxModel",
          "state": {
            "_dom_classes": [],
            "_model_module": "@jupyter-widgets/controls",
            "_model_module_version": "1.5.0",
            "_model_name": "VBoxModel",
            "_view_count": null,
            "_view_module": "@jupyter-widgets/controls",
            "_view_module_version": "1.5.0",
            "_view_name": "VBoxView",
            "box_style": "",
            "children": [
              "IPY_MODEL_82f42363ddd94cb182195f6d611a17b7",
              "IPY_MODEL_42151ff118c14538801a2b8218029758"
            ],
            "layout": "IPY_MODEL_93f019ea99b148b880195e7398da4802"
          }
        },
        "920ff95910e046c88f0a73672587266a": {
          "model_module": "@jupyter-widgets/controls",
          "model_name": "ProgressStyleModel",
          "state": {
            "_model_module": "@jupyter-widgets/controls",
            "_model_module_version": "1.5.0",
            "_model_name": "ProgressStyleModel",
            "_view_count": null,
            "_view_module": "@jupyter-widgets/base",
            "_view_module_version": "1.2.0",
            "_view_name": "StyleView",
            "bar_color": null,
            "description_width": ""
          }
        },
        "93f019ea99b148b880195e7398da4802": {
          "model_module": "@jupyter-widgets/base",
          "model_name": "LayoutModel",
          "state": {
            "_model_module": "@jupyter-widgets/base",
            "_model_module_version": "1.2.0",
            "_model_name": "LayoutModel",
            "_view_count": null,
            "_view_module": "@jupyter-widgets/base",
            "_view_module_version": "1.2.0",
            "_view_name": "LayoutView",
            "align_content": null,
            "align_items": null,
            "align_self": null,
            "border": null,
            "bottom": null,
            "display": null,
            "flex": null,
            "flex_flow": null,
            "grid_area": null,
            "grid_auto_columns": null,
            "grid_auto_flow": null,
            "grid_auto_rows": null,
            "grid_column": null,
            "grid_gap": null,
            "grid_row": null,
            "grid_template_areas": null,
            "grid_template_columns": null,
            "grid_template_rows": null,
            "height": null,
            "justify_content": null,
            "justify_items": null,
            "left": null,
            "margin": null,
            "max_height": null,
            "max_width": null,
            "min_height": null,
            "min_width": null,
            "object_fit": null,
            "object_position": null,
            "order": null,
            "overflow": null,
            "overflow_x": null,
            "overflow_y": null,
            "padding": null,
            "right": null,
            "top": null,
            "visibility": null,
            "width": null
          }
        },
        "9f7ba9243a4941159a721195f17d66bd": {
          "model_module": "@jupyter-widgets/controls",
          "model_name": "LabelModel",
          "state": {
            "_dom_classes": [],
            "_model_module": "@jupyter-widgets/controls",
            "_model_module_version": "1.5.0",
            "_model_name": "LabelModel",
            "_view_count": null,
            "_view_module": "@jupyter-widgets/controls",
            "_view_module_version": "1.5.0",
            "_view_name": "LabelView",
            "description": "",
            "description_tooltip": null,
            "layout": "IPY_MODEL_5ef64d0468ac419f939753debd20af5e",
            "placeholder": "​",
            "style": "IPY_MODEL_48d11e36b4494ee48d41f49778785986",
            "value": " 0.10MB of 0.10MB uploaded (0.00MB deduped)\r"
          }
        },
        "a083483a69674133b9583dfc9bacc468": {
          "model_module": "@jupyter-widgets/base",
          "model_name": "LayoutModel",
          "state": {
            "_model_module": "@jupyter-widgets/base",
            "_model_module_version": "1.2.0",
            "_model_name": "LayoutModel",
            "_view_count": null,
            "_view_module": "@jupyter-widgets/base",
            "_view_module_version": "1.2.0",
            "_view_name": "LayoutView",
            "align_content": null,
            "align_items": null,
            "align_self": null,
            "border": null,
            "bottom": null,
            "display": null,
            "flex": null,
            "flex_flow": null,
            "grid_area": null,
            "grid_auto_columns": null,
            "grid_auto_flow": null,
            "grid_auto_rows": null,
            "grid_column": null,
            "grid_gap": null,
            "grid_row": null,
            "grid_template_areas": null,
            "grid_template_columns": null,
            "grid_template_rows": null,
            "height": null,
            "justify_content": null,
            "justify_items": null,
            "left": null,
            "margin": null,
            "max_height": null,
            "max_width": null,
            "min_height": null,
            "min_width": null,
            "object_fit": null,
            "object_position": null,
            "order": null,
            "overflow": null,
            "overflow_x": null,
            "overflow_y": null,
            "padding": null,
            "right": null,
            "top": null,
            "visibility": null,
            "width": null
          }
        },
        "a1cef1dc297742ba8e31399c8b6799be": {
          "model_module": "@jupyter-widgets/base",
          "model_name": "LayoutModel",
          "state": {
            "_model_module": "@jupyter-widgets/base",
            "_model_module_version": "1.2.0",
            "_model_name": "LayoutModel",
            "_view_count": null,
            "_view_module": "@jupyter-widgets/base",
            "_view_module_version": "1.2.0",
            "_view_name": "LayoutView",
            "align_content": null,
            "align_items": null,
            "align_self": null,
            "border": null,
            "bottom": null,
            "display": null,
            "flex": null,
            "flex_flow": null,
            "grid_area": null,
            "grid_auto_columns": null,
            "grid_auto_flow": null,
            "grid_auto_rows": null,
            "grid_column": null,
            "grid_gap": null,
            "grid_row": null,
            "grid_template_areas": null,
            "grid_template_columns": null,
            "grid_template_rows": null,
            "height": null,
            "justify_content": null,
            "justify_items": null,
            "left": null,
            "margin": null,
            "max_height": null,
            "max_width": null,
            "min_height": null,
            "min_width": null,
            "object_fit": null,
            "object_position": null,
            "order": null,
            "overflow": null,
            "overflow_x": null,
            "overflow_y": null,
            "padding": null,
            "right": null,
            "top": null,
            "visibility": null,
            "width": null
          }
        },
        "af2843e73a0048f4be9fde220a51de42": {
          "model_module": "@jupyter-widgets/controls",
          "model_name": "LabelModel",
          "state": {
            "_dom_classes": [],
            "_model_module": "@jupyter-widgets/controls",
            "_model_module_version": "1.5.0",
            "_model_name": "LabelModel",
            "_view_count": null,
            "_view_module": "@jupyter-widgets/controls",
            "_view_module_version": "1.5.0",
            "_view_name": "LabelView",
            "description": "",
            "description_tooltip": null,
            "layout": "IPY_MODEL_8d75b42a6e6f43b1a8be9d7bc2909f6b",
            "placeholder": "​",
            "style": "IPY_MODEL_5387e25ed57344ddb04a2b0e27533473",
            "value": " 0.06MB of 0.06MB uploaded (0.00MB deduped)\r"
          }
        },
        "b01cb1e293434a409258213f4dbc0ff2": {
          "model_module": "@jupyter-widgets/base",
          "model_name": "LayoutModel",
          "state": {
            "_model_module": "@jupyter-widgets/base",
            "_model_module_version": "1.2.0",
            "_model_name": "LayoutModel",
            "_view_count": null,
            "_view_module": "@jupyter-widgets/base",
            "_view_module_version": "1.2.0",
            "_view_name": "LayoutView",
            "align_content": null,
            "align_items": null,
            "align_self": null,
            "border": null,
            "bottom": null,
            "display": null,
            "flex": null,
            "flex_flow": null,
            "grid_area": null,
            "grid_auto_columns": null,
            "grid_auto_flow": null,
            "grid_auto_rows": null,
            "grid_column": null,
            "grid_gap": null,
            "grid_row": null,
            "grid_template_areas": null,
            "grid_template_columns": null,
            "grid_template_rows": null,
            "height": null,
            "justify_content": null,
            "justify_items": null,
            "left": null,
            "margin": null,
            "max_height": null,
            "max_width": null,
            "min_height": null,
            "min_width": null,
            "object_fit": null,
            "object_position": null,
            "order": null,
            "overflow": null,
            "overflow_x": null,
            "overflow_y": null,
            "padding": null,
            "right": null,
            "top": null,
            "visibility": null,
            "width": null
          }
        },
        "ba5ba54956364bd0b99a54102ad4682a": {
          "model_module": "@jupyter-widgets/base",
          "model_name": "LayoutModel",
          "state": {
            "_model_module": "@jupyter-widgets/base",
            "_model_module_version": "1.2.0",
            "_model_name": "LayoutModel",
            "_view_count": null,
            "_view_module": "@jupyter-widgets/base",
            "_view_module_version": "1.2.0",
            "_view_name": "LayoutView",
            "align_content": null,
            "align_items": null,
            "align_self": null,
            "border": null,
            "bottom": null,
            "display": null,
            "flex": null,
            "flex_flow": null,
            "grid_area": null,
            "grid_auto_columns": null,
            "grid_auto_flow": null,
            "grid_auto_rows": null,
            "grid_column": null,
            "grid_gap": null,
            "grid_row": null,
            "grid_template_areas": null,
            "grid_template_columns": null,
            "grid_template_rows": null,
            "height": null,
            "justify_content": null,
            "justify_items": null,
            "left": null,
            "margin": null,
            "max_height": null,
            "max_width": null,
            "min_height": null,
            "min_width": null,
            "object_fit": null,
            "object_position": null,
            "order": null,
            "overflow": null,
            "overflow_x": null,
            "overflow_y": null,
            "padding": null,
            "right": null,
            "top": null,
            "visibility": null,
            "width": null
          }
        },
        "bbfd6ed49b5640bda9dd4b23150b2b81": {
          "model_module": "@jupyter-widgets/base",
          "model_name": "LayoutModel",
          "state": {
            "_model_module": "@jupyter-widgets/base",
            "_model_module_version": "1.2.0",
            "_model_name": "LayoutModel",
            "_view_count": null,
            "_view_module": "@jupyter-widgets/base",
            "_view_module_version": "1.2.0",
            "_view_name": "LayoutView",
            "align_content": null,
            "align_items": null,
            "align_self": null,
            "border": null,
            "bottom": null,
            "display": null,
            "flex": null,
            "flex_flow": null,
            "grid_area": null,
            "grid_auto_columns": null,
            "grid_auto_flow": null,
            "grid_auto_rows": null,
            "grid_column": null,
            "grid_gap": null,
            "grid_row": null,
            "grid_template_areas": null,
            "grid_template_columns": null,
            "grid_template_rows": null,
            "height": null,
            "justify_content": null,
            "justify_items": null,
            "left": null,
            "margin": null,
            "max_height": null,
            "max_width": null,
            "min_height": null,
            "min_width": null,
            "object_fit": null,
            "object_position": null,
            "order": null,
            "overflow": null,
            "overflow_x": null,
            "overflow_y": null,
            "padding": null,
            "right": null,
            "top": null,
            "visibility": null,
            "width": null
          }
        },
        "bf0b527e40904e5085fccb7c79de78f1": {
          "model_module": "@jupyter-widgets/controls",
          "model_name": "ProgressStyleModel",
          "state": {
            "_model_module": "@jupyter-widgets/controls",
            "_model_module_version": "1.5.0",
            "_model_name": "ProgressStyleModel",
            "_view_count": null,
            "_view_module": "@jupyter-widgets/base",
            "_view_module_version": "1.2.0",
            "_view_name": "StyleView",
            "bar_color": null,
            "description_width": ""
          }
        },
        "c07d4e8c40c94e958adff1d72094a2a1": {
          "model_module": "@jupyter-widgets/controls",
          "model_name": "LabelModel",
          "state": {
            "_dom_classes": [],
            "_model_module": "@jupyter-widgets/controls",
            "_model_module_version": "1.5.0",
            "_model_name": "LabelModel",
            "_view_count": null,
            "_view_module": "@jupyter-widgets/controls",
            "_view_module_version": "1.5.0",
            "_view_name": "LabelView",
            "description": "",
            "description_tooltip": null,
            "layout": "IPY_MODEL_57a4cfe5f951465896e8e7ea0452d189",
            "placeholder": "​",
            "style": "IPY_MODEL_5ea18a7891ce4c60955ea10a0328e2ca",
            "value": " 0.16MB of 0.16MB uploaded (0.00MB deduped)\r"
          }
        },
        "c1b62a32c02e45b59e804e876c49bea8": {
          "model_module": "@jupyter-widgets/controls",
          "model_name": "LabelModel",
          "state": {
            "_dom_classes": [],
            "_model_module": "@jupyter-widgets/controls",
            "_model_module_version": "1.5.0",
            "_model_name": "LabelModel",
            "_view_count": null,
            "_view_module": "@jupyter-widgets/controls",
            "_view_module_version": "1.5.0",
            "_view_name": "LabelView",
            "description": "",
            "description_tooltip": null,
            "layout": "IPY_MODEL_da0f41f4bbeb4e1da7be2ee887e76efd",
            "placeholder": "​",
            "style": "IPY_MODEL_ffee3dd2a7ad4ce9940104b87372384a",
            "value": " 0.14MB of 0.14MB uploaded (0.00MB deduped)\r"
          }
        },
        "c6ff3fe06190463989b788dfa0e8e765": {
          "model_module": "@jupyter-widgets/controls",
          "model_name": "DescriptionStyleModel",
          "state": {
            "_model_module": "@jupyter-widgets/controls",
            "_model_module_version": "1.5.0",
            "_model_name": "DescriptionStyleModel",
            "_view_count": null,
            "_view_module": "@jupyter-widgets/base",
            "_view_module_version": "1.2.0",
            "_view_name": "StyleView",
            "description_width": ""
          }
        },
        "c7113eb4e7f9453aa659f775c337642d": {
          "model_module": "@jupyter-widgets/controls",
          "model_name": "ProgressStyleModel",
          "state": {
            "_model_module": "@jupyter-widgets/controls",
            "_model_module_version": "1.5.0",
            "_model_name": "ProgressStyleModel",
            "_view_count": null,
            "_view_module": "@jupyter-widgets/base",
            "_view_module_version": "1.2.0",
            "_view_name": "StyleView",
            "bar_color": null,
            "description_width": ""
          }
        },
        "cba6b94279794e75a98579ef48c324fc": {
          "model_module": "@jupyter-widgets/base",
          "model_name": "LayoutModel",
          "state": {
            "_model_module": "@jupyter-widgets/base",
            "_model_module_version": "1.2.0",
            "_model_name": "LayoutModel",
            "_view_count": null,
            "_view_module": "@jupyter-widgets/base",
            "_view_module_version": "1.2.0",
            "_view_name": "LayoutView",
            "align_content": null,
            "align_items": null,
            "align_self": null,
            "border": null,
            "bottom": null,
            "display": null,
            "flex": null,
            "flex_flow": null,
            "grid_area": null,
            "grid_auto_columns": null,
            "grid_auto_flow": null,
            "grid_auto_rows": null,
            "grid_column": null,
            "grid_gap": null,
            "grid_row": null,
            "grid_template_areas": null,
            "grid_template_columns": null,
            "grid_template_rows": null,
            "height": null,
            "justify_content": null,
            "justify_items": null,
            "left": null,
            "margin": null,
            "max_height": null,
            "max_width": null,
            "min_height": null,
            "min_width": null,
            "object_fit": null,
            "object_position": null,
            "order": null,
            "overflow": null,
            "overflow_x": null,
            "overflow_y": null,
            "padding": null,
            "right": null,
            "top": null,
            "visibility": null,
            "width": null
          }
        },
        "cbed981b7d4440748a91b9ac30e7e8ba": {
          "model_module": "@jupyter-widgets/base",
          "model_name": "LayoutModel",
          "state": {
            "_model_module": "@jupyter-widgets/base",
            "_model_module_version": "1.2.0",
            "_model_name": "LayoutModel",
            "_view_count": null,
            "_view_module": "@jupyter-widgets/base",
            "_view_module_version": "1.2.0",
            "_view_name": "LayoutView",
            "align_content": null,
            "align_items": null,
            "align_self": null,
            "border": null,
            "bottom": null,
            "display": null,
            "flex": null,
            "flex_flow": null,
            "grid_area": null,
            "grid_auto_columns": null,
            "grid_auto_flow": null,
            "grid_auto_rows": null,
            "grid_column": null,
            "grid_gap": null,
            "grid_row": null,
            "grid_template_areas": null,
            "grid_template_columns": null,
            "grid_template_rows": null,
            "height": null,
            "justify_content": null,
            "justify_items": null,
            "left": null,
            "margin": null,
            "max_height": null,
            "max_width": null,
            "min_height": null,
            "min_width": null,
            "object_fit": null,
            "object_position": null,
            "order": null,
            "overflow": null,
            "overflow_x": null,
            "overflow_y": null,
            "padding": null,
            "right": null,
            "top": null,
            "visibility": null,
            "width": null
          }
        },
        "d144d636268945e0b6d6d6a819e07c74": {
          "model_module": "@jupyter-widgets/controls",
          "model_name": "DescriptionStyleModel",
          "state": {
            "_model_module": "@jupyter-widgets/controls",
            "_model_module_version": "1.5.0",
            "_model_name": "DescriptionStyleModel",
            "_view_count": null,
            "_view_module": "@jupyter-widgets/base",
            "_view_module_version": "1.2.0",
            "_view_name": "StyleView",
            "description_width": ""
          }
        },
        "d33c4a5c171c4daa98786bb4aac1283f": {
          "model_module": "@jupyter-widgets/base",
          "model_name": "LayoutModel",
          "state": {
            "_model_module": "@jupyter-widgets/base",
            "_model_module_version": "1.2.0",
            "_model_name": "LayoutModel",
            "_view_count": null,
            "_view_module": "@jupyter-widgets/base",
            "_view_module_version": "1.2.0",
            "_view_name": "LayoutView",
            "align_content": null,
            "align_items": null,
            "align_self": null,
            "border": null,
            "bottom": null,
            "display": null,
            "flex": null,
            "flex_flow": null,
            "grid_area": null,
            "grid_auto_columns": null,
            "grid_auto_flow": null,
            "grid_auto_rows": null,
            "grid_column": null,
            "grid_gap": null,
            "grid_row": null,
            "grid_template_areas": null,
            "grid_template_columns": null,
            "grid_template_rows": null,
            "height": null,
            "justify_content": null,
            "justify_items": null,
            "left": null,
            "margin": null,
            "max_height": null,
            "max_width": null,
            "min_height": null,
            "min_width": null,
            "object_fit": null,
            "object_position": null,
            "order": null,
            "overflow": null,
            "overflow_x": null,
            "overflow_y": null,
            "padding": null,
            "right": null,
            "top": null,
            "visibility": null,
            "width": null
          }
        },
        "d4cff88a2d4b4b0bb2a5fc108162b55e": {
          "model_module": "@jupyter-widgets/base",
          "model_name": "LayoutModel",
          "state": {
            "_model_module": "@jupyter-widgets/base",
            "_model_module_version": "1.2.0",
            "_model_name": "LayoutModel",
            "_view_count": null,
            "_view_module": "@jupyter-widgets/base",
            "_view_module_version": "1.2.0",
            "_view_name": "LayoutView",
            "align_content": null,
            "align_items": null,
            "align_self": null,
            "border": null,
            "bottom": null,
            "display": null,
            "flex": null,
            "flex_flow": null,
            "grid_area": null,
            "grid_auto_columns": null,
            "grid_auto_flow": null,
            "grid_auto_rows": null,
            "grid_column": null,
            "grid_gap": null,
            "grid_row": null,
            "grid_template_areas": null,
            "grid_template_columns": null,
            "grid_template_rows": null,
            "height": null,
            "justify_content": null,
            "justify_items": null,
            "left": null,
            "margin": null,
            "max_height": null,
            "max_width": null,
            "min_height": null,
            "min_width": null,
            "object_fit": null,
            "object_position": null,
            "order": null,
            "overflow": null,
            "overflow_x": null,
            "overflow_y": null,
            "padding": null,
            "right": null,
            "top": null,
            "visibility": null,
            "width": null
          }
        },
        "d8dffe667d554b8c8e4827f15fc88a02": {
          "model_module": "@jupyter-widgets/controls",
          "model_name": "FloatProgressModel",
          "state": {
            "_dom_classes": [],
            "_model_module": "@jupyter-widgets/controls",
            "_model_module_version": "1.5.0",
            "_model_name": "FloatProgressModel",
            "_view_count": null,
            "_view_module": "@jupyter-widgets/controls",
            "_view_module_version": "1.5.0",
            "_view_name": "ProgressView",
            "bar_style": "",
            "description": "",
            "description_tooltip": null,
            "layout": "IPY_MODEL_330e7dffadee431faa7cfa49ce8bcd9a",
            "max": 1,
            "min": 0,
            "orientation": "horizontal",
            "style": "IPY_MODEL_27a94e033c874cfea3e279233f10d425",
            "value": 1
          }
        },
        "da0f41f4bbeb4e1da7be2ee887e76efd": {
          "model_module": "@jupyter-widgets/base",
          "model_name": "LayoutModel",
          "state": {
            "_model_module": "@jupyter-widgets/base",
            "_model_module_version": "1.2.0",
            "_model_name": "LayoutModel",
            "_view_count": null,
            "_view_module": "@jupyter-widgets/base",
            "_view_module_version": "1.2.0",
            "_view_name": "LayoutView",
            "align_content": null,
            "align_items": null,
            "align_self": null,
            "border": null,
            "bottom": null,
            "display": null,
            "flex": null,
            "flex_flow": null,
            "grid_area": null,
            "grid_auto_columns": null,
            "grid_auto_flow": null,
            "grid_auto_rows": null,
            "grid_column": null,
            "grid_gap": null,
            "grid_row": null,
            "grid_template_areas": null,
            "grid_template_columns": null,
            "grid_template_rows": null,
            "height": null,
            "justify_content": null,
            "justify_items": null,
            "left": null,
            "margin": null,
            "max_height": null,
            "max_width": null,
            "min_height": null,
            "min_width": null,
            "object_fit": null,
            "object_position": null,
            "order": null,
            "overflow": null,
            "overflow_x": null,
            "overflow_y": null,
            "padding": null,
            "right": null,
            "top": null,
            "visibility": null,
            "width": null
          }
        },
        "db98bcbf76c24458bcc1b337ad0465aa": {
          "model_module": "@jupyter-widgets/controls",
          "model_name": "VBoxModel",
          "state": {
            "_dom_classes": [],
            "_model_module": "@jupyter-widgets/controls",
            "_model_module_version": "1.5.0",
            "_model_name": "VBoxModel",
            "_view_count": null,
            "_view_module": "@jupyter-widgets/controls",
            "_view_module_version": "1.5.0",
            "_view_name": "VBoxView",
            "box_style": "",
            "children": [
              "IPY_MODEL_c07d4e8c40c94e958adff1d72094a2a1",
              "IPY_MODEL_153474b14c5d448aa49932ac2322542b"
            ],
            "layout": "IPY_MODEL_dc0e1f929ac1403cb09d7a3fdeacfc2d"
          }
        },
        "dc0e1f929ac1403cb09d7a3fdeacfc2d": {
          "model_module": "@jupyter-widgets/base",
          "model_name": "LayoutModel",
          "state": {
            "_model_module": "@jupyter-widgets/base",
            "_model_module_version": "1.2.0",
            "_model_name": "LayoutModel",
            "_view_count": null,
            "_view_module": "@jupyter-widgets/base",
            "_view_module_version": "1.2.0",
            "_view_name": "LayoutView",
            "align_content": null,
            "align_items": null,
            "align_self": null,
            "border": null,
            "bottom": null,
            "display": null,
            "flex": null,
            "flex_flow": null,
            "grid_area": null,
            "grid_auto_columns": null,
            "grid_auto_flow": null,
            "grid_auto_rows": null,
            "grid_column": null,
            "grid_gap": null,
            "grid_row": null,
            "grid_template_areas": null,
            "grid_template_columns": null,
            "grid_template_rows": null,
            "height": null,
            "justify_content": null,
            "justify_items": null,
            "left": null,
            "margin": null,
            "max_height": null,
            "max_width": null,
            "min_height": null,
            "min_width": null,
            "object_fit": null,
            "object_position": null,
            "order": null,
            "overflow": null,
            "overflow_x": null,
            "overflow_y": null,
            "padding": null,
            "right": null,
            "top": null,
            "visibility": null,
            "width": null
          }
        },
        "e8622d034a144735b898d161aabf1080": {
          "model_module": "@jupyter-widgets/controls",
          "model_name": "VBoxModel",
          "state": {
            "_dom_classes": [],
            "_model_module": "@jupyter-widgets/controls",
            "_model_module_version": "1.5.0",
            "_model_name": "VBoxModel",
            "_view_count": null,
            "_view_module": "@jupyter-widgets/controls",
            "_view_module_version": "1.5.0",
            "_view_name": "VBoxView",
            "box_style": "",
            "children": [
              "IPY_MODEL_af2843e73a0048f4be9fde220a51de42",
              "IPY_MODEL_84f9b40c0e604ab59147d6b4ab1f5224"
            ],
            "layout": "IPY_MODEL_d4cff88a2d4b4b0bb2a5fc108162b55e"
          }
        },
        "ecfd199c95a44de2a1c6a23a59ca9e37": {
          "model_module": "@jupyter-widgets/base",
          "model_name": "LayoutModel",
          "state": {
            "_model_module": "@jupyter-widgets/base",
            "_model_module_version": "1.2.0",
            "_model_name": "LayoutModel",
            "_view_count": null,
            "_view_module": "@jupyter-widgets/base",
            "_view_module_version": "1.2.0",
            "_view_name": "LayoutView",
            "align_content": null,
            "align_items": null,
            "align_self": null,
            "border": null,
            "bottom": null,
            "display": null,
            "flex": null,
            "flex_flow": null,
            "grid_area": null,
            "grid_auto_columns": null,
            "grid_auto_flow": null,
            "grid_auto_rows": null,
            "grid_column": null,
            "grid_gap": null,
            "grid_row": null,
            "grid_template_areas": null,
            "grid_template_columns": null,
            "grid_template_rows": null,
            "height": null,
            "justify_content": null,
            "justify_items": null,
            "left": null,
            "margin": null,
            "max_height": null,
            "max_width": null,
            "min_height": null,
            "min_width": null,
            "object_fit": null,
            "object_position": null,
            "order": null,
            "overflow": null,
            "overflow_x": null,
            "overflow_y": null,
            "padding": null,
            "right": null,
            "top": null,
            "visibility": null,
            "width": null
          }
        },
        "ed9436f614a5484db8a4fd844ecea05b": {
          "model_module": "@jupyter-widgets/base",
          "model_name": "LayoutModel",
          "state": {
            "_model_module": "@jupyter-widgets/base",
            "_model_module_version": "1.2.0",
            "_model_name": "LayoutModel",
            "_view_count": null,
            "_view_module": "@jupyter-widgets/base",
            "_view_module_version": "1.2.0",
            "_view_name": "LayoutView",
            "align_content": null,
            "align_items": null,
            "align_self": null,
            "border": null,
            "bottom": null,
            "display": null,
            "flex": null,
            "flex_flow": null,
            "grid_area": null,
            "grid_auto_columns": null,
            "grid_auto_flow": null,
            "grid_auto_rows": null,
            "grid_column": null,
            "grid_gap": null,
            "grid_row": null,
            "grid_template_areas": null,
            "grid_template_columns": null,
            "grid_template_rows": null,
            "height": null,
            "justify_content": null,
            "justify_items": null,
            "left": null,
            "margin": null,
            "max_height": null,
            "max_width": null,
            "min_height": null,
            "min_width": null,
            "object_fit": null,
            "object_position": null,
            "order": null,
            "overflow": null,
            "overflow_x": null,
            "overflow_y": null,
            "padding": null,
            "right": null,
            "top": null,
            "visibility": null,
            "width": null
          }
        },
        "f817b1cc2aab4c8b917042f49b26b0ae": {
          "model_module": "@jupyter-widgets/controls",
          "model_name": "FloatProgressModel",
          "state": {
            "_dom_classes": [],
            "_model_module": "@jupyter-widgets/controls",
            "_model_module_version": "1.5.0",
            "_model_name": "FloatProgressModel",
            "_view_count": null,
            "_view_module": "@jupyter-widgets/controls",
            "_view_module_version": "1.5.0",
            "_view_name": "ProgressView",
            "bar_style": "",
            "description": "",
            "description_tooltip": null,
            "layout": "IPY_MODEL_bbfd6ed49b5640bda9dd4b23150b2b81",
            "max": 1,
            "min": 0,
            "orientation": "horizontal",
            "style": "IPY_MODEL_c7113eb4e7f9453aa659f775c337642d",
            "value": 1
          }
        },
        "fc2e819074cb43ce92b9d4e650a64ece": {
          "model_module": "@jupyter-widgets/controls",
          "model_name": "LabelModel",
          "state": {
            "_dom_classes": [],
            "_model_module": "@jupyter-widgets/controls",
            "_model_module_version": "1.5.0",
            "_model_name": "LabelModel",
            "_view_count": null,
            "_view_module": "@jupyter-widgets/controls",
            "_view_module_version": "1.5.0",
            "_view_name": "LabelView",
            "description": "",
            "description_tooltip": null,
            "layout": "IPY_MODEL_ed9436f614a5484db8a4fd844ecea05b",
            "placeholder": "​",
            "style": "IPY_MODEL_c6ff3fe06190463989b788dfa0e8e765",
            "value": " 0.09MB of 0.09MB uploaded (0.00MB deduped)\r"
          }
        },
        "ffee3dd2a7ad4ce9940104b87372384a": {
          "model_module": "@jupyter-widgets/controls",
          "model_name": "DescriptionStyleModel",
          "state": {
            "_model_module": "@jupyter-widgets/controls",
            "_model_module_version": "1.5.0",
            "_model_name": "DescriptionStyleModel",
            "_view_count": null,
            "_view_module": "@jupyter-widgets/base",
            "_view_module_version": "1.2.0",
            "_view_name": "StyleView",
            "description_width": ""
          }
        }
      }
    }
  },
  "nbformat": 4,
  "nbformat_minor": 0
}
