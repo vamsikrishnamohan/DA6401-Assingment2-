{
  "cells": [
    {
      "cell_type": "markdown",
      "metadata": {
        "colab_type": "text",
        "id": "view-in-github"
      },
      "source": [
        "<a href=\"https://colab.research.google.com/github/sowmyamanojna/CS6910-Deep-Learning-Assignment-2/blob/main/Part-B/Part_B.ipynb\" target=\"_parent\"><img src=\"https://colab.research.google.com/assets/colab-badge.svg\" alt=\"Open In Colab\"/></a>"
      ]
    },
    {
      "cell_type": "markdown",
      "metadata": {
        "id": "wH5KvffRmVw7"
      },
      "source": [
        "# Part-B: Using Pre-trained Networks for Image Classification\n",
        "\n",
        "## Importing necessary packages"
      ]
    },
    {
      "cell_type": "code",
      "execution_count": null,
      "metadata": {
        "id": "-LS0fc9-ZrXN"
      },
      "outputs": [],
      "source": [
        "from utils import *\n",
        "from data_loading import INaturalistDataModule"
      ]
    },
    {
      "cell_type": "code",
      "execution_count": null,
      "metadata": {
        "colab": {
          "base_uri": "https://localhost:8080/"
        },
        "id": "1K34jr47OKyM",
        "outputId": "996b6316-6481-43c5-e78d-c2ebe1a75be1"
      },
      "outputs": [
        {
          "name": "stdout",
          "output_type": "stream",
          "text": [
            "Drive already mounted at /content/drive; to attempt to forcibly remount, call drive.mount(\"/content/drive\", force_remount=True).\n"
          ]
        }
      ],
      "source": [
        "# (when using in kaggle) Load WandB API Key\n",
        "user_secrets = UserSecretsClient()\n",
        "wandb_key = user_secrets.get_secret(\"wandb\")\n",
        "wandb.login(key=wandb_key)"
      ]
    },
    {
      "cell_type": "markdown",
      "metadata": {
        "id": "fCfDj6b_ms37"
      },
      "source": [
        "## Using Pre-trained model (Resnet50) for fine tuning on the dataset\n"
      ]
    },
    {
      "cell_type": "code",
      "execution_count": null,
      "metadata": {
        "id": "z79mSMMEZ8xn"
      },
      "outputs": [],
      "source": [
        "# Define Data Transformations\n",
        "transform = transforms.Compose([\n",
        "    transforms.Resize((224, 224)),\n",
        "    transforms.ToTensor(),\n",
        "    transforms.Normalize(mean=[0.485, 0.456, 0.406], std=[0.229, 0.224, 0.225]),\n",
        "])\n",
        "\n",
        "class FineTuneModel(pl.LightningModule):\n",
        "    def __init__(self, num_classes=10, model_version=\"resnet50\", denselayer_size=128, dropout=0.4, l_rate=0.001, activation=\"relu\"):\n",
        "        super(FineTuneModel, self).__init__()\n",
        "        self.learning_rate = l_rate\n",
        "        self.activation_fn = nn.ReLU() if activation == \"relu\" else nn.LeakyReLU()\n",
        "        \n",
        "        self.model = models.__dict__[model_version](pretrained=True)\n",
        "\n",
        "        # Freeze all layers initially\n",
        "        for param in self.model.parameters():\n",
        "            param.requires_grad = False\n",
        "\n",
        "        # Modify the final classification layer\n",
        "        num_ftrs = self.model.fc.in_features\n",
        "        self.model.fc = nn.Sequential(\n",
        "            nn.Linear(num_ftrs, denselayer_size),\n",
        "            self.activation_fn,\n",
        "            nn.Dropout(dropout),\n",
        "            nn.Linear(denselayer_size, num_classes)\n",
        "        )\n",
        "\n",
        "        self.criterion = nn.CrossEntropyLoss()\n",
        "\n",
        "    def forward(self, x):\n",
        "        return self.model(x)\n",
        "\n",
        "    def training_step(self, batch, batch_idx):\n",
        "        x, y = batch\n",
        "        outputs = self(x)\n",
        "        loss = self.criterion(outputs, y)\n",
        "        acc = (outputs.argmax(dim=1) == y).float().mean()\n",
        "        self.log(\"train_loss\", loss, prog_bar=True)\n",
        "        self.log(\"train_acc\", acc, prog_bar=True)\n",
        "        return loss\n",
        "\n",
        "    def validation_step(self, batch, batch_idx):\n",
        "        x, y = batch\n",
        "        outputs = self(x)\n",
        "        loss = self.criterion(outputs, y)\n",
        "        acc = (outputs.argmax(dim=1) == y).float().mean()\n",
        "        self.log(\"val_loss\", loss, prog_bar=True)\n",
        "        self.log(\"val_acc\", acc, prog_bar=True)\n",
        "\n",
        "    def test_step(self, batch, batch_idx):\n",
        "        x, y = batch\n",
        "        outputs = self(x)\n",
        "        loss = self.criterion(outputs, y)\n",
        "        acc = (outputs.argmax(dim=1) == y).float().mean()\n",
        "        self.log(\"test_loss\", loss, prog_bar=True)\n",
        "        self.log(\"test_acc\", acc, prog_bar=True)\n",
        "        return loss\n",
        "\n",
        "    def configure_optimizers(self):\n",
        "        optimizer = optim.Adam(self.model.parameters(), lr=self.learning_rate)\n",
        "        return optimizer"
      ]
    },
    {
      "cell_type": "markdown",
      "metadata": {
        "id": "398qbI77m5pt"
      },
      "source": [
        "## Train with wandb config\n"
      ]
    },
    {
      "cell_type": "code",
      "execution_count": null,
      "metadata": {
        "id": "MCTRL1QdOGxX"
      },
      "outputs": [],
      "source": [
        "###############################################\n",
        "# Listing the hyperparameters in wandb config \n",
        "###############################################\n",
        "sweep_config = {\n",
        "    \"method\": \"grid\",\n",
        "    \"metric\": {\"name\": \"val_acc\", \"goal\": \"maximize\"},\n",
        "    \"parameters\": {\n",
        "        \"epochs\": {\"values\": [5]},\n",
        "        \"batch_size\": {\"values\": [64, 128]},\n",
        "        \"denselayer_size\": {\"values\": [64, 128]},\n",
        "        \"l_rate\": {\"values\": [0.001, 0.0001]},\n",
        "        \"optimizer\": {\"values\": [\"Adam\"]},\n",
        "        \"dropout\": {\"values\": [0.2, 0.4]},\n",
        "        \"model_version\": {\"values\": [\"resnet50\"]},\n",
        "        \"activation\": {\"values\": [\"relu\", \"leakyrelu\"]}\n",
        "    }\n",
        "}"
      ]
    },
    {
      "cell_type": "code",
      "execution_count": null,
      "metadata": {},
      "outputs": [],
      "source": [
        "# Training Function for WandB Sweeps\n",
        "def train():\n",
        "    wandb.init()\n",
        "\n",
        "    # Fetch hyperparameters\n",
        "    config = wandb.config\n",
        "    batch_size = config.batch_size\n",
        "    epochs = config.epochs\n",
        "    model_version = config.model_version\n",
        "    denselayer_size = config.denselayer_size\n",
        "    dropout = config.dropout\n",
        "    l_rate = config.l_rate\n",
        "    activation = config.activation\n",
        "\n",
        "    # Load Data\n",
        "    data_module = INaturalistDataModule(\n",
        "        data_dir='/kaggle/input/inaturalist-dataset/inaturalist_12K',\n",
        "        batch_size=batch_size\n",
        "    )\n",
        "    data_module.setup()\n",
        "    train_loader = data_module.train_dataloader()\n",
        "    val_loader = data_module.val_dataloader()\n",
        "    test_loader = data_module.test_dataloader()\n",
        "\n",
        "    # Initialize Model\n",
        "    model = FineTuneModel(num_classes=10, model_version=model_version, denselayer_size=denselayer_size, dropout=dropout,\n",
        "                          l_rate=l_rate, activation=activation)\n",
        "\n",
        "    # Set up WandB Logger\n",
        "    wandb_logger = WandbLogger(project=\"Pretrained_Resnet50-Model\")\n",
        "\n",
        "    # Train Model\n",
        "    trainer = pl.Trainer(\n",
        "        max_epochs=epochs,\n",
        "        logger=wandb_logger,\n",
        "        accelerator=\"gpu\" if torch.cuda.is_available() else \"cpu\"\n",
        "    )\n",
        "    trainer.fit(model, train_loader, val_loader)\n",
        "\n",
        "    # Test Best Model\n",
        "    trainer.test(model, test_loader)\n",
        "\n"
      ]
    },
    {
      "cell_type": "code",
      "execution_count": null,
      "metadata": {
        "colab": {
          "base_uri": "https://localhost:8080/",
          "height": 1000,
          "referenced_widgets": [
            "5d1a64870aa84e80a3d1768136f0cd59",
            "feb3034dc5be441f9bf48dfe145f9423",
            "489af449916c44e3896faabeb2d47237",
            "99698415c5254e69ba9c16c5688c12af",
            "8dbc323b6029476093c588c7ab3b8cb3",
            "a65c254422764d20afedf642b5236c47",
            "c7dd7a7141564e84b85e5a7594754728",
            "0506221511b042cfb3a51d2c3b004324",
            "558855d4469747b78cbcf8e283838f52",
            "12a0bacf188649349a6225dcd28db735",
            "8a964458e32f427a882486dc4292d152",
            "1fe62f8021fd47da8c0fc4a15823e874",
            "04e95a84082f467aa8331235763ab9e2",
            "26df6abf4e7845aa88d200cfdbf364ff",
            "77d981ecdb824a87aed700dc543467aa",
            "0b83e8b9eb8f40729206f222e8fcaea7"
          ]
        },
        "id": "7S7jQHRdqSYR",
        "outputId": "a617bae6-b4ef-4a0a-de0c-8ad524d8f669"
      },
      "outputs": [],
      "source": [
        "#################################\n",
        "# Setting up wandb sweeps\n",
        "#################################\n",
        "sweep_id = wandb.sweep(sweep_config, project=\"Pretrained_Resnet50-Model\")# Run the Sweep Agent\n",
        "wandb.agent(sweep_id, function=train, count=20)"
      ]
    },
    {
      "cell_type": "code",
      "execution_count": null,
      "metadata": {
        "id": "9pWjrCXM83Wb"
      },
      "outputs": [],
      "source": []
    }
  ],
  "metadata": {
    "accelerator": "GPU",
    "colab": {
      "authorship_tag": "ABX9TyNJ6f2U6MH1QnqInUPsI8dd",
      "collapsed_sections": [
        "Oc0n3DwLmlWE",
        "fCfDj6b_ms37",
        "C6U8E0zNm2fM",
        "398qbI77m5pt"
      ],
      "include_colab_link": true,
      "name": "Part-B.ipynb",
      "provenance": [],
      "toc_visible": true
    },
    "kernelspec": {
      "display_name": "Python 3",
      "name": "python3"
    },
    "language_info": {
      "name": "python"
    },
    "widgets": {
      "application/vnd.jupyter.widget-state+json": {
        "04e95a84082f467aa8331235763ab9e2": {
          "model_module": "@jupyter-widgets/controls",
          "model_name": "VBoxModel",
          "state": {
            "_dom_classes": [],
            "_model_module": "@jupyter-widgets/controls",
            "_model_module_version": "1.5.0",
            "_model_name": "VBoxModel",
            "_view_count": null,
            "_view_module": "@jupyter-widgets/controls",
            "_view_module_version": "1.5.0",
            "_view_name": "VBoxView",
            "box_style": "",
            "children": [
              "IPY_MODEL_774faaa5aebe4f5a8878b90dea6c75d5",
              "IPY_MODEL_09e8afa915b448c68256c8062b0cbdb5"
            ],
            "layout": "IPY_MODEL_9852890eb1a841c4a7ea68845f1ff27c"
          }
        },
        "0506221511b042cfb3a51d2c3b004324": {
          "model_module": "@jupyter-widgets/controls",
          "model_name": "VBoxModel",
          "state": {
            "_dom_classes": [],
            "_model_module": "@jupyter-widgets/controls",
            "_model_module_version": "1.5.0",
            "_model_name": "VBoxModel",
            "_view_count": null,
            "_view_module": "@jupyter-widgets/controls",
            "_view_module_version": "1.5.0",
            "_view_name": "VBoxView",
            "box_style": "",
            "children": [
              "IPY_MODEL_8fe3189c1ad84110a8d9cfaa48470c8c",
              "IPY_MODEL_8dc7264ef47d4265a65f0010cb033a36"
            ],
            "layout": "IPY_MODEL_bb93f1a26fe549a4864d2031f6283b6e"
          }
        },
        "0b83e8b9eb8f40729206f222e8fcaea7": {
          "model_module": "@jupyter-widgets/controls",
          "model_name": "VBoxModel",
          "state": {
            "_dom_classes": [],
            "_model_module": "@jupyter-widgets/controls",
            "_model_module_version": "1.5.0",
            "_model_name": "VBoxModel",
            "_view_count": null,
            "_view_module": "@jupyter-widgets/controls",
            "_view_module_version": "1.5.0",
            "_view_name": "VBoxView",
            "box_style": "",
            "children": [
              "IPY_MODEL_d0713c58cf5640928b48fe65ab30f5f1",
              "IPY_MODEL_0ea559609e3b4e69961ee0129ea71f6e"
            ],
            "layout": "IPY_MODEL_0d57d0357a394c33a2f72a419b9c5d83"
          }
        },
        "12a0bacf188649349a6225dcd28db735": {
          "model_module": "@jupyter-widgets/controls",
          "model_name": "VBoxModel",
          "state": {
            "_dom_classes": [],
            "_model_module": "@jupyter-widgets/controls",
            "_model_module_version": "1.5.0",
            "_model_name": "VBoxModel",
            "_view_count": null,
            "_view_module": "@jupyter-widgets/controls",
            "_view_module_version": "1.5.0",
            "_view_name": "VBoxView",
            "box_style": "",
            "children": [
              "IPY_MODEL_8ae5d09612234e21b3a5052f56c38887",
              "IPY_MODEL_600465a64d4d44cc97b7d8cf1c3fcac3"
            ],
            "layout": "IPY_MODEL_f488626d281445ae91821a8543543bad"
          }
        },
        "1fe62f8021fd47da8c0fc4a15823e874": {
          "model_module": "@jupyter-widgets/controls",
          "model_name": "VBoxModel",
          "state": {
            "_dom_classes": [],
            "_model_module": "@jupyter-widgets/controls",
            "_model_module_version": "1.5.0",
            "_model_name": "VBoxModel",
            "_view_count": null,
            "_view_module": "@jupyter-widgets/controls",
            "_view_module_version": "1.5.0",
            "_view_name": "VBoxView",
            "box_style": "",
            "children": [
              "IPY_MODEL_bd8996ddd49340c1877e92a962d0d5af",
              "IPY_MODEL_ded17a6b36204f95877994ec00feb2de"
            ],
            "layout": "IPY_MODEL_bf8aae7a743c4adda0f68ac03bb5f5af"
          }
        },
        "26df6abf4e7845aa88d200cfdbf364ff": {
          "model_module": "@jupyter-widgets/controls",
          "model_name": "VBoxModel",
          "state": {
            "_dom_classes": [],
            "_model_module": "@jupyter-widgets/controls",
            "_model_module_version": "1.5.0",
            "_model_name": "VBoxModel",
            "_view_count": null,
            "_view_module": "@jupyter-widgets/controls",
            "_view_module_version": "1.5.0",
            "_view_name": "VBoxView",
            "box_style": "",
            "children": [
              "IPY_MODEL_8f3e2b8dc2eb4c558d5cd3ec83201a83",
              "IPY_MODEL_951e88576c9649049aa0cc1d73f185d1"
            ],
            "layout": "IPY_MODEL_d82bd6a6635b487e8e75f220ff746465"
          }
        },
        "489af449916c44e3896faabeb2d47237": {
          "model_module": "@jupyter-widgets/controls",
          "model_name": "VBoxModel",
          "state": {
            "_dom_classes": [],
            "_model_module": "@jupyter-widgets/controls",
            "_model_module_version": "1.5.0",
            "_model_name": "VBoxModel",
            "_view_count": null,
            "_view_module": "@jupyter-widgets/controls",
            "_view_module_version": "1.5.0",
            "_view_name": "VBoxView",
            "box_style": "",
            "children": [
              "IPY_MODEL_673f35cfaacb4fe19187067749a29fbc",
              "IPY_MODEL_7e015cc9a508444e967c5c35f1ed7b75"
            ],
            "layout": "IPY_MODEL_1cfe7310d14847d48fd7687079a0d7c7"
          }
        },
        "558855d4469747b78cbcf8e283838f52": {
          "model_module": "@jupyter-widgets/controls",
          "model_name": "VBoxModel",
          "state": {
            "_dom_classes": [],
            "_model_module": "@jupyter-widgets/controls",
            "_model_module_version": "1.5.0",
            "_model_name": "VBoxModel",
            "_view_count": null,
            "_view_module": "@jupyter-widgets/controls",
            "_view_module_version": "1.5.0",
            "_view_name": "VBoxView",
            "box_style": "",
            "children": [
              "IPY_MODEL_f65bb334bb3245ddb9bdc5d63f6c748b",
              "IPY_MODEL_dcbfd311609b4429b95a9d9b7ff837fc"
            ],
            "layout": "IPY_MODEL_5c5bf882fe6645d4b75ef4933858934b"
          }
        },
        "5d1a64870aa84e80a3d1768136f0cd59": {
          "model_module": "@jupyter-widgets/controls",
          "model_name": "VBoxModel",
          "state": {
            "_dom_classes": [],
            "_model_module": "@jupyter-widgets/controls",
            "_model_module_version": "1.5.0",
            "_model_name": "VBoxModel",
            "_view_count": null,
            "_view_module": "@jupyter-widgets/controls",
            "_view_module_version": "1.5.0",
            "_view_name": "VBoxView",
            "box_style": "",
            "children": [
              "IPY_MODEL_813eb925548f4b1d982574e13c78e7b9",
              "IPY_MODEL_2c5af1dfa64c4e51951c4442c25b7f69"
            ],
            "layout": "IPY_MODEL_72b01ed312c54d66b7e426017cdae283"
          }
        },
        "77d981ecdb824a87aed700dc543467aa": {
          "model_module": "@jupyter-widgets/controls",
          "model_name": "VBoxModel",
          "state": {
            "_dom_classes": [],
            "_model_module": "@jupyter-widgets/controls",
            "_model_module_version": "1.5.0",
            "_model_name": "VBoxModel",
            "_view_count": null,
            "_view_module": "@jupyter-widgets/controls",
            "_view_module_version": "1.5.0",
            "_view_name": "VBoxView",
            "box_style": "",
            "children": [
              "IPY_MODEL_dfc54fb2f4134caabce0401bd60f795e",
              "IPY_MODEL_ccd627fa8c5446d084663d35e4adf846"
            ],
            "layout": "IPY_MODEL_9dc068bb77d847c29f6352f8c4455bf0"
          }
        },
        "8a964458e32f427a882486dc4292d152": {
          "model_module": "@jupyter-widgets/controls",
          "model_name": "VBoxModel",
          "state": {
            "_dom_classes": [],
            "_model_module": "@jupyter-widgets/controls",
            "_model_module_version": "1.5.0",
            "_model_name": "VBoxModel",
            "_view_count": null,
            "_view_module": "@jupyter-widgets/controls",
            "_view_module_version": "1.5.0",
            "_view_name": "VBoxView",
            "box_style": "",
            "children": [
              "IPY_MODEL_a36317a1bdf64edc908cded8100efd19",
              "IPY_MODEL_c0a889edd4e846f68d46060b43d6cdbb"
            ],
            "layout": "IPY_MODEL_abd20b91a05946419212124ddec80d16"
          }
        },
        "8dbc323b6029476093c588c7ab3b8cb3": {
          "model_module": "@jupyter-widgets/controls",
          "model_name": "VBoxModel",
          "state": {
            "_dom_classes": [],
            "_model_module": "@jupyter-widgets/controls",
            "_model_module_version": "1.5.0",
            "_model_name": "VBoxModel",
            "_view_count": null,
            "_view_module": "@jupyter-widgets/controls",
            "_view_module_version": "1.5.0",
            "_view_name": "VBoxView",
            "box_style": "",
            "children": [
              "IPY_MODEL_d6f8e325a5ba4832b8ffa4ac0fedd15c",
              "IPY_MODEL_9f40fbcd5f5c4cc68b36273377fdedff"
            ],
            "layout": "IPY_MODEL_5540136ce8df49d4a500a100bcab719e"
          }
        },
        "99698415c5254e69ba9c16c5688c12af": {
          "model_module": "@jupyter-widgets/controls",
          "model_name": "VBoxModel",
          "state": {
            "_dom_classes": [],
            "_model_module": "@jupyter-widgets/controls",
            "_model_module_version": "1.5.0",
            "_model_name": "VBoxModel",
            "_view_count": null,
            "_view_module": "@jupyter-widgets/controls",
            "_view_module_version": "1.5.0",
            "_view_name": "VBoxView",
            "box_style": "",
            "children": [
              "IPY_MODEL_f69b4cfefa6d4ea787e84eeae1e0ac30",
              "IPY_MODEL_29feeb4b1992434f8740b66da6e454fa"
            ],
            "layout": "IPY_MODEL_a80bc726ec0841bc9eb6086fe87ed8b4"
          }
        },
        "a65c254422764d20afedf642b5236c47": {
          "model_module": "@jupyter-widgets/controls",
          "model_name": "VBoxModel",
          "state": {
            "_dom_classes": [],
            "_model_module": "@jupyter-widgets/controls",
            "_model_module_version": "1.5.0",
            "_model_name": "VBoxModel",
            "_view_count": null,
            "_view_module": "@jupyter-widgets/controls",
            "_view_module_version": "1.5.0",
            "_view_name": "VBoxView",
            "box_style": "",
            "children": [
              "IPY_MODEL_9bdc723bc8c742a4a467e3c1143b17ad",
              "IPY_MODEL_1e47d606afe64471aca6d43016375a47"
            ],
            "layout": "IPY_MODEL_23f8479a4fef450cb110ea6fb0e9b467"
          }
        },
        "c7dd7a7141564e84b85e5a7594754728": {
          "model_module": "@jupyter-widgets/controls",
          "model_name": "VBoxModel",
          "state": {
            "_dom_classes": [],
            "_model_module": "@jupyter-widgets/controls",
            "_model_module_version": "1.5.0",
            "_model_name": "VBoxModel",
            "_view_count": null,
            "_view_module": "@jupyter-widgets/controls",
            "_view_module_version": "1.5.0",
            "_view_name": "VBoxView",
            "box_style": "",
            "children": [
              "IPY_MODEL_03b870ea297445ad93b8458599077cbc",
              "IPY_MODEL_bef23e87c35242798e163870dcee6d57"
            ],
            "layout": "IPY_MODEL_d1d03a32077f404b9dcc1c7bc762a4fe"
          }
        },
        "feb3034dc5be441f9bf48dfe145f9423": {
          "model_module": "@jupyter-widgets/controls",
          "model_name": "VBoxModel",
          "state": {
            "_dom_classes": [],
            "_model_module": "@jupyter-widgets/controls",
            "_model_module_version": "1.5.0",
            "_model_name": "VBoxModel",
            "_view_count": null,
            "_view_module": "@jupyter-widgets/controls",
            "_view_module_version": "1.5.0",
            "_view_name": "VBoxView",
            "box_style": "",
            "children": [
              "IPY_MODEL_e2946ae89983440a9c3aa98e8256003e",
              "IPY_MODEL_e2bd357b445944239fa61e6665f9d9ed"
            ],
            "layout": "IPY_MODEL_0585a9cc5fe544ceaeaae78f61020f69"
          }
        }
      }
    }
  },
  "nbformat": 4,
  "nbformat_minor": 0
}
